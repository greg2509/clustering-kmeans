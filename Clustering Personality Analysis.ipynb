{
  "cells": [
    {
      "cell_type": "markdown",
      "metadata": {
        "id": "VU8TAqeC1zhT"
      },
      "source": [
        "pengumpulan pertama hari h uas <br>\n",
        "bisa diperbaiki sampai presentasi project <br>\n",
        "\n",
        "presentasi antara 26-30, online, 15 menit udh presentasi sama tanya jawab <br>\n",
        "\n",
        "nanti ada notebook referensi"
      ]
    },
    {
      "cell_type": "markdown",
      "metadata": {
        "id": "tUdoimlaCTyX"
      },
      "source": [
        "pengumpulan pertama hari h uas <br>\n",
        "bisa diperbaiki sampai presentasi project <br>\n",
        "\n",
        "presentasi antara 26-30, online, 15 menit udh presentasi sama tanya jawab <br>\n",
        "\n",
        "nanti ada notebook referensi"
      ]
    },
    {
      "cell_type": "markdown",
      "metadata": {
        "id": "T7AQu5WtCTyd"
      },
      "source": [
        "# **Permasalahan dan Tujuan Project**\n",
        "\n",
        "Dataset berisi informasi mengenai identitas dan perilaku pelanggan. Tujuan dari project ini adalah untuk melakuan clustering berdasarkan perilaku pelanggan, kemudian menentukan identitas pelanggan dari cluster-cluster yang terbentuk, serta mencari produk mana saja yang paling banyak dan paling sedikit terjual untuk masing-masing cluster"
      ]
    },
    {
      "cell_type": "markdown",
      "metadata": {
        "id": "pSUjMcMMCTyd"
      },
      "source": [
        "## **1. DOWNLOAD DATASET**"
      ]
    },
    {
      "cell_type": "code",
      "execution_count": null,
      "metadata": {
        "colab": {
          "base_uri": "https://localhost:8080/"
        },
        "id": "ixnUzB5RCTyd",
        "outputId": "cfef2016-d119-4f11-b6bf-00120d262892"
      },
      "outputs": [
        {
          "output_type": "stream",
          "name": "stdout",
          "text": [
            "--2022-12-28 03:50:37--  https://raw.githubusercontent.com/RafiIndra/Dataset/main/marketing_campaign.csv\n",
            "Resolving raw.githubusercontent.com (raw.githubusercontent.com)... 185.199.111.133, 185.199.109.133, 185.199.110.133, ...\n",
            "Connecting to raw.githubusercontent.com (raw.githubusercontent.com)|185.199.111.133|:443... connected.\n",
            "HTTP request sent, awaiting response... 200 OK\n",
            "Length: 220188 (215K) [text/plain]\n",
            "Saving to: ‘marketing_campaign.csv.1’\n",
            "\n",
            "\rmarketing_campaign.   0%[                    ]       0  --.-KB/s               \rmarketing_campaign. 100%[===================>] 215.03K  --.-KB/s    in 0.03s   \n",
            "\n",
            "2022-12-28 03:50:37 (8.02 MB/s) - ‘marketing_campaign.csv.1’ saved [220188/220188]\n",
            "\n"
          ]
        }
      ],
      "source": [
        "import pandas as pd\n",
        "import numpy as np\n",
        "\n",
        "!wget https://raw.githubusercontent.com/RafiIndra/Dataset/main/marketing_campaign.csv"
      ]
    },
    {
      "cell_type": "markdown",
      "metadata": {
        "id": "PkmMkd0fCTyd"
      },
      "source": [
        "## **2. READ AND STORE DATASET**"
      ]
    },
    {
      "cell_type": "code",
      "execution_count": null,
      "metadata": {
        "colab": {
          "base_uri": "https://localhost:8080/",
          "height": 299
        },
        "id": "5Ohg2zB-CTyd",
        "outputId": "2d676331-f121-4f7f-e6cc-20f90fcb1637"
      },
      "outputs": [
        {
          "output_type": "execute_result",
          "data": {
            "text/plain": [
              "     ID  Year_Birth   Education Marital_Status   Income  Kidhome  Teenhome  \\\n",
              "0  5524        1957  Graduation         Single  58138.0        0         0   \n",
              "1  2174        1954  Graduation         Single  46344.0        1         1   \n",
              "2  4141        1965  Graduation       Together  71613.0        0         0   \n",
              "3  6182        1984  Graduation       Together  26646.0        1         0   \n",
              "4  5324        1981         PhD        Married  58293.0        1         0   \n",
              "\n",
              "  Dt_Customer  Recency  MntWines  ...  NumWebVisitsMonth  AcceptedCmp3  \\\n",
              "0  04-09-2012       58       635  ...                  7             0   \n",
              "1  08-03-2014       38        11  ...                  5             0   \n",
              "2  21-08-2013       26       426  ...                  4             0   \n",
              "3  10-02-2014       26        11  ...                  6             0   \n",
              "4  19-01-2014       94       173  ...                  5             0   \n",
              "\n",
              "   AcceptedCmp4  AcceptedCmp5  AcceptedCmp1  AcceptedCmp2  Complain  \\\n",
              "0             0             0             0             0         0   \n",
              "1             0             0             0             0         0   \n",
              "2             0             0             0             0         0   \n",
              "3             0             0             0             0         0   \n",
              "4             0             0             0             0         0   \n",
              "\n",
              "   Z_CostContact  Z_Revenue  Response  \n",
              "0              3         11         1  \n",
              "1              3         11         0  \n",
              "2              3         11         0  \n",
              "3              3         11         0  \n",
              "4              3         11         0  \n",
              "\n",
              "[5 rows x 29 columns]"
            ],
            "text/html": [
              "\n",
              "  <div id=\"df-77a4520f-a710-4dd9-b2d2-7b24b515b8ed\">\n",
              "    <div class=\"colab-df-container\">\n",
              "      <div>\n",
              "<style scoped>\n",
              "    .dataframe tbody tr th:only-of-type {\n",
              "        vertical-align: middle;\n",
              "    }\n",
              "\n",
              "    .dataframe tbody tr th {\n",
              "        vertical-align: top;\n",
              "    }\n",
              "\n",
              "    .dataframe thead th {\n",
              "        text-align: right;\n",
              "    }\n",
              "</style>\n",
              "<table border=\"1\" class=\"dataframe\">\n",
              "  <thead>\n",
              "    <tr style=\"text-align: right;\">\n",
              "      <th></th>\n",
              "      <th>ID</th>\n",
              "      <th>Year_Birth</th>\n",
              "      <th>Education</th>\n",
              "      <th>Marital_Status</th>\n",
              "      <th>Income</th>\n",
              "      <th>Kidhome</th>\n",
              "      <th>Teenhome</th>\n",
              "      <th>Dt_Customer</th>\n",
              "      <th>Recency</th>\n",
              "      <th>MntWines</th>\n",
              "      <th>...</th>\n",
              "      <th>NumWebVisitsMonth</th>\n",
              "      <th>AcceptedCmp3</th>\n",
              "      <th>AcceptedCmp4</th>\n",
              "      <th>AcceptedCmp5</th>\n",
              "      <th>AcceptedCmp1</th>\n",
              "      <th>AcceptedCmp2</th>\n",
              "      <th>Complain</th>\n",
              "      <th>Z_CostContact</th>\n",
              "      <th>Z_Revenue</th>\n",
              "      <th>Response</th>\n",
              "    </tr>\n",
              "  </thead>\n",
              "  <tbody>\n",
              "    <tr>\n",
              "      <th>0</th>\n",
              "      <td>5524</td>\n",
              "      <td>1957</td>\n",
              "      <td>Graduation</td>\n",
              "      <td>Single</td>\n",
              "      <td>58138.0</td>\n",
              "      <td>0</td>\n",
              "      <td>0</td>\n",
              "      <td>04-09-2012</td>\n",
              "      <td>58</td>\n",
              "      <td>635</td>\n",
              "      <td>...</td>\n",
              "      <td>7</td>\n",
              "      <td>0</td>\n",
              "      <td>0</td>\n",
              "      <td>0</td>\n",
              "      <td>0</td>\n",
              "      <td>0</td>\n",
              "      <td>0</td>\n",
              "      <td>3</td>\n",
              "      <td>11</td>\n",
              "      <td>1</td>\n",
              "    </tr>\n",
              "    <tr>\n",
              "      <th>1</th>\n",
              "      <td>2174</td>\n",
              "      <td>1954</td>\n",
              "      <td>Graduation</td>\n",
              "      <td>Single</td>\n",
              "      <td>46344.0</td>\n",
              "      <td>1</td>\n",
              "      <td>1</td>\n",
              "      <td>08-03-2014</td>\n",
              "      <td>38</td>\n",
              "      <td>11</td>\n",
              "      <td>...</td>\n",
              "      <td>5</td>\n",
              "      <td>0</td>\n",
              "      <td>0</td>\n",
              "      <td>0</td>\n",
              "      <td>0</td>\n",
              "      <td>0</td>\n",
              "      <td>0</td>\n",
              "      <td>3</td>\n",
              "      <td>11</td>\n",
              "      <td>0</td>\n",
              "    </tr>\n",
              "    <tr>\n",
              "      <th>2</th>\n",
              "      <td>4141</td>\n",
              "      <td>1965</td>\n",
              "      <td>Graduation</td>\n",
              "      <td>Together</td>\n",
              "      <td>71613.0</td>\n",
              "      <td>0</td>\n",
              "      <td>0</td>\n",
              "      <td>21-08-2013</td>\n",
              "      <td>26</td>\n",
              "      <td>426</td>\n",
              "      <td>...</td>\n",
              "      <td>4</td>\n",
              "      <td>0</td>\n",
              "      <td>0</td>\n",
              "      <td>0</td>\n",
              "      <td>0</td>\n",
              "      <td>0</td>\n",
              "      <td>0</td>\n",
              "      <td>3</td>\n",
              "      <td>11</td>\n",
              "      <td>0</td>\n",
              "    </tr>\n",
              "    <tr>\n",
              "      <th>3</th>\n",
              "      <td>6182</td>\n",
              "      <td>1984</td>\n",
              "      <td>Graduation</td>\n",
              "      <td>Together</td>\n",
              "      <td>26646.0</td>\n",
              "      <td>1</td>\n",
              "      <td>0</td>\n",
              "      <td>10-02-2014</td>\n",
              "      <td>26</td>\n",
              "      <td>11</td>\n",
              "      <td>...</td>\n",
              "      <td>6</td>\n",
              "      <td>0</td>\n",
              "      <td>0</td>\n",
              "      <td>0</td>\n",
              "      <td>0</td>\n",
              "      <td>0</td>\n",
              "      <td>0</td>\n",
              "      <td>3</td>\n",
              "      <td>11</td>\n",
              "      <td>0</td>\n",
              "    </tr>\n",
              "    <tr>\n",
              "      <th>4</th>\n",
              "      <td>5324</td>\n",
              "      <td>1981</td>\n",
              "      <td>PhD</td>\n",
              "      <td>Married</td>\n",
              "      <td>58293.0</td>\n",
              "      <td>1</td>\n",
              "      <td>0</td>\n",
              "      <td>19-01-2014</td>\n",
              "      <td>94</td>\n",
              "      <td>173</td>\n",
              "      <td>...</td>\n",
              "      <td>5</td>\n",
              "      <td>0</td>\n",
              "      <td>0</td>\n",
              "      <td>0</td>\n",
              "      <td>0</td>\n",
              "      <td>0</td>\n",
              "      <td>0</td>\n",
              "      <td>3</td>\n",
              "      <td>11</td>\n",
              "      <td>0</td>\n",
              "    </tr>\n",
              "  </tbody>\n",
              "</table>\n",
              "<p>5 rows × 29 columns</p>\n",
              "</div>\n",
              "      <button class=\"colab-df-convert\" onclick=\"convertToInteractive('df-77a4520f-a710-4dd9-b2d2-7b24b515b8ed')\"\n",
              "              title=\"Convert this dataframe to an interactive table.\"\n",
              "              style=\"display:none;\">\n",
              "        \n",
              "  <svg xmlns=\"http://www.w3.org/2000/svg\" height=\"24px\"viewBox=\"0 0 24 24\"\n",
              "       width=\"24px\">\n",
              "    <path d=\"M0 0h24v24H0V0z\" fill=\"none\"/>\n",
              "    <path d=\"M18.56 5.44l.94 2.06.94-2.06 2.06-.94-2.06-.94-.94-2.06-.94 2.06-2.06.94zm-11 1L8.5 8.5l.94-2.06 2.06-.94-2.06-.94L8.5 2.5l-.94 2.06-2.06.94zm10 10l.94 2.06.94-2.06 2.06-.94-2.06-.94-.94-2.06-.94 2.06-2.06.94z\"/><path d=\"M17.41 7.96l-1.37-1.37c-.4-.4-.92-.59-1.43-.59-.52 0-1.04.2-1.43.59L10.3 9.45l-7.72 7.72c-.78.78-.78 2.05 0 2.83L4 21.41c.39.39.9.59 1.41.59.51 0 1.02-.2 1.41-.59l7.78-7.78 2.81-2.81c.8-.78.8-2.07 0-2.86zM5.41 20L4 18.59l7.72-7.72 1.47 1.35L5.41 20z\"/>\n",
              "  </svg>\n",
              "      </button>\n",
              "      \n",
              "  <style>\n",
              "    .colab-df-container {\n",
              "      display:flex;\n",
              "      flex-wrap:wrap;\n",
              "      gap: 12px;\n",
              "    }\n",
              "\n",
              "    .colab-df-convert {\n",
              "      background-color: #E8F0FE;\n",
              "      border: none;\n",
              "      border-radius: 50%;\n",
              "      cursor: pointer;\n",
              "      display: none;\n",
              "      fill: #1967D2;\n",
              "      height: 32px;\n",
              "      padding: 0 0 0 0;\n",
              "      width: 32px;\n",
              "    }\n",
              "\n",
              "    .colab-df-convert:hover {\n",
              "      background-color: #E2EBFA;\n",
              "      box-shadow: 0px 1px 2px rgba(60, 64, 67, 0.3), 0px 1px 3px 1px rgba(60, 64, 67, 0.15);\n",
              "      fill: #174EA6;\n",
              "    }\n",
              "\n",
              "    [theme=dark] .colab-df-convert {\n",
              "      background-color: #3B4455;\n",
              "      fill: #D2E3FC;\n",
              "    }\n",
              "\n",
              "    [theme=dark] .colab-df-convert:hover {\n",
              "      background-color: #434B5C;\n",
              "      box-shadow: 0px 1px 3px 1px rgba(0, 0, 0, 0.15);\n",
              "      filter: drop-shadow(0px 1px 2px rgba(0, 0, 0, 0.3));\n",
              "      fill: #FFFFFF;\n",
              "    }\n",
              "  </style>\n",
              "\n",
              "      <script>\n",
              "        const buttonEl =\n",
              "          document.querySelector('#df-77a4520f-a710-4dd9-b2d2-7b24b515b8ed button.colab-df-convert');\n",
              "        buttonEl.style.display =\n",
              "          google.colab.kernel.accessAllowed ? 'block' : 'none';\n",
              "\n",
              "        async function convertToInteractive(key) {\n",
              "          const element = document.querySelector('#df-77a4520f-a710-4dd9-b2d2-7b24b515b8ed');\n",
              "          const dataTable =\n",
              "            await google.colab.kernel.invokeFunction('convertToInteractive',\n",
              "                                                     [key], {});\n",
              "          if (!dataTable) return;\n",
              "\n",
              "          const docLinkHtml = 'Like what you see? Visit the ' +\n",
              "            '<a target=\"_blank\" href=https://colab.research.google.com/notebooks/data_table.ipynb>data table notebook</a>'\n",
              "            + ' to learn more about interactive tables.';\n",
              "          element.innerHTML = '';\n",
              "          dataTable['output_type'] = 'display_data';\n",
              "          await google.colab.output.renderOutput(dataTable, element);\n",
              "          const docLink = document.createElement('div');\n",
              "          docLink.innerHTML = docLinkHtml;\n",
              "          element.appendChild(docLink);\n",
              "        }\n",
              "      </script>\n",
              "    </div>\n",
              "  </div>\n",
              "  "
            ]
          },
          "metadata": {},
          "execution_count": 20
        }
      ],
      "source": [
        "df = pd.read_csv(\"marketing_campaign.csv\", sep=\"\t\")\n",
        "df.head()"
      ]
    },
    {
      "cell_type": "markdown",
      "metadata": {
        "id": "eMH8mJIvCTye"
      },
      "source": [
        "### **DATA DICTIONARY**\n",
        "<table>\n",
        "  <tr>\n",
        "    <th>no</th>\n",
        "    <th>Column</th>\n",
        "    <th>Types</th>\n",
        "    <th>Desc</th>\n",
        "  </tr>\n",
        "  <tr>\n",
        "    <td>1</td>\n",
        "    <td>ID</td>\n",
        "    <td>int64</td>\n",
        "    <td>Customer's unique identifier</td>\n",
        "  </tr>\n",
        "  <tr>\n",
        "    <td>2</td>\n",
        "    <td>Year_Birth</td>\n",
        "    <td>int64</td>\n",
        "    <td>Customer's birth year</td>\n",
        "  </tr>\n",
        "  <tr>\n",
        "    <td>3</td>\n",
        "    <td>Education</td>\n",
        "    <td>object</td>\n",
        "    <td>Customer's education level</td>\n",
        "  </tr>\n",
        "  <tr>\n",
        "    <td>4</td>\n",
        "    <td>Marital_Status</td>\n",
        "    <td>object</td>\n",
        "    <td>Customer's marital status</td>\n",
        "  </tr>\n",
        "  <tr>\n",
        "    <td>5</td>\n",
        "    <td>Income</td>\n",
        "    <td>float64</td>\n",
        "    <td>Customer's yearly household income</td>\n",
        "  </tr>\n",
        "  <tr>\n",
        "    <td>6</td>\n",
        "    <td>Kidhome</td>\n",
        "    <td>int64</td>\n",
        "    <td>Number of children in customer's household</td>\n",
        "  </tr>\n",
        "  <tr>\n",
        "    <td>7</td>\n",
        "    <td>Teenhome</td>\n",
        "    <td>int64</td>\n",
        "    <td>Number of teenagers in customer's household</td>\n",
        "  </tr>\n",
        "  <tr>\n",
        "    <td>8</td>\n",
        "    <td>Dt_Customer</td>\n",
        "    <td>int64</td>\n",
        "    <td>Date of customer's enrollment with the company</td>\n",
        "  </tr>\n",
        "  <tr>\n",
        "    <td>9</td>\n",
        "    <td>Recency</td>\n",
        "    <td>int64</td>\n",
        "    <td>Number of days since customer's last purchase</td>\n",
        "  </tr>\n",
        "  <tr>\n",
        "    <td>10</td>\n",
        "    <td>Complain</td>\n",
        "    <td>int64</td>\n",
        "    <td>1 if the customer complained in the last 2 years, 0 otherwise</td>\n",
        "  </tr>\n",
        "  <tr>\n",
        "    <td>11</td>\n",
        "    <td>MntWines</td>\n",
        "    <td>int64</td>\n",
        "    <td>Amount spent on wine in last 2 years</td>\n",
        "  </tr>\n",
        "  <tr>\n",
        "    <td>12</td>\n",
        "    <td>MntFruits</td>\n",
        "    <td>int64</td>\n",
        "    <td>Amount spent on fruit in last 2 years</td>\n",
        "  </tr>\n",
        "  <tr>\n",
        "    <td>13</td>\n",
        "    <td>MntMeatProducts</td>\n",
        "    <td>int64</td>\n",
        "    <td>Amount spent on meat in last 2 years</td>\n",
        "  </tr>\n",
        "  <tr>\n",
        "    <td>14</td>\n",
        "    <td>MntFishProducts</td>\n",
        "    <td>int64</td>\n",
        "    <td>Amount spent on fish in last 2 years</td>\n",
        "  </tr>\n",
        "  <tr>\n",
        "    <td>15</td>\n",
        "    <td>MntSweetsProducts</td>\n",
        "    <td>int64</td>\n",
        "    <td>Amount spent on sweets in last 2 years</td>\n",
        "  </tr>\n",
        "  <tr>\n",
        "    <td>16</td>\n",
        "    <td>MntGoldProds</td>\n",
        "    <td>int64</td>\n",
        "    <td>Amount spent on gold in last 2 years</td>\n",
        "  </tr>\n",
        "  <tr>\n",
        "    <td>17</td>\n",
        "    <td>AcceptedCmp1</td>\n",
        "    <td>int64</td>\n",
        "    <td>1 if customer accepted the offer in the 1st campaign, 0 otherwise</td>\n",
        "  </tr>\n",
        "  <tr>\n",
        "    <td>18</td>\n",
        "    <td>AcceptedCmp2</td>\n",
        "    <td>int64</td>\n",
        "    <td>1 if customer accepted the offer in the 2nd campaign, 0 otherwise</td>\n",
        "  </tr>\n",
        "  <tr>\n",
        "    <td>19</td>\n",
        "    <td>AcceptedCmp3</td>\n",
        "    <td>int64</td>\n",
        "    <td>1 if customer accepted the offer in the 3rd campaign, 0 otherwise</td>\n",
        "  </tr>\n",
        "  <tr>\n",
        "    <td>20</td>\n",
        "    <td>AcceptedCmp4</td>\n",
        "    <td>int64</td>\n",
        "    <td>1 if customer accepted the offer in the 4th campaign, 0 otherwise</td>\n",
        "  </tr>\n",
        "  <tr>\n",
        "    <td>21</td>\n",
        "    <td>AcceptedCmp5</td>\n",
        "    <td>int64</td>\n",
        "    <td>1 if customer accepted the offer in the 5th campaign, 0 otherwise</td>\n",
        "  </tr>\n",
        "  <tr>\n",
        "    <td>22</td>\n",
        "    <td>Response</td>\n",
        "    <td>int64</td>\n",
        "    <td>1 if customer accepted the offer in the last campaign, 0 otherwise</td>\n",
        "  </tr>\n",
        "  <tr>\n",
        "    <td>23</td>\n",
        "    <td>NumWebPurchases</td>\n",
        "    <td>int64</td>\n",
        "    <td>Number of purchases made through the company’s website</td>\n",
        "  </tr>\n",
        "  <tr>\n",
        "    <td>24</td>\n",
        "    <td>NumCatalogPurchases</td>\n",
        "    <td>int64</td>\n",
        "    <td>Number of purchases made using a catalogue</td>\n",
        "  </tr>\n",
        "  <tr>\n",
        "    <td>25</td>\n",
        "    <td>NumStorePurchases</td>\n",
        "    <td>int64</td>\n",
        "    <td>Number of purchases made directly in stores</td>\n",
        "  </tr>\n",
        "  <tr>\n",
        "    <td>26</td>\n",
        "    <td>NumWebVisitsMonth</td>\n",
        "    <td>int64</td>\n",
        "    <td>Number of visits to company’s website in the last month</td>\n",
        "  </tr>\n",
        "</table>"
      ]
    },
    {
      "cell_type": "markdown",
      "metadata": {
        "id": "PxROOIdBCTyf"
      },
      "source": [
        "## **3. EXPLORATORY DATA ANALYSIS**"
      ]
    },
    {
      "cell_type": "code",
      "execution_count": null,
      "metadata": {
        "colab": {
          "base_uri": "https://localhost:8080/"
        },
        "id": "iJl-DR6jCTyf",
        "outputId": "7d5156ac-6437-443d-f1a6-9022b2cad2ed"
      },
      "outputs": [
        {
          "output_type": "execute_result",
          "data": {
            "text/plain": [
              "<BarContainer object of 5 artists>"
            ]
          },
          "metadata": {},
          "execution_count": 21
        },
        {
          "output_type": "display_data",
          "data": {
            "text/plain": [
              "<Figure size 432x288 with 1 Axes>"
            ],
            "image/png": "[encoded data removed]"
          },
          "metadata": {
            "needs_background": "light"
          }
        }
      ],
      "source": [
        "import matplotlib.pyplot as plt\n",
        "plt.title(\"Missing values\")\n",
        "plt.bar(df.columns[0:5], df.iloc[:, 0:5].isna().sum())"
      ]
    },
    {
      "cell_type": "markdown",
      "metadata": {
        "id": "zaBDfxQoCTyf"
      },
      "source": [
        "Ditemukan bahwa terdapat 24 missing values pada kolom \"Income\""
      ]
    },
    {
      "cell_type": "code",
      "execution_count": null,
      "metadata": {
        "colab": {
          "base_uri": "https://localhost:8080/"
        },
        "id": "AGfUXgedCTyf",
        "outputId": "12d6f0e5-fe93-446b-ea4f-38d5d7c07828"
      },
      "outputs": [
        {
          "output_type": "execute_result",
          "data": {
            "text/plain": [
              "[<matplotlib.lines.Line2D at 0x7fda0349fe80>]"
            ]
          },
          "metadata": {},
          "execution_count": 22
        },
        {
          "output_type": "display_data",
          "data": {
            "text/plain": [
              "<Figure size 432x288 with 1 Axes>"
            ],
            "image/png": "[encoded data removed]"
          },
          "metadata": {
            "needs_background": "light"
          }
        }
      ],
      "source": [
        "plt.title(\"Income vs Year_Birth\")\n",
        "plt.plot(df[\"Income\"], df[\"Year_Birth\"], \".\")"
      ]
    },
    {
      "cell_type": "markdown",
      "metadata": {
        "id": "f9eYmLvsCTyf"
      },
      "source": [
        "dietmukan outlier untuk \"Income\" > 600000 dan \"Year_Birth\" < 1920"
      ]
    },
    {
      "cell_type": "code",
      "execution_count": null,
      "metadata": {
        "colab": {
          "base_uri": "https://localhost:8080/"
        },
        "id": "sW2hI_0VCTyf",
        "outputId": "3e748842-8b65-408e-f7eb-69701f037292"
      },
      "outputs": [
        {
          "output_type": "stream",
          "name": "stderr",
          "text": [
            "/usr/local/lib/python3.8/dist-packages/seaborn/_decorators.py:36: FutureWarning: Pass the following variable as a keyword arg: x. From version 0.12, the only valid positional argument will be `data`, and passing other arguments without an explicit keyword will result in an error or misinterpretation.\n",
            "  warnings.warn(\n"
          ]
        },
        {
          "output_type": "execute_result",
          "data": {
            "text/plain": [
              "<matplotlib.axes._subplots.AxesSubplot at 0x7fda0326de80>"
            ]
          },
          "metadata": {},
          "execution_count": 23
        },
        {
          "output_type": "display_data",
          "data": {
            "text/plain": [
              "<Figure size 432x288 with 1 Axes>"
            ],
            "image/png": "[encoded data removed]"
          },
          "metadata": {
            "needs_background": "light"
          }
        }
      ],
      "source": [
        "import seaborn as sns\n",
        "\n",
        "sns.countplot(df[\"Marital_Status\"])"
      ]
    },
    {
      "cell_type": "markdown",
      "metadata": {
        "id": "T9U8UeDJCTyg"
      },
      "source": [
        "Ditemukan value yang tidak relevan:<br>\n",
        "1. \"Alone\"\n",
        "2. \"Absurd\"\n",
        "3. \"Yolo\"\n",
        "\n"
      ]
    },
    {
      "cell_type": "code",
      "execution_count": null,
      "metadata": {
        "colab": {
          "base_uri": "https://localhost:8080/"
        },
        "id": "DzFa5wkLCTyg",
        "outputId": "ce3dc919-6eb6-435e-82cd-d4877a6727c7"
      },
      "outputs": [
        {
          "output_type": "stream",
          "name": "stderr",
          "text": [
            "/usr/local/lib/python3.8/dist-packages/seaborn/_decorators.py:36: FutureWarning: Pass the following variable as a keyword arg: x. From version 0.12, the only valid positional argument will be `data`, and passing other arguments without an explicit keyword will result in an error or misinterpretation.\n",
            "  warnings.warn(\n"
          ]
        },
        {
          "output_type": "execute_result",
          "data": {
            "text/plain": [
              "<matplotlib.axes._subplots.AxesSubplot at 0x7fda0342f970>"
            ]
          },
          "metadata": {},
          "execution_count": 24
        },
        {
          "output_type": "display_data",
          "data": {
            "text/plain": [
              "<Figure size 432x288 with 1 Axes>"
            ],
            "image/png": "[encoded data removed]"
          },
          "metadata": {
            "needs_background": "light"
          }
        }
      ],
      "source": [
        "sns.countplot(df[\"Education\"])"
      ]
    },
    {
      "cell_type": "markdown",
      "metadata": {
        "id": "J69IiToSCTyg"
      },
      "source": [
        "ditemukan values yang tidak relevan:\n",
        "1. \"Basic\"\n",
        "2. \"2n Cycle\""
      ]
    },
    {
      "cell_type": "markdown",
      "metadata": {
        "id": "OwEattUPCTyg"
      },
      "source": [
        "## **4. DATA CLEANING**"
      ]
    },
    {
      "cell_type": "code",
      "execution_count": null,
      "metadata": {
        "colab": {
          "base_uri": "https://localhost:8080/"
        },
        "id": "8R24w_AKCTyg",
        "outputId": "6a40d7a4-cea8-4f8e-99e7-e8c7c1e22b91"
      },
      "outputs": [
        {
          "output_type": "execute_result",
          "data": {
            "text/plain": [
              "         ID  Year_Birth Education Marital_Status   Income  Kidhome  Teenhome  \\\n",
              "0      5524        1957  Bachelor         Single  58138.0        0         0   \n",
              "1      2174        1954  Bachelor         Single  46344.0        1         1   \n",
              "2      4141        1965  Bachelor          Taken  71613.0        0         0   \n",
              "3      6182        1984  Bachelor          Taken  26646.0        1         0   \n",
              "4      5324        1981       PhD          Taken  58293.0        1         0   \n",
              "...     ...         ...       ...            ...      ...      ...       ...   \n",
              "2235  10870        1967  Bachelor          Taken  61223.0        0         1   \n",
              "2236   4001        1946       PhD          Taken  64014.0        2         1   \n",
              "2237   7270        1981  Bachelor         Single  56981.0        0         0   \n",
              "2238   8235        1956    Master          Taken  69245.0        0         1   \n",
              "2239   9405        1954       PhD          Taken  52869.0        1         1   \n",
              "\n",
              "     Dt_Customer  Recency  Wine  ...  NumCatalogPurchases  NumStorePurchases  \\\n",
              "0     04-09-2012       58   635  ...                   10                  4   \n",
              "1     08-03-2014       38    11  ...                    1                  2   \n",
              "2     21-08-2013       26   426  ...                    2                 10   \n",
              "3     10-02-2014       26    11  ...                    0                  4   \n",
              "4     19-01-2014       94   173  ...                    3                  6   \n",
              "...          ...      ...   ...  ...                  ...                ...   \n",
              "2235  13-06-2013       46   709  ...                    3                  4   \n",
              "2236  10-06-2014       56   406  ...                    2                  5   \n",
              "2237  25-01-2014       91   908  ...                    3                 13   \n",
              "2238  24-01-2014        8   428  ...                    5                 10   \n",
              "2239  15-10-2012       40    84  ...                    1                  4   \n",
              "\n",
              "      NumWebVisitsMonth  Campaign3  Campaign4  Campaign5  Campaign1  \\\n",
              "0                     7          0          0          0          0   \n",
              "1                     5          0          0          0          0   \n",
              "2                     4          0          0          0          0   \n",
              "3                     6          0          0          0          0   \n",
              "4                     5          0          0          0          0   \n",
              "...                 ...        ...        ...        ...        ...   \n",
              "2235                  5          0          0          0          0   \n",
              "2236                  7          0          0          0          1   \n",
              "2237                  6          0          1          0          0   \n",
              "2238                  3          0          0          0          0   \n",
              "2239                  7          0          0          0          0   \n",
              "\n",
              "      Campaign2  Complain  Campaign6  \n",
              "0             0         0          1  \n",
              "1             0         0          0  \n",
              "2             0         0          0  \n",
              "3             0         0          0  \n",
              "4             0         0          0  \n",
              "...         ...       ...        ...  \n",
              "2235          0         0          0  \n",
              "2236          0         0          0  \n",
              "2237          0         0          0  \n",
              "2238          0         0          0  \n",
              "2239          0         0          1  \n",
              "\n",
              "[2212 rows x 27 columns]"
            ],
            "text/html": [
              "\n",
              "  <div id=\"df-6282d912-8666-408d-80a0-8f22507227ec\">\n",
              "    <div class=\"colab-df-container\">\n",
              "      <div>\n",
              "<style scoped>\n",
              "    .dataframe tbody tr th:only-of-type {\n",
              "        vertical-align: middle;\n",
              "    }\n",
              "\n",
              "    .dataframe tbody tr th {\n",
              "        vertical-align: top;\n",
              "    }\n",
              "\n",
              "    .dataframe thead th {\n",
              "        text-align: right;\n",
              "    }\n",
              "</style>\n",
              "<table border=\"1\" class=\"dataframe\">\n",
              "  <thead>\n",
              "    <tr style=\"text-align: right;\">\n",
              "      <th></th>\n",
              "      <th>ID</th>\n",
              "      <th>Year_Birth</th>\n",
              "      <th>Education</th>\n",
              "      <th>Marital_Status</th>\n",
              "      <th>Income</th>\n",
              "      <th>Kidhome</th>\n",
              "      <th>Teenhome</th>\n",
              "      <th>Dt_Customer</th>\n",
              "      <th>Recency</th>\n",
              "      <th>Wine</th>\n",
              "      <th>...</th>\n",
              "      <th>NumCatalogPurchases</th>\n",
              "      <th>NumStorePurchases</th>\n",
              "      <th>NumWebVisitsMonth</th>\n",
              "      <th>Campaign3</th>\n",
              "      <th>Campaign4</th>\n",
              "      <th>Campaign5</th>\n",
              "      <th>Campaign1</th>\n",
              "      <th>Campaign2</th>\n",
              "      <th>Complain</th>\n",
              "      <th>Campaign6</th>\n",
              "    </tr>\n",
              "  </thead>\n",
              "  <tbody>\n",
              "    <tr>\n",
              "      <th>0</th>\n",
              "      <td>5524</td>\n",
              "      <td>1957</td>\n",
              "      <td>Bachelor</td>\n",
              "      <td>Single</td>\n",
              "      <td>58138.0</td>\n",
              "      <td>0</td>\n",
              "      <td>0</td>\n",
              "      <td>04-09-2012</td>\n",
              "      <td>58</td>\n",
              "      <td>635</td>\n",
              "      <td>...</td>\n",
              "      <td>10</td>\n",
              "      <td>4</td>\n",
              "      <td>7</td>\n",
              "      <td>0</td>\n",
              "      <td>0</td>\n",
              "      <td>0</td>\n",
              "      <td>0</td>\n",
              "      <td>0</td>\n",
              "      <td>0</td>\n",
              "      <td>1</td>\n",
              "    </tr>\n",
              "    <tr>\n",
              "      <th>1</th>\n",
              "      <td>2174</td>\n",
              "      <td>1954</td>\n",
              "      <td>Bachelor</td>\n",
              "      <td>Single</td>\n",
              "      <td>46344.0</td>\n",
              "      <td>1</td>\n",
              "      <td>1</td>\n",
              "      <td>08-03-2014</td>\n",
              "      <td>38</td>\n",
              "      <td>11</td>\n",
              "      <td>...</td>\n",
              "      <td>1</td>\n",
              "      <td>2</td>\n",
              "      <td>5</td>\n",
              "      <td>0</td>\n",
              "      <td>0</td>\n",
              "      <td>0</td>\n",
              "      <td>0</td>\n",
              "      <td>0</td>\n",
              "      <td>0</td>\n",
              "      <td>0</td>\n",
              "    </tr>\n",
              "    <tr>\n",
              "      <th>2</th>\n",
              "      <td>4141</td>\n",
              "      <td>1965</td>\n",
              "      <td>Bachelor</td>\n",
              "      <td>Taken</td>\n",
              "      <td>71613.0</td>\n",
              "      <td>0</td>\n",
              "      <td>0</td>\n",
              "      <td>21-08-2013</td>\n",
              "      <td>26</td>\n",
              "      <td>426</td>\n",
              "      <td>...</td>\n",
              "      <td>2</td>\n",
              "      <td>10</td>\n",
              "      <td>4</td>\n",
              "      <td>0</td>\n",
              "      <td>0</td>\n",
              "      <td>0</td>\n",
              "      <td>0</td>\n",
              "      <td>0</td>\n",
              "      <td>0</td>\n",
              "      <td>0</td>\n",
              "    </tr>\n",
              "    <tr>\n",
              "      <th>3</th>\n",
              "      <td>6182</td>\n",
              "      <td>1984</td>\n",
              "      <td>Bachelor</td>\n",
              "      <td>Taken</td>\n",
              "      <td>26646.0</td>\n",
              "      <td>1</td>\n",
              "      <td>0</td>\n",
              "      <td>10-02-2014</td>\n",
              "      <td>26</td>\n",
              "      <td>11</td>\n",
              "      <td>...</td>\n",
              "      <td>0</td>\n",
              "      <td>4</td>\n",
              "      <td>6</td>\n",
              "      <td>0</td>\n",
              "      <td>0</td>\n",
              "      <td>0</td>\n",
              "      <td>0</td>\n",
              "      <td>0</td>\n",
              "      <td>0</td>\n",
              "      <td>0</td>\n",
              "    </tr>\n",
              "    <tr>\n",
              "      <th>4</th>\n",
              "      <td>5324</td>\n",
              "      <td>1981</td>\n",
              "      <td>PhD</td>\n",
              "      <td>Taken</td>\n",
              "      <td>58293.0</td>\n",
              "      <td>1</td>\n",
              "      <td>0</td>\n",
              "      <td>19-01-2014</td>\n",
              "      <td>94</td>\n",
              "      <td>173</td>\n",
              "      <td>...</td>\n",
              "      <td>3</td>\n",
              "      <td>6</td>\n",
              "      <td>5</td>\n",
              "      <td>0</td>\n",
              "      <td>0</td>\n",
              "      <td>0</td>\n",
              "      <td>0</td>\n",
              "      <td>0</td>\n",
              "      <td>0</td>\n",
              "      <td>0</td>\n",
              "    </tr>\n",
              "    <tr>\n",
              "      <th>...</th>\n",
              "      <td>...</td>\n",
              "      <td>...</td>\n",
              "      <td>...</td>\n",
              "      <td>...</td>\n",
              "      <td>...</td>\n",
              "      <td>...</td>\n",
              "      <td>...</td>\n",
              "      <td>...</td>\n",
              "      <td>...</td>\n",
              "      <td>...</td>\n",
              "      <td>...</td>\n",
              "      <td>...</td>\n",
              "      <td>...</td>\n",
              "      <td>...</td>\n",
              "      <td>...</td>\n",
              "      <td>...</td>\n",
              "      <td>...</td>\n",
              "      <td>...</td>\n",
              "      <td>...</td>\n",
              "      <td>...</td>\n",
              "      <td>...</td>\n",
              "    </tr>\n",
              "    <tr>\n",
              "      <th>2235</th>\n",
              "      <td>10870</td>\n",
              "      <td>1967</td>\n",
              "      <td>Bachelor</td>\n",
              "      <td>Taken</td>\n",
              "      <td>61223.0</td>\n",
              "      <td>0</td>\n",
              "      <td>1</td>\n",
              "      <td>13-06-2013</td>\n",
              "      <td>46</td>\n",
              "      <td>709</td>\n",
              "      <td>...</td>\n",
              "      <td>3</td>\n",
              "      <td>4</td>\n",
              "      <td>5</td>\n",
              "      <td>0</td>\n",
              "      <td>0</td>\n",
              "      <td>0</td>\n",
              "      <td>0</td>\n",
              "      <td>0</td>\n",
              "      <td>0</td>\n",
              "      <td>0</td>\n",
              "    </tr>\n",
              "    <tr>\n",
              "      <th>2236</th>\n",
              "      <td>4001</td>\n",
              "      <td>1946</td>\n",
              "      <td>PhD</td>\n",
              "      <td>Taken</td>\n",
              "      <td>64014.0</td>\n",
              "      <td>2</td>\n",
              "      <td>1</td>\n",
              "      <td>10-06-2014</td>\n",
              "      <td>56</td>\n",
              "      <td>406</td>\n",
              "      <td>...</td>\n",
              "      <td>2</td>\n",
              "      <td>5</td>\n",
              "      <td>7</td>\n",
              "      <td>0</td>\n",
              "      <td>0</td>\n",
              "      <td>0</td>\n",
              "      <td>1</td>\n",
              "      <td>0</td>\n",
              "      <td>0</td>\n",
              "      <td>0</td>\n",
              "    </tr>\n",
              "    <tr>\n",
              "      <th>2237</th>\n",
              "      <td>7270</td>\n",
              "      <td>1981</td>\n",
              "      <td>Bachelor</td>\n",
              "      <td>Single</td>\n",
              "      <td>56981.0</td>\n",
              "      <td>0</td>\n",
              "      <td>0</td>\n",
              "      <td>25-01-2014</td>\n",
              "      <td>91</td>\n",
              "      <td>908</td>\n",
              "      <td>...</td>\n",
              "      <td>3</td>\n",
              "      <td>13</td>\n",
              "      <td>6</td>\n",
              "      <td>0</td>\n",
              "      <td>1</td>\n",
              "      <td>0</td>\n",
              "      <td>0</td>\n",
              "      <td>0</td>\n",
              "      <td>0</td>\n",
              "      <td>0</td>\n",
              "    </tr>\n",
              "    <tr>\n",
              "      <th>2238</th>\n",
              "      <td>8235</td>\n",
              "      <td>1956</td>\n",
              "      <td>Master</td>\n",
              "      <td>Taken</td>\n",
              "      <td>69245.0</td>\n",
              "      <td>0</td>\n",
              "      <td>1</td>\n",
              "      <td>24-01-2014</td>\n",
              "      <td>8</td>\n",
              "      <td>428</td>\n",
              "      <td>...</td>\n",
              "      <td>5</td>\n",
              "      <td>10</td>\n",
              "      <td>3</td>\n",
              "      <td>0</td>\n",
              "      <td>0</td>\n",
              "      <td>0</td>\n",
              "      <td>0</td>\n",
              "      <td>0</td>\n",
              "      <td>0</td>\n",
              "      <td>0</td>\n",
              "    </tr>\n",
              "    <tr>\n",
              "      <th>2239</th>\n",
              "      <td>9405</td>\n",
              "      <td>1954</td>\n",
              "      <td>PhD</td>\n",
              "      <td>Taken</td>\n",
              "      <td>52869.0</td>\n",
              "      <td>1</td>\n",
              "      <td>1</td>\n",
              "      <td>15-10-2012</td>\n",
              "      <td>40</td>\n",
              "      <td>84</td>\n",
              "      <td>...</td>\n",
              "      <td>1</td>\n",
              "      <td>4</td>\n",
              "      <td>7</td>\n",
              "      <td>0</td>\n",
              "      <td>0</td>\n",
              "      <td>0</td>\n",
              "      <td>0</td>\n",
              "      <td>0</td>\n",
              "      <td>0</td>\n",
              "      <td>1</td>\n",
              "    </tr>\n",
              "  </tbody>\n",
              "</table>\n",
              "<p>2212 rows × 27 columns</p>\n",
              "</div>\n",
              "      <button class=\"colab-df-convert\" onclick=\"convertToInteractive('df-6282d912-8666-408d-80a0-8f22507227ec')\"\n",
              "              title=\"Convert this dataframe to an interactive table.\"\n",
              "              style=\"display:none;\">\n",
              "        \n",
              "  <svg xmlns=\"http://www.w3.org/2000/svg\" height=\"24px\"viewBox=\"0 0 24 24\"\n",
              "       width=\"24px\">\n",
              "    <path d=\"M0 0h24v24H0V0z\" fill=\"none\"/>\n",
              "    <path d=\"M18.56 5.44l.94 2.06.94-2.06 2.06-.94-2.06-.94-.94-2.06-.94 2.06-2.06.94zm-11 1L8.5 8.5l.94-2.06 2.06-.94-2.06-.94L8.5 2.5l-.94 2.06-2.06.94zm10 10l.94 2.06.94-2.06 2.06-.94-2.06-.94-.94-2.06-.94 2.06-2.06.94z\"/><path d=\"M17.41 7.96l-1.37-1.37c-.4-.4-.92-.59-1.43-.59-.52 0-1.04.2-1.43.59L10.3 9.45l-7.72 7.72c-.78.78-.78 2.05 0 2.83L4 21.41c.39.39.9.59 1.41.59.51 0 1.02-.2 1.41-.59l7.78-7.78 2.81-2.81c.8-.78.8-2.07 0-2.86zM5.41 20L4 18.59l7.72-7.72 1.47 1.35L5.41 20z\"/>\n",
              "  </svg>\n",
              "      </button>\n",
              "      \n",
              "  <style>\n",
              "    .colab-df-container {\n",
              "      display:flex;\n",
              "      flex-wrap:wrap;\n",
              "      gap: 12px;\n",
              "    }\n",
              "\n",
              "    .colab-df-convert {\n",
              "      background-color: #E8F0FE;\n",
              "      border: none;\n",
              "      border-radius: 50%;\n",
              "      cursor: pointer;\n",
              "      display: none;\n",
              "      fill: #1967D2;\n",
              "      height: 32px;\n",
              "      padding: 0 0 0 0;\n",
              "      width: 32px;\n",
              "    }\n",
              "\n",
              "    .colab-df-convert:hover {\n",
              "      background-color: #E2EBFA;\n",
              "      box-shadow: 0px 1px 2px rgba(60, 64, 67, 0.3), 0px 1px 3px 1px rgba(60, 64, 67, 0.15);\n",
              "      fill: #174EA6;\n",
              "    }\n",
              "\n",
              "    [theme=dark] .colab-df-convert {\n",
              "      background-color: #3B4455;\n",
              "      fill: #D2E3FC;\n",
              "    }\n",
              "\n",
              "    [theme=dark] .colab-df-convert:hover {\n",
              "      background-color: #434B5C;\n",
              "      box-shadow: 0px 1px 3px 1px rgba(0, 0, 0, 0.15);\n",
              "      filter: drop-shadow(0px 1px 2px rgba(0, 0, 0, 0.3));\n",
              "      fill: #FFFFFF;\n",
              "    }\n",
              "  </style>\n",
              "\n",
              "      <script>\n",
              "        const buttonEl =\n",
              "          document.querySelector('#df-6282d912-8666-408d-80a0-8f22507227ec button.colab-df-convert');\n",
              "        buttonEl.style.display =\n",
              "          google.colab.kernel.accessAllowed ? 'block' : 'none';\n",
              "\n",
              "        async function convertToInteractive(key) {\n",
              "          const element = document.querySelector('#df-6282d912-8666-408d-80a0-8f22507227ec');\n",
              "          const dataTable =\n",
              "            await google.colab.kernel.invokeFunction('convertToInteractive',\n",
              "                                                     [key], {});\n",
              "          if (!dataTable) return;\n",
              "\n",
              "          const docLinkHtml = 'Like what you see? Visit the ' +\n",
              "            '<a target=\"_blank\" href=https://colab.research.google.com/notebooks/data_table.ipynb>data table notebook</a>'\n",
              "            + ' to learn more about interactive tables.';\n",
              "          element.innerHTML = '';\n",
              "          dataTable['output_type'] = 'display_data';\n",
              "          await google.colab.output.renderOutput(dataTable, element);\n",
              "          const docLink = document.createElement('div');\n",
              "          docLink.innerHTML = docLinkHtml;\n",
              "          element.appendChild(docLink);\n",
              "        }\n",
              "      </script>\n",
              "    </div>\n",
              "  </div>\n",
              "  "
            ]
          },
          "metadata": {},
          "execution_count": 25
        }
      ],
      "source": [
        "df.drop(df[df['Year_Birth'] <= 1900].index, inplace = True)\n",
        "df[\"Education\"] = df[\"Education\"].replace({\"2n Cycle\":\"Master\", \"Graduation\":\"Bachelor\", \"Basic\":\"Undergraduate\"})\n",
        "df[\"Marital_Status\"] = df[\"Marital_Status\"].replace({'Together':\"Taken\", \"Divorced\":\"Single\", \"Widow\":\"Single\",\n",
        "                                                     \"Alone\":\"Single\", \"Absurd\":\"Single\", \"YOLO\":\"Single\", \"Married\":\"Taken\"})\n",
        "df = df.dropna()\n",
        "df = df.drop(columns = [\"Z_CostContact\", \"Z_Revenue\"])\n",
        "df.drop(df[df[\"Income\"] > 600000].index, inplace = True)\n",
        "\n",
        "df = df.rename(columns = {\"MntWines\":\"Wine\", \"MntMeatProducts\":\"Meat\", \"MntFishProducts\":\"Fish\", \"MntSweetProducts\":\"Sweet\",\n",
        "                          \"MntGoldProds\":\"Gold\", \"Response\":\"Campaign6\", \"AcceptedCmp1\":\"Campaign1\", \"AcceptedCmp2\":\"Campaign2\", \"AcceptedCmp3\":\"Campaign3\",\n",
        "                          \"AcceptedCmp4\":\"Campaign4\", \"AcceptedCmp5\":\"Campaign5\", \"MntFruits\":\"Fruit\"})\n",
        "df"
      ]
    },
    {
      "cell_type": "markdown",
      "metadata": {
        "id": "n0SdZMbXCTyg"
      },
      "source": [
        "berdasarkan feature exploration yang telah dilakukan, maka data celaning yang dilakukan adalah sebagai berikut:\n",
        "\n",
        "\n",
        "\n",
        "*   Remove outlier untuk kolom ([\"Income\"]>600000)\n",
        "*   Remove outlier untuk kolom ([\"Year_Birth\"] <= 1900)\n",
        "*   Renaming values untuk kolom [\"Education\"]\n",
        "*   Drop missing values yang terdapat pada kolom [\"Income\"]\n",
        "*   Renaming values untuk kolom [\"Marital_Status\"]\n",
        "*   Drop kolom [\"Z_CostContact\"] dan [\"Z_Revenue\"]\n",
        "\n",
        "\n",
        "\n",
        "\n",
        "\n"
      ]
    },
    {
      "cell_type": "markdown",
      "metadata": {
        "id": "-O3ISAAyX9hZ"
      },
      "source": [
        "# 5. FEATURE ENGINEERING"
      ]
    },
    {
      "cell_type": "code",
      "execution_count": null,
      "metadata": {
        "colab": {
          "base_uri": "https://localhost:8080/"
        },
        "id": "BzmuGwxvCTyg",
        "outputId": "1b45d248-1edf-488a-cd17-136bb022ca4d"
      },
      "outputs": [
        {
          "output_type": "execute_result",
          "data": {
            "text/plain": [
              "         ID  Year_Birth Education Marital_Status   Income  Kidhome  Teenhome  \\\n",
              "0      5524        1957  Bachelor         Single  58138.0        0         0   \n",
              "1      2174        1954  Bachelor         Single  46344.0        1         1   \n",
              "2      4141        1965  Bachelor          Taken  71613.0        0         0   \n",
              "3      6182        1984  Bachelor          Taken  26646.0        1         0   \n",
              "4      5324        1981       PhD          Taken  58293.0        1         0   \n",
              "...     ...         ...       ...            ...      ...      ...       ...   \n",
              "2235  10870        1967  Bachelor          Taken  61223.0        0         1   \n",
              "2236   4001        1946       PhD          Taken  64014.0        2         1   \n",
              "2237   7270        1981  Bachelor         Single  56981.0        0         0   \n",
              "2238   8235        1956    Master          Taken  69245.0        0         1   \n",
              "2239   9405        1954       PhD          Taken  52869.0        1         1   \n",
              "\n",
              "     Dt_Customer  Recency  Wine  ...  Campaign3  Campaign4  Campaign5  \\\n",
              "0     04-09-2012       58   635  ...          0          0          0   \n",
              "1     08-03-2014       38    11  ...          0          0          0   \n",
              "2     21-08-2013       26   426  ...          0          0          0   \n",
              "3     10-02-2014       26    11  ...          0          0          0   \n",
              "4     19-01-2014       94   173  ...          0          0          0   \n",
              "...          ...      ...   ...  ...        ...        ...        ...   \n",
              "2235  13-06-2013       46   709  ...          0          0          0   \n",
              "2236  10-06-2014       56   406  ...          0          0          0   \n",
              "2237  25-01-2014       91   908  ...          0          1          0   \n",
              "2238  24-01-2014        8   428  ...          0          0          0   \n",
              "2239  15-10-2012       40    84  ...          0          0          0   \n",
              "\n",
              "      Campaign1  Campaign2  Complain  Campaign6  totalPurchase  totalSpend  \\\n",
              "0             0          0         0          1             25        1617   \n",
              "1             0          0         0          0              6          27   \n",
              "2             0          0         0          0             21         776   \n",
              "3             0          0         0          0              8          53   \n",
              "4             0          0         0          0             19         422   \n",
              "...         ...        ...       ...        ...            ...         ...   \n",
              "2235          0          0         0          0             18        1341   \n",
              "2236          1          0         0          0             22         444   \n",
              "2237          0          0         0          0             19        1241   \n",
              "2238          0          0         0          0             23         843   \n",
              "2239          0          0         0          1             11         172   \n",
              "\n",
              "      Age  \n",
              "0      65  \n",
              "1      68  \n",
              "2      57  \n",
              "3      38  \n",
              "4      41  \n",
              "...   ...  \n",
              "2235   55  \n",
              "2236   76  \n",
              "2237   41  \n",
              "2238   66  \n",
              "2239   68  \n",
              "\n",
              "[2212 rows x 30 columns]"
            ],
            "text/html": [
              "\n",
              "  <div id=\"df-406e447d-8572-4d11-9161-9232f5f10613\">\n",
              "    <div class=\"colab-df-container\">\n",
              "      <div>\n",
              "<style scoped>\n",
              "    .dataframe tbody tr th:only-of-type {\n",
              "        vertical-align: middle;\n",
              "    }\n",
              "\n",
              "    .dataframe tbody tr th {\n",
              "        vertical-align: top;\n",
              "    }\n",
              "\n",
              "    .dataframe thead th {\n",
              "        text-align: right;\n",
              "    }\n",
              "</style>\n",
              "<table border=\"1\" class=\"dataframe\">\n",
              "  <thead>\n",
              "    <tr style=\"text-align: right;\">\n",
              "      <th></th>\n",
              "      <th>ID</th>\n",
              "      <th>Year_Birth</th>\n",
              "      <th>Education</th>\n",
              "      <th>Marital_Status</th>\n",
              "      <th>Income</th>\n",
              "      <th>Kidhome</th>\n",
              "      <th>Teenhome</th>\n",
              "      <th>Dt_Customer</th>\n",
              "      <th>Recency</th>\n",
              "      <th>Wine</th>\n",
              "      <th>...</th>\n",
              "      <th>Campaign3</th>\n",
              "      <th>Campaign4</th>\n",
              "      <th>Campaign5</th>\n",
              "      <th>Campaign1</th>\n",
              "      <th>Campaign2</th>\n",
              "      <th>Complain</th>\n",
              "      <th>Campaign6</th>\n",
              "      <th>totalPurchase</th>\n",
              "      <th>totalSpend</th>\n",
              "      <th>Age</th>\n",
              "    </tr>\n",
              "  </thead>\n",
              "  <tbody>\n",
              "    <tr>\n",
              "      <th>0</th>\n",
              "      <td>5524</td>\n",
              "      <td>1957</td>\n",
              "      <td>Bachelor</td>\n",
              "      <td>Single</td>\n",
              "      <td>58138.0</td>\n",
              "      <td>0</td>\n",
              "      <td>0</td>\n",
              "      <td>04-09-2012</td>\n",
              "      <td>58</td>\n",
              "      <td>635</td>\n",
              "      <td>...</td>\n",
              "      <td>0</td>\n",
              "      <td>0</td>\n",
              "      <td>0</td>\n",
              "      <td>0</td>\n",
              "      <td>0</td>\n",
              "      <td>0</td>\n",
              "      <td>1</td>\n",
              "      <td>25</td>\n",
              "      <td>1617</td>\n",
              "      <td>65</td>\n",
              "    </tr>\n",
              "    <tr>\n",
              "      <th>1</th>\n",
              "      <td>2174</td>\n",
              "      <td>1954</td>\n",
              "      <td>Bachelor</td>\n",
              "      <td>Single</td>\n",
              "      <td>46344.0</td>\n",
              "      <td>1</td>\n",
              "      <td>1</td>\n",
              "      <td>08-03-2014</td>\n",
              "      <td>38</td>\n",
              "      <td>11</td>\n",
              "      <td>...</td>\n",
              "      <td>0</td>\n",
              "      <td>0</td>\n",
              "      <td>0</td>\n",
              "      <td>0</td>\n",
              "      <td>0</td>\n",
              "      <td>0</td>\n",
              "      <td>0</td>\n",
              "      <td>6</td>\n",
              "      <td>27</td>\n",
              "      <td>68</td>\n",
              "    </tr>\n",
              "    <tr>\n",
              "      <th>2</th>\n",
              "      <td>4141</td>\n",
              "      <td>1965</td>\n",
              "      <td>Bachelor</td>\n",
              "      <td>Taken</td>\n",
              "      <td>71613.0</td>\n",
              "      <td>0</td>\n",
              "      <td>0</td>\n",
              "      <td>21-08-2013</td>\n",
              "      <td>26</td>\n",
              "      <td>426</td>\n",
              "      <td>...</td>\n",
              "      <td>0</td>\n",
              "      <td>0</td>\n",
              "      <td>0</td>\n",
              "      <td>0</td>\n",
              "      <td>0</td>\n",
              "      <td>0</td>\n",
              "      <td>0</td>\n",
              "      <td>21</td>\n",
              "      <td>776</td>\n",
              "      <td>57</td>\n",
              "    </tr>\n",
              "    <tr>\n",
              "      <th>3</th>\n",
              "      <td>6182</td>\n",
              "      <td>1984</td>\n",
              "      <td>Bachelor</td>\n",
              "      <td>Taken</td>\n",
              "      <td>26646.0</td>\n",
              "      <td>1</td>\n",
              "      <td>0</td>\n",
              "      <td>10-02-2014</td>\n",
              "      <td>26</td>\n",
              "      <td>11</td>\n",
              "      <td>...</td>\n",
              "      <td>0</td>\n",
              "      <td>0</td>\n",
              "      <td>0</td>\n",
              "      <td>0</td>\n",
              "      <td>0</td>\n",
              "      <td>0</td>\n",
              "      <td>0</td>\n",
              "      <td>8</td>\n",
              "      <td>53</td>\n",
              "      <td>38</td>\n",
              "    </tr>\n",
              "    <tr>\n",
              "      <th>4</th>\n",
              "      <td>5324</td>\n",
              "      <td>1981</td>\n",
              "      <td>PhD</td>\n",
              "      <td>Taken</td>\n",
              "      <td>58293.0</td>\n",
              "      <td>1</td>\n",
              "      <td>0</td>\n",
              "      <td>19-01-2014</td>\n",
              "      <td>94</td>\n",
              "      <td>173</td>\n",
              "      <td>...</td>\n",
              "      <td>0</td>\n",
              "      <td>0</td>\n",
              "      <td>0</td>\n",
              "      <td>0</td>\n",
              "      <td>0</td>\n",
              "      <td>0</td>\n",
              "      <td>0</td>\n",
              "      <td>19</td>\n",
              "      <td>422</td>\n",
              "      <td>41</td>\n",
              "    </tr>\n",
              "    <tr>\n",
              "      <th>...</th>\n",
              "      <td>...</td>\n",
              "      <td>...</td>\n",
              "      <td>...</td>\n",
              "      <td>...</td>\n",
              "      <td>...</td>\n",
              "      <td>...</td>\n",
              "      <td>...</td>\n",
              "      <td>...</td>\n",
              "      <td>...</td>\n",
              "      <td>...</td>\n",
              "      <td>...</td>\n",
              "      <td>...</td>\n",
              "      <td>...</td>\n",
              "      <td>...</td>\n",
              "      <td>...</td>\n",
              "      <td>...</td>\n",
              "      <td>...</td>\n",
              "      <td>...</td>\n",
              "      <td>...</td>\n",
              "      <td>...</td>\n",
              "      <td>...</td>\n",
              "    </tr>\n",
              "    <tr>\n",
              "      <th>2235</th>\n",
              "      <td>10870</td>\n",
              "      <td>1967</td>\n",
              "      <td>Bachelor</td>\n",
              "      <td>Taken</td>\n",
              "      <td>61223.0</td>\n",
              "      <td>0</td>\n",
              "      <td>1</td>\n",
              "      <td>13-06-2013</td>\n",
              "      <td>46</td>\n",
              "      <td>709</td>\n",
              "      <td>...</td>\n",
              "      <td>0</td>\n",
              "      <td>0</td>\n",
              "      <td>0</td>\n",
              "      <td>0</td>\n",
              "      <td>0</td>\n",
              "      <td>0</td>\n",
              "      <td>0</td>\n",
              "      <td>18</td>\n",
              "      <td>1341</td>\n",
              "      <td>55</td>\n",
              "    </tr>\n",
              "    <tr>\n",
              "      <th>2236</th>\n",
              "      <td>4001</td>\n",
              "      <td>1946</td>\n",
              "      <td>PhD</td>\n",
              "      <td>Taken</td>\n",
              "      <td>64014.0</td>\n",
              "      <td>2</td>\n",
              "      <td>1</td>\n",
              "      <td>10-06-2014</td>\n",
              "      <td>56</td>\n",
              "      <td>406</td>\n",
              "      <td>...</td>\n",
              "      <td>0</td>\n",
              "      <td>0</td>\n",
              "      <td>0</td>\n",
              "      <td>1</td>\n",
              "      <td>0</td>\n",
              "      <td>0</td>\n",
              "      <td>0</td>\n",
              "      <td>22</td>\n",
              "      <td>444</td>\n",
              "      <td>76</td>\n",
              "    </tr>\n",
              "    <tr>\n",
              "      <th>2237</th>\n",
              "      <td>7270</td>\n",
              "      <td>1981</td>\n",
              "      <td>Bachelor</td>\n",
              "      <td>Single</td>\n",
              "      <td>56981.0</td>\n",
              "      <td>0</td>\n",
              "      <td>0</td>\n",
              "      <td>25-01-2014</td>\n",
              "      <td>91</td>\n",
              "      <td>908</td>\n",
              "      <td>...</td>\n",
              "      <td>0</td>\n",
              "      <td>1</td>\n",
              "      <td>0</td>\n",
              "      <td>0</td>\n",
              "      <td>0</td>\n",
              "      <td>0</td>\n",
              "      <td>0</td>\n",
              "      <td>19</td>\n",
              "      <td>1241</td>\n",
              "      <td>41</td>\n",
              "    </tr>\n",
              "    <tr>\n",
              "      <th>2238</th>\n",
              "      <td>8235</td>\n",
              "      <td>1956</td>\n",
              "      <td>Master</td>\n",
              "      <td>Taken</td>\n",
              "      <td>69245.0</td>\n",
              "      <td>0</td>\n",
              "      <td>1</td>\n",
              "      <td>24-01-2014</td>\n",
              "      <td>8</td>\n",
              "      <td>428</td>\n",
              "      <td>...</td>\n",
              "      <td>0</td>\n",
              "      <td>0</td>\n",
              "      <td>0</td>\n",
              "      <td>0</td>\n",
              "      <td>0</td>\n",
              "      <td>0</td>\n",
              "      <td>0</td>\n",
              "      <td>23</td>\n",
              "      <td>843</td>\n",
              "      <td>66</td>\n",
              "    </tr>\n",
              "    <tr>\n",
              "      <th>2239</th>\n",
              "      <td>9405</td>\n",
              "      <td>1954</td>\n",
              "      <td>PhD</td>\n",
              "      <td>Taken</td>\n",
              "      <td>52869.0</td>\n",
              "      <td>1</td>\n",
              "      <td>1</td>\n",
              "      <td>15-10-2012</td>\n",
              "      <td>40</td>\n",
              "      <td>84</td>\n",
              "      <td>...</td>\n",
              "      <td>0</td>\n",
              "      <td>0</td>\n",
              "      <td>0</td>\n",
              "      <td>0</td>\n",
              "      <td>0</td>\n",
              "      <td>0</td>\n",
              "      <td>1</td>\n",
              "      <td>11</td>\n",
              "      <td>172</td>\n",
              "      <td>68</td>\n",
              "    </tr>\n",
              "  </tbody>\n",
              "</table>\n",
              "<p>2212 rows × 30 columns</p>\n",
              "</div>\n",
              "      <button class=\"colab-df-convert\" onclick=\"convertToInteractive('df-406e447d-8572-4d11-9161-9232f5f10613')\"\n",
              "              title=\"Convert this dataframe to an interactive table.\"\n",
              "              style=\"display:none;\">\n",
              "        \n",
              "  <svg xmlns=\"http://www.w3.org/2000/svg\" height=\"24px\"viewBox=\"0 0 24 24\"\n",
              "       width=\"24px\">\n",
              "    <path d=\"M0 0h24v24H0V0z\" fill=\"none\"/>\n",
              "    <path d=\"M18.56 5.44l.94 2.06.94-2.06 2.06-.94-2.06-.94-.94-2.06-.94 2.06-2.06.94zm-11 1L8.5 8.5l.94-2.06 2.06-.94-2.06-.94L8.5 2.5l-.94 2.06-2.06.94zm10 10l.94 2.06.94-2.06 2.06-.94-2.06-.94-.94-2.06-.94 2.06-2.06.94z\"/><path d=\"M17.41 7.96l-1.37-1.37c-.4-.4-.92-.59-1.43-.59-.52 0-1.04.2-1.43.59L10.3 9.45l-7.72 7.72c-.78.78-.78 2.05 0 2.83L4 21.41c.39.39.9.59 1.41.59.51 0 1.02-.2 1.41-.59l7.78-7.78 2.81-2.81c.8-.78.8-2.07 0-2.86zM5.41 20L4 18.59l7.72-7.72 1.47 1.35L5.41 20z\"/>\n",
              "  </svg>\n",
              "      </button>\n",
              "      \n",
              "  <style>\n",
              "    .colab-df-container {\n",
              "      display:flex;\n",
              "      flex-wrap:wrap;\n",
              "      gap: 12px;\n",
              "    }\n",
              "\n",
              "    .colab-df-convert {\n",
              "      background-color: #E8F0FE;\n",
              "      border: none;\n",
              "      border-radius: 50%;\n",
              "      cursor: pointer;\n",
              "      display: none;\n",
              "      fill: #1967D2;\n",
              "      height: 32px;\n",
              "      padding: 0 0 0 0;\n",
              "      width: 32px;\n",
              "    }\n",
              "\n",
              "    .colab-df-convert:hover {\n",
              "      background-color: #E2EBFA;\n",
              "      box-shadow: 0px 1px 2px rgba(60, 64, 67, 0.3), 0px 1px 3px 1px rgba(60, 64, 67, 0.15);\n",
              "      fill: #174EA6;\n",
              "    }\n",
              "\n",
              "    [theme=dark] .colab-df-convert {\n",
              "      background-color: #3B4455;\n",
              "      fill: #D2E3FC;\n",
              "    }\n",
              "\n",
              "    [theme=dark] .colab-df-convert:hover {\n",
              "      background-color: #434B5C;\n",
              "      box-shadow: 0px 1px 3px 1px rgba(0, 0, 0, 0.15);\n",
              "      filter: drop-shadow(0px 1px 2px rgba(0, 0, 0, 0.3));\n",
              "      fill: #FFFFFF;\n",
              "    }\n",
              "  </style>\n",
              "\n",
              "      <script>\n",
              "        const buttonEl =\n",
              "          document.querySelector('#df-406e447d-8572-4d11-9161-9232f5f10613 button.colab-df-convert');\n",
              "        buttonEl.style.display =\n",
              "          google.colab.kernel.accessAllowed ? 'block' : 'none';\n",
              "\n",
              "        async function convertToInteractive(key) {\n",
              "          const element = document.querySelector('#df-406e447d-8572-4d11-9161-9232f5f10613');\n",
              "          const dataTable =\n",
              "            await google.colab.kernel.invokeFunction('convertToInteractive',\n",
              "                                                     [key], {});\n",
              "          if (!dataTable) return;\n",
              "\n",
              "          const docLinkHtml = 'Like what you see? Visit the ' +\n",
              "            '<a target=\"_blank\" href=https://colab.research.google.com/notebooks/data_table.ipynb>data table notebook</a>'\n",
              "            + ' to learn more about interactive tables.';\n",
              "          element.innerHTML = '';\n",
              "          dataTable['output_type'] = 'display_data';\n",
              "          await google.colab.output.renderOutput(dataTable, element);\n",
              "          const docLink = document.createElement('div');\n",
              "          docLink.innerHTML = docLinkHtml;\n",
              "          element.appendChild(docLink);\n",
              "        }\n",
              "      </script>\n",
              "    </div>\n",
              "  </div>\n",
              "  "
            ]
          },
          "metadata": {},
          "execution_count": 26
        }
      ],
      "source": [
        "df[\"totalPurchase\"] = df['NumDealsPurchases'] + df['NumWebPurchases'] + df['NumCatalogPurchases'] + df['NumStorePurchases']\n",
        "df[\"totalSpend\"] = df['Wine'] + df['Meat'] + df['Gold'] + df['Sweet'] + df[\"Fish\"] + df[\"Fruit\"]\n",
        "df[\"Age\"] = 2022 - df[\"Year_Birth\"]\n",
        "df"
      ]
    },
    {
      "cell_type": "markdown",
      "metadata": {
        "id": "Jw7YeVJsCTyg"
      },
      "source": [
        "dibuat kolom baru sebagai berikut:\n",
        "1. totalPurchase: total berapa kali melakukan pembelian\n",
        "2. totalSpend: total pengeluaran untuk pembelian\n",
        "3. age: umur"
      ]
    },
    {
      "cell_type": "markdown",
      "metadata": {
        "id": "I-JItYNiCTyh"
      },
      "source": [
        "# **6. BINNING**"
      ]
    },
    {
      "cell_type": "code",
      "execution_count": null,
      "metadata": {
        "colab": {
          "base_uri": "https://localhost:8080/"
        },
        "id": "ag356S8BCTyh",
        "outputId": "7c609f9d-296c-401c-8a25-0ef97d0ef905"
      },
      "outputs": [
        {
          "output_type": "execute_result",
          "data": {
            "text/plain": [
              "<matplotlib.axes._subplots.AxesSubplot at 0x7fda03449850>"
            ]
          },
          "metadata": {},
          "execution_count": 27
        },
        {
          "output_type": "display_data",
          "data": {
            "text/plain": [
              "<Figure size 432x288 with 1 Axes>"
            ],
            "image/png": "[encoded data removed]"
          },
          "metadata": {
            "needs_background": "light"
          }
        }
      ],
      "source": [
        "import seaborn as sns\n",
        "label = ['lowSpender', \"midSpender\", \"highSpender\", \"veryHighSpender\"]\n",
        "df['totalSpend'] = pd.cut(df['totalSpend'], [0, 500, 1250, 2000, 3000], labels=label);\n",
        "sns.countplot(x= df[\"totalSpend\"])"
      ]
    },
    {
      "cell_type": "code",
      "execution_count": null,
      "metadata": {
        "colab": {
          "base_uri": "https://localhost:8080/"
        },
        "id": "kbA3yiW8CTyh",
        "outputId": "414e6e70-7419-4448-c9f5-88bb9ffe201b"
      },
      "outputs": [
        {
          "output_type": "execute_result",
          "data": {
            "text/plain": [
              "<matplotlib.axes._subplots.AxesSubplot at 0x7fda030f09d0>"
            ]
          },
          "metadata": {},
          "execution_count": 28
        },
        {
          "output_type": "display_data",
          "data": {
            "text/plain": [
              "<Figure size 432x288 with 1 Axes>"
            ],
            "image/png": "[encoded data removed]"
          },
          "metadata": {
            "needs_background": "light"
          }
        }
      ],
      "source": [
        "label = ['young_adult', \"middle_age\", \"elder\"]\n",
        "df['Age'] = pd.cut(df['Age'], [0, 40, 60, 100], labels=label);\n",
        "sns.countplot(x= df[\"Age\"])"
      ]
    },
    {
      "cell_type": "code",
      "execution_count": null,
      "metadata": {
        "colab": {
          "base_uri": "https://localhost:8080/"
        },
        "id": "ChyRibrkCTyh",
        "outputId": "b6fe593c-9543-401a-d048-a6a593a9f791"
      },
      "outputs": [
        {
          "output_type": "execute_result",
          "data": {
            "text/plain": [
              "<matplotlib.axes._subplots.AxesSubplot at 0x7fda0310aa30>"
            ]
          },
          "metadata": {},
          "execution_count": 29
        },
        {
          "output_type": "display_data",
          "data": {
            "text/plain": [
              "<Figure size 432x288 with 1 Axes>"
            ],
            "image/png": "[encoded data removed]"
          },
          "metadata": {
            "needs_background": "light"
          }
        }
      ],
      "source": [
        "label = ['low', \"mid\", \"high\", \"very high\"]\n",
        "df['Income'] = pd.cut(df['Income'], bins=4, labels=label);\n",
        "sns.countplot(x= df[\"Income\"])"
      ]
    },
    {
      "cell_type": "markdown",
      "metadata": {
        "id": "ptXlsYU_CTyh"
      },
      "source": [
        "#7. MENGAMBIL KOLOM PERILAKU"
      ]
    },
    {
      "cell_type": "code",
      "execution_count": null,
      "metadata": {
        "colab": {
          "base_uri": "https://localhost:8080/"
        },
        "id": "6OEEtQC5CTyh",
        "outputId": "055ccd46-480a-44d5-d04c-235ddad8d0cb"
      },
      "outputs": [
        {
          "output_type": "execute_result",
          "data": {
            "text/plain": [
              "      Recency  Wine  Fruit  Meat  Fish  Sweet  Gold  NumDealsPurchases  \\\n",
              "0          58   635     88   546   172     88    88                  3   \n",
              "1          38    11      1     6     2      1     6                  2   \n",
              "2          26   426     49   127   111     21    42                  1   \n",
              "3          26    11      4    20    10      3     5                  2   \n",
              "4          94   173     43   118    46     27    15                  5   \n",
              "...       ...   ...    ...   ...   ...    ...   ...                ...   \n",
              "2235       46   709     43   182    42    118   247                  2   \n",
              "2236       56   406      0    30     0      0     8                  7   \n",
              "2237       91   908     48   217    32     12    24                  1   \n",
              "2238        8   428     30   214    80     30    61                  2   \n",
              "2239       40    84      3    61     2      1    21                  3   \n",
              "\n",
              "      NumWebPurchases  NumCatalogPurchases  NumStorePurchases  \\\n",
              "0                   8                   10                  4   \n",
              "1                   1                    1                  2   \n",
              "2                   8                    2                 10   \n",
              "3                   2                    0                  4   \n",
              "4                   5                    3                  6   \n",
              "...               ...                  ...                ...   \n",
              "2235                9                    3                  4   \n",
              "2236                8                    2                  5   \n",
              "2237                2                    3                 13   \n",
              "2238                6                    5                 10   \n",
              "2239                3                    1                  4   \n",
              "\n",
              "      NumWebVisitsMonth  Campaign3  Campaign4  Campaign5  Campaign1  \\\n",
              "0                     7          0          0          0          0   \n",
              "1                     5          0          0          0          0   \n",
              "2                     4          0          0          0          0   \n",
              "3                     6          0          0          0          0   \n",
              "4                     5          0          0          0          0   \n",
              "...                 ...        ...        ...        ...        ...   \n",
              "2235                  5          0          0          0          0   \n",
              "2236                  7          0          0          0          1   \n",
              "2237                  6          0          1          0          0   \n",
              "2238                  3          0          0          0          0   \n",
              "2239                  7          0          0          0          0   \n",
              "\n",
              "      Campaign2  Complain  Campaign6  totalPurchase  \n",
              "0             0         0          1             25  \n",
              "1             0         0          0              6  \n",
              "2             0         0          0             21  \n",
              "3             0         0          0              8  \n",
              "4             0         0          0             19  \n",
              "...         ...       ...        ...            ...  \n",
              "2235          0         0          0             18  \n",
              "2236          0         0          0             22  \n",
              "2237          0         0          0             19  \n",
              "2238          0         0          0             23  \n",
              "2239          0         0          1             11  \n",
              "\n",
              "[2212 rows x 20 columns]"
            ],
            "text/html": [
              "\n",
              "  <div id=\"df-27838222-3ef0-4691-941c-75fda7fe64c7\">\n",
              "    <div class=\"colab-df-container\">\n",
              "      <div>\n",
              "<style scoped>\n",
              "    .dataframe tbody tr th:only-of-type {\n",
              "        vertical-align: middle;\n",
              "    }\n",
              "\n",
              "    .dataframe tbody tr th {\n",
              "        vertical-align: top;\n",
              "    }\n",
              "\n",
              "    .dataframe thead th {\n",
              "        text-align: right;\n",
              "    }\n",
              "</style>\n",
              "<table border=\"1\" class=\"dataframe\">\n",
              "  <thead>\n",
              "    <tr style=\"text-align: right;\">\n",
              "      <th></th>\n",
              "      <th>Recency</th>\n",
              "      <th>Wine</th>\n",
              "      <th>Fruit</th>\n",
              "      <th>Meat</th>\n",
              "      <th>Fish</th>\n",
              "      <th>Sweet</th>\n",
              "      <th>Gold</th>\n",
              "      <th>NumDealsPurchases</th>\n",
              "      <th>NumWebPurchases</th>\n",
              "      <th>NumCatalogPurchases</th>\n",
              "      <th>NumStorePurchases</th>\n",
              "      <th>NumWebVisitsMonth</th>\n",
              "      <th>Campaign3</th>\n",
              "      <th>Campaign4</th>\n",
              "      <th>Campaign5</th>\n",
              "      <th>Campaign1</th>\n",
              "      <th>Campaign2</th>\n",
              "      <th>Complain</th>\n",
              "      <th>Campaign6</th>\n",
              "      <th>totalPurchase</th>\n",
              "    </tr>\n",
              "  </thead>\n",
              "  <tbody>\n",
              "    <tr>\n",
              "      <th>0</th>\n",
              "      <td>58</td>\n",
              "      <td>635</td>\n",
              "      <td>88</td>\n",
              "      <td>546</td>\n",
              "      <td>172</td>\n",
              "      <td>88</td>\n",
              "      <td>88</td>\n",
              "      <td>3</td>\n",
              "      <td>8</td>\n",
              "      <td>10</td>\n",
              "      <td>4</td>\n",
              "      <td>7</td>\n",
              "      <td>0</td>\n",
              "      <td>0</td>\n",
              "      <td>0</td>\n",
              "      <td>0</td>\n",
              "      <td>0</td>\n",
              "      <td>0</td>\n",
              "      <td>1</td>\n",
              "      <td>25</td>\n",
              "    </tr>\n",
              "    <tr>\n",
              "      <th>1</th>\n",
              "      <td>38</td>\n",
              "      <td>11</td>\n",
              "      <td>1</td>\n",
              "      <td>6</td>\n",
              "      <td>2</td>\n",
              "      <td>1</td>\n",
              "      <td>6</td>\n",
              "      <td>2</td>\n",
              "      <td>1</td>\n",
              "      <td>1</td>\n",
              "      <td>2</td>\n",
              "      <td>5</td>\n",
              "      <td>0</td>\n",
              "      <td>0</td>\n",
              "      <td>0</td>\n",
              "      <td>0</td>\n",
              "      <td>0</td>\n",
              "      <td>0</td>\n",
              "      <td>0</td>\n",
              "      <td>6</td>\n",
              "    </tr>\n",
              "    <tr>\n",
              "      <th>2</th>\n",
              "      <td>26</td>\n",
              "      <td>426</td>\n",
              "      <td>49</td>\n",
              "      <td>127</td>\n",
              "      <td>111</td>\n",
              "      <td>21</td>\n",
              "      <td>42</td>\n",
              "      <td>1</td>\n",
              "      <td>8</td>\n",
              "      <td>2</td>\n",
              "      <td>10</td>\n",
              "      <td>4</td>\n",
              "      <td>0</td>\n",
              "      <td>0</td>\n",
              "      <td>0</td>\n",
              "      <td>0</td>\n",
              "      <td>0</td>\n",
              "      <td>0</td>\n",
              "      <td>0</td>\n",
              "      <td>21</td>\n",
              "    </tr>\n",
              "    <tr>\n",
              "      <th>3</th>\n",
              "      <td>26</td>\n",
              "      <td>11</td>\n",
              "      <td>4</td>\n",
              "      <td>20</td>\n",
              "      <td>10</td>\n",
              "      <td>3</td>\n",
              "      <td>5</td>\n",
              "      <td>2</td>\n",
              "      <td>2</td>\n",
              "      <td>0</td>\n",
              "      <td>4</td>\n",
              "      <td>6</td>\n",
              "      <td>0</td>\n",
              "      <td>0</td>\n",
              "      <td>0</td>\n",
              "      <td>0</td>\n",
              "      <td>0</td>\n",
              "      <td>0</td>\n",
              "      <td>0</td>\n",
              "      <td>8</td>\n",
              "    </tr>\n",
              "    <tr>\n",
              "      <th>4</th>\n",
              "      <td>94</td>\n",
              "      <td>173</td>\n",
              "      <td>43</td>\n",
              "      <td>118</td>\n",
              "      <td>46</td>\n",
              "      <td>27</td>\n",
              "      <td>15</td>\n",
              "      <td>5</td>\n",
              "      <td>5</td>\n",
              "      <td>3</td>\n",
              "      <td>6</td>\n",
              "      <td>5</td>\n",
              "      <td>0</td>\n",
              "      <td>0</td>\n",
              "      <td>0</td>\n",
              "      <td>0</td>\n",
              "      <td>0</td>\n",
              "      <td>0</td>\n",
              "      <td>0</td>\n",
              "      <td>19</td>\n",
              "    </tr>\n",
              "    <tr>\n",
              "      <th>...</th>\n",
              "      <td>...</td>\n",
              "      <td>...</td>\n",
              "      <td>...</td>\n",
              "      <td>...</td>\n",
              "      <td>...</td>\n",
              "      <td>...</td>\n",
              "      <td>...</td>\n",
              "      <td>...</td>\n",
              "      <td>...</td>\n",
              "      <td>...</td>\n",
              "      <td>...</td>\n",
              "      <td>...</td>\n",
              "      <td>...</td>\n",
              "      <td>...</td>\n",
              "      <td>...</td>\n",
              "      <td>...</td>\n",
              "      <td>...</td>\n",
              "      <td>...</td>\n",
              "      <td>...</td>\n",
              "      <td>...</td>\n",
              "    </tr>\n",
              "    <tr>\n",
              "      <th>2235</th>\n",
              "      <td>46</td>\n",
              "      <td>709</td>\n",
              "      <td>43</td>\n",
              "      <td>182</td>\n",
              "      <td>42</td>\n",
              "      <td>118</td>\n",
              "      <td>247</td>\n",
              "      <td>2</td>\n",
              "      <td>9</td>\n",
              "      <td>3</td>\n",
              "      <td>4</td>\n",
              "      <td>5</td>\n",
              "      <td>0</td>\n",
              "      <td>0</td>\n",
              "      <td>0</td>\n",
              "      <td>0</td>\n",
              "      <td>0</td>\n",
              "      <td>0</td>\n",
              "      <td>0</td>\n",
              "      <td>18</td>\n",
              "    </tr>\n",
              "    <tr>\n",
              "      <th>2236</th>\n",
              "      <td>56</td>\n",
              "      <td>406</td>\n",
              "      <td>0</td>\n",
              "      <td>30</td>\n",
              "      <td>0</td>\n",
              "      <td>0</td>\n",
              "      <td>8</td>\n",
              "      <td>7</td>\n",
              "      <td>8</td>\n",
              "      <td>2</td>\n",
              "      <td>5</td>\n",
              "      <td>7</td>\n",
              "      <td>0</td>\n",
              "      <td>0</td>\n",
              "      <td>0</td>\n",
              "      <td>1</td>\n",
              "      <td>0</td>\n",
              "      <td>0</td>\n",
              "      <td>0</td>\n",
              "      <td>22</td>\n",
              "    </tr>\n",
              "    <tr>\n",
              "      <th>2237</th>\n",
              "      <td>91</td>\n",
              "      <td>908</td>\n",
              "      <td>48</td>\n",
              "      <td>217</td>\n",
              "      <td>32</td>\n",
              "      <td>12</td>\n",
              "      <td>24</td>\n",
              "      <td>1</td>\n",
              "      <td>2</td>\n",
              "      <td>3</td>\n",
              "      <td>13</td>\n",
              "      <td>6</td>\n",
              "      <td>0</td>\n",
              "      <td>1</td>\n",
              "      <td>0</td>\n",
              "      <td>0</td>\n",
              "      <td>0</td>\n",
              "      <td>0</td>\n",
              "      <td>0</td>\n",
              "      <td>19</td>\n",
              "    </tr>\n",
              "    <tr>\n",
              "      <th>2238</th>\n",
              "      <td>8</td>\n",
              "      <td>428</td>\n",
              "      <td>30</td>\n",
              "      <td>214</td>\n",
              "      <td>80</td>\n",
              "      <td>30</td>\n",
              "      <td>61</td>\n",
              "      <td>2</td>\n",
              "      <td>6</td>\n",
              "      <td>5</td>\n",
              "      <td>10</td>\n",
              "      <td>3</td>\n",
              "      <td>0</td>\n",
              "      <td>0</td>\n",
              "      <td>0</td>\n",
              "      <td>0</td>\n",
              "      <td>0</td>\n",
              "      <td>0</td>\n",
              "      <td>0</td>\n",
              "      <td>23</td>\n",
              "    </tr>\n",
              "    <tr>\n",
              "      <th>2239</th>\n",
              "      <td>40</td>\n",
              "      <td>84</td>\n",
              "      <td>3</td>\n",
              "      <td>61</td>\n",
              "      <td>2</td>\n",
              "      <td>1</td>\n",
              "      <td>21</td>\n",
              "      <td>3</td>\n",
              "      <td>3</td>\n",
              "      <td>1</td>\n",
              "      <td>4</td>\n",
              "      <td>7</td>\n",
              "      <td>0</td>\n",
              "      <td>0</td>\n",
              "      <td>0</td>\n",
              "      <td>0</td>\n",
              "      <td>0</td>\n",
              "      <td>0</td>\n",
              "      <td>1</td>\n",
              "      <td>11</td>\n",
              "    </tr>\n",
              "  </tbody>\n",
              "</table>\n",
              "<p>2212 rows × 20 columns</p>\n",
              "</div>\n",
              "      <button class=\"colab-df-convert\" onclick=\"convertToInteractive('df-27838222-3ef0-4691-941c-75fda7fe64c7')\"\n",
              "              title=\"Convert this dataframe to an interactive table.\"\n",
              "              style=\"display:none;\">\n",
              "        \n",
              "  <svg xmlns=\"http://www.w3.org/2000/svg\" height=\"24px\"viewBox=\"0 0 24 24\"\n",
              "       width=\"24px\">\n",
              "    <path d=\"M0 0h24v24H0V0z\" fill=\"none\"/>\n",
              "    <path d=\"M18.56 5.44l.94 2.06.94-2.06 2.06-.94-2.06-.94-.94-2.06-.94 2.06-2.06.94zm-11 1L8.5 8.5l.94-2.06 2.06-.94-2.06-.94L8.5 2.5l-.94 2.06-2.06.94zm10 10l.94 2.06.94-2.06 2.06-.94-2.06-.94-.94-2.06-.94 2.06-2.06.94z\"/><path d=\"M17.41 7.96l-1.37-1.37c-.4-.4-.92-.59-1.43-.59-.52 0-1.04.2-1.43.59L10.3 9.45l-7.72 7.72c-.78.78-.78 2.05 0 2.83L4 21.41c.39.39.9.59 1.41.59.51 0 1.02-.2 1.41-.59l7.78-7.78 2.81-2.81c.8-.78.8-2.07 0-2.86zM5.41 20L4 18.59l7.72-7.72 1.47 1.35L5.41 20z\"/>\n",
              "  </svg>\n",
              "      </button>\n",
              "      \n",
              "  <style>\n",
              "    .colab-df-container {\n",
              "      display:flex;\n",
              "      flex-wrap:wrap;\n",
              "      gap: 12px;\n",
              "    }\n",
              "\n",
              "    .colab-df-convert {\n",
              "      background-color: #E8F0FE;\n",
              "      border: none;\n",
              "      border-radius: 50%;\n",
              "      cursor: pointer;\n",
              "      display: none;\n",
              "      fill: #1967D2;\n",
              "      height: 32px;\n",
              "      padding: 0 0 0 0;\n",
              "      width: 32px;\n",
              "    }\n",
              "\n",
              "    .colab-df-convert:hover {\n",
              "      background-color: #E2EBFA;\n",
              "      box-shadow: 0px 1px 2px rgba(60, 64, 67, 0.3), 0px 1px 3px 1px rgba(60, 64, 67, 0.15);\n",
              "      fill: #174EA6;\n",
              "    }\n",
              "\n",
              "    [theme=dark] .colab-df-convert {\n",
              "      background-color: #3B4455;\n",
              "      fill: #D2E3FC;\n",
              "    }\n",
              "\n",
              "    [theme=dark] .colab-df-convert:hover {\n",
              "      background-color: #434B5C;\n",
              "      box-shadow: 0px 1px 3px 1px rgba(0, 0, 0, 0.15);\n",
              "      filter: drop-shadow(0px 1px 2px rgba(0, 0, 0, 0.3));\n",
              "      fill: #FFFFFF;\n",
              "    }\n",
              "  </style>\n",
              "\n",
              "      <script>\n",
              "        const buttonEl =\n",
              "          document.querySelector('#df-27838222-3ef0-4691-941c-75fda7fe64c7 button.colab-df-convert');\n",
              "        buttonEl.style.display =\n",
              "          google.colab.kernel.accessAllowed ? 'block' : 'none';\n",
              "\n",
              "        async function convertToInteractive(key) {\n",
              "          const element = document.querySelector('#df-27838222-3ef0-4691-941c-75fda7fe64c7');\n",
              "          const dataTable =\n",
              "            await google.colab.kernel.invokeFunction('convertToInteractive',\n",
              "                                                     [key], {});\n",
              "          if (!dataTable) return;\n",
              "\n",
              "          const docLinkHtml = 'Like what you see? Visit the ' +\n",
              "            '<a target=\"_blank\" href=https://colab.research.google.com/notebooks/data_table.ipynb>data table notebook</a>'\n",
              "            + ' to learn more about interactive tables.';\n",
              "          element.innerHTML = '';\n",
              "          dataTable['output_type'] = 'display_data';\n",
              "          await google.colab.output.renderOutput(dataTable, element);\n",
              "          const docLink = document.createElement('div');\n",
              "          docLink.innerHTML = docLinkHtml;\n",
              "          element.appendChild(docLink);\n",
              "        }\n",
              "      </script>\n",
              "    </div>\n",
              "  </div>\n",
              "  "
            ]
          },
          "metadata": {},
          "execution_count": 30
        }
      ],
      "source": [
        "df_behavior = df.iloc[:, 8:-2]\n",
        "df_behavior"
      ]
    },
    {
      "cell_type": "markdown",
      "metadata": {
        "id": "mznmy45NCTyh"
      },
      "source": [
        "#8. METODE USULAN: KMEANS"
      ]
    },
    {
      "cell_type": "markdown",
      "metadata": {
        "id": "65ZrsuMSCOWy"
      },
      "source": [
        "## Menentukan jumlah cluster dengan Elbow Method"
      ]
    },
    {
      "cell_type": "code",
      "execution_count": null,
      "metadata": {
        "colab": {
          "base_uri": "https://localhost:8080/",
          "height": 481
        },
        "id": "Mv9R0_vMCTyi",
        "outputId": "8f0c5039-eed5-485e-9a56-fdae562d706b"
      },
      "outputs": [
        {
          "output_type": "stream",
          "name": "stdout",
          "text": [
            "Looking in indexes: https://pypi.org/simple, https://us-python.pkg.dev/colab-wheels/public/simple/\n",
            "Requirement already satisfied: kneed in /usr/local/lib/python3.8/dist-packages (0.8.1)\n",
            "Requirement already satisfied: numpy>=1.14.2 in /usr/local/lib/python3.8/dist-packages (from kneed) (1.21.6)\n",
            "Requirement already satisfied: scipy>=1.0.0 in /usr/local/lib/python3.8/dist-packages (from kneed) (1.7.3)\n",
            "Knee:  3\n"
          ]
        },
        {
          "output_type": "display_data",
          "data": {
            "text/plain": [
              "<Figure size 432x432 with 1 Axes>"
            ],
            "image/png": "[encoded data removed]"
          },
          "metadata": {
            "needs_background": "light"
          }
        }
      ],
      "source": [
        "import matplotlib.pyplot as plt\n",
        "! pip install kneed\n",
        "import kneed\n",
        "from kneed import KneeLocator\n",
        "from sklearn.cluster import KMeans\n",
        "from sklearn.metrics import silhouette_score\n",
        "from sklearn.preprocessing import StandardScaler\n",
        "\n",
        "scaler = StandardScaler()\n",
        "scaled_features = scaler.fit_transform(df_behavior)\n",
        "\n",
        "sse = []\n",
        "for k in range(1, 11):\n",
        "  kmeans = KMeans(n_clusters=k, init=\"random\", n_init=10, max_iter=300, random_state=42)\n",
        "  kmeans.fit(scaled_features)\n",
        "  sse.append(kmeans.inertia_)\n",
        "\n",
        "kneedle = kneed.KneeLocator(range(1, 11), sse, curve=\"convex\", direction=\"decreasing\")\n",
        "knee_point = kneedle.knee\n",
        "print('Knee: ', knee_point)\n",
        "kneedle.plot_knee()"
      ]
    },
    {
      "cell_type": "markdown",
      "metadata": {
        "id": "qxWuVqdKBtge"
      },
      "source": [
        "Melakukan clustering dengan metode K-Means membutuhkan inisialisasi jumlah cluster yang ingin dibentuk. Untuk menemukan jumlah cluster yang optimal, salah satu metode yang bisa digunakan adalah dengan menggunakan \"Elbow Method\". Berdasarkan Elbow Method yang telah dilakukan diatas, maka jumlah cluster yang optimal untuk digunakan adalah sebanyak 3 cluster"
      ]
    },
    {
      "cell_type": "markdown",
      "metadata": {
        "id": "95z-Ep4mCUm-"
      },
      "source": [
        "## Melakukan clustering K-Means dengan jumlah cluster = 3"
      ]
    },
    {
      "cell_type": "code",
      "execution_count": null,
      "metadata": {
        "colab": {
          "base_uri": "https://localhost:8080/"
        },
        "id": "puNB25anCTyi",
        "outputId": "a7206143-28d8-4400-a5ce-44058ed9e205"
      },
      "outputs": [
        {
          "output_type": "stream",
          "name": "stdout",
          "text": [
            "shillouette score:  0.28613872076840513\n",
            "Cluster:  [0 1 2]\n"
          ]
        }
      ],
      "source": [
        "kmeans = KMeans(init=\"random\", n_clusters=3, n_init=10, max_iter=300, random_state=42)\n",
        "\n",
        "score_compare = {}\n",
        "kmeans.fit(scaled_features)\n",
        "kmeansClusters=kmeans.labels_\n",
        "score = silhouette_score(scaled_features, kmeansClusters)\n",
        "score_compare.update({\"kmeans\": score})\n",
        "print(\"shillouette score: \", score)\n",
        "print(\"Cluster: \", np.unique(kmeansClusters))"
      ]
    },
    {
      "cell_type": "markdown",
      "metadata": {
        "id": "YNz0AJLSz6Te"
      },
      "source": [
        "#9. METODE PEMBANDING 1: DBSCAN"
      ]
    },
    {
      "cell_type": "markdown",
      "metadata": {
        "id": "Q7wcj_YQCf9S"
      },
      "source": [
        "DBSCAN atau \"Density-based spatial clustering of applications with noise\" adalah salah satu metode clustering yang berbasis kerapatan atau *density based*. Metode ini tidak membutuhkan inisialisasi jumlah cluster, hanya membutuhkan inisialisasi \"min_pts\", yaitu jumlah minimal data didalam sebuah cluster, dan inisialisasi \"eps\" yaitu jarak maksimal antara titik-titik dalam sebuah cluster.\n",
        "<br><br>\n",
        "*rule of thumb* untuk estimasi parameter dalam DBSCAN adalah sebagai berikut:\n",
        "<br>\n",
        "1. min_pts gunakan 2(jumlah kolom)\n",
        "2. eps gunakan jarak antara min_pts\n",
        "\n",
        "maka, pada percobaan kali ini digunakan 2(20) untuk min_pts"
      ]
    },
    {
      "cell_type": "code",
      "execution_count": null,
      "metadata": {
        "colab": {
          "base_uri": "https://localhost:8080/"
        },
        "id": "y8JBaF-fFeKH",
        "outputId": "da80682a-1123-47ff-e7b2-8b0fdeaa82b4"
      },
      "outputs": [
        {
          "output_type": "stream",
          "name": "stdout",
          "text": [
            "Knee:  2144\n"
          ]
        },
        {
          "output_type": "display_data",
          "data": {
            "text/plain": [
              "<Figure size 432x432 with 1 Axes>"
            ],
            "image/png": "[encoded data removed]"
          },
          "metadata": {
            "needs_background": "light"
          }
        }
      ],
      "source": [
        "from sklearn.neighbors import NearestNeighbors\n",
        "from matplotlib import pyplot as plt\n",
        "neighbors = NearestNeighbors(n_neighbors=40)\n",
        "neighbors_fit = neighbors.fit(df_behavior)\n",
        "distances, indices = neighbors_fit.kneighbors(df_behavior)\n",
        "distances = np.sort(distances, axis=0)\n",
        "distances = distances[:,1]\n",
        "kneedle = kneed.KneeLocator(range(1, 2213), distances, curve=\"convex\")\n",
        "knee_point = kneedle.knee\n",
        "print('Knee: ', knee_point)\n",
        "kneedle.plot_knee()"
      ]
    },
    {
      "cell_type": "code",
      "execution_count": null,
      "metadata": {
        "colab": {
          "base_uri": "https://localhost:8080/"
        },
        "id": "PgYmVch0xJBX",
        "outputId": "0abd87c0-410c-4584-c6f9-27060caffcc3"
      },
      "outputs": [
        {
          "output_type": "stream",
          "name": "stdout",
          "text": [
            "Cluster:  [0]\n"
          ]
        }
      ],
      "source": [
        "from sklearn.cluster import DBSCAN\n",
        "dbscan = DBSCAN(eps=2144, min_samples=40).fit(df_behavior)\n",
        "dbscanClusters = dbscan.labels_\n",
        "score_compare.update({\"dbscan\": np.nan})\n",
        "print(\"Cluster: \", np.unique(dbscanClusters))"
      ]
    },
    {
      "cell_type": "markdown",
      "metadata": {
        "id": "PofpYGKtMQP1"
      },
      "source": [
        "hasil yang ditemukan adalah hanya 1 cluster yang dibentuk oleh DBSCAN. Karena DBSCAN menggunakan kerapatan sebagai dasar dari clustering, maka hasil tersebut menunjukkan bahwa data yang digunakan pada penelitian ini memiliki kerapatan yang tinggi, sehingga DBSCAN tidak dapat menghasilkan performa yang optimal"
      ]
    },
    {
      "cell_type": "markdown",
      "metadata": {
        "id": "3q9zhgWO0ECr"
      },
      "source": [
        "#10. METODE PEMBANDING 2: AGGLOMERATIVE CLUSTERING\n",
        "\n"
      ]
    },
    {
      "cell_type": "markdown",
      "metadata": {
        "id": "z8LafXOdNAxb"
      },
      "source": [
        "Agglomerative Clustering adalah metode clustering dimana setiap titik merupakan cluster tersendiri, kemudian dilakukan penggabungan atas cluster-cluster yang memiliki kemiripan, sehingga membuat cluster baru yang lebih besar. Metode ini membutuhkan inisialisasi jumlah cluster. Salah satu metode untuk mencari jumlah cluster optimal pada metode ini adalah dengan menggunakan diagram dendogram"
      ]
    },
    {
      "cell_type": "markdown",
      "metadata": {
        "id": "5ohDNiNtO0OY"
      },
      "source": [
        "## Membuat dendogram"
      ]
    },
    {
      "cell_type": "code",
      "execution_count": null,
      "metadata": {
        "colab": {
          "base_uri": "https://localhost:8080/"
        },
        "id": "vAC4GNwr7ULb",
        "outputId": "26cd182b-2088-4b06-c30c-1938728ebd67"
      },
      "outputs": [
        {
          "output_type": "display_data",
          "data": {
            "text/plain": [
              "<Figure size 720x504 with 1 Axes>"
            ],
            "image/png": "[encoded data removed]"
          },
          "metadata": {
            "needs_background": "light"
          }
        }
      ],
      "source": [
        "import scipy.cluster.hierarchy as shc\n",
        "plt.figure(figsize=(10, 7))\n",
        "plt.title(\"Dendrograms\")\n",
        "dend = shc.dendrogram(shc.linkage(scaled_features, method='ward'))"
      ]
    },
    {
      "cell_type": "markdown",
      "metadata": {
        "id": "t4V_VxwTO4AB"
      },
      "source": [
        "berdasarkan warna pada dendogram (biru, oranye, dan hijau), maka dapat disimpulkan bahwa jumlah cluster optimal untuk dibentuk adalah sebanyak 3 cluster. Kemudian dapat dilakukan clustering menggunakan agglomerative clustering dengan jumlah cluster sebanyak 3"
      ]
    },
    {
      "cell_type": "markdown",
      "metadata": {
        "id": "73CGl5kAPsCr"
      },
      "source": [
        "## Melakukan clustering dengan jumlah cluster = 3"
      ]
    },
    {
      "cell_type": "code",
      "execution_count": null,
      "metadata": {
        "colab": {
          "base_uri": "https://localhost:8080/"
        },
        "id": "ULua4c51_DDl",
        "outputId": "d28453b3-2966-42ba-8773-5e1141bed288"
      },
      "outputs": [
        {
          "output_type": "stream",
          "name": "stdout",
          "text": [
            "shillouette score:  0.2692888124969939\n",
            "Cluster:  [0 1 2]\n"
          ]
        }
      ],
      "source": [
        "from sklearn.cluster import AgglomerativeClustering\n",
        "wClusters = AgglomerativeClustering(n_clusters=3, affinity='euclidean', linkage='ward').fit_predict(scaled_features)\n",
        "score = silhouette_score(df_behavior, wClusters)\n",
        "score_compare.update({\"Agglomerative\": score})\n",
        "print(\"shillouette score: \", score)\n",
        "print(\"Cluster: \", np.unique(wClusters))"
      ]
    },
    {
      "cell_type": "markdown",
      "metadata": {
        "id": "_p0nhxfKPzCg"
      },
      "source": [
        "#11. PERBANDINGAN CLUSTERING"
      ]
    },
    {
      "cell_type": "code",
      "source": [
        "plt.title(\"Perbandingan shillouette score\")\n",
        "plt.bar(score_compare.keys(), score_compare.values())"
      ],
      "metadata": {
        "colab": {
          "base_uri": "https://localhost:8080/",
          "height": 299
        },
        "id": "8d9cfaUBiXms",
        "outputId": "b8d3931c-8aaa-44d5-8484-600f6cd60b66"
      },
      "execution_count": null,
      "outputs": [
        {
          "output_type": "execute_result",
          "data": {
            "text/plain": [
              "<BarContainer object of 3 artists>"
            ]
          },
          "metadata": {},
          "execution_count": 37
        },
        {
          "output_type": "display_data",
          "data": {
            "text/plain": [
              "<Figure size 432x288 with 1 Axes>"
            ],
            "image/png": "[encoded data removed]"
          },
          "metadata": {
            "needs_background": "light"
          }
        }
      ]
    },
    {
      "cell_type": "markdown",
      "metadata": {
        "id": "WOZ5ywAdP-Bx"
      },
      "source": [
        "dari ketiga metode yang diteliti, maka perbandingan evaluasi dengan menggunakan shillouette coefficient adalah sebagai berikut:\n",
        "\n",
        "1.   K-Means: 0.28\n",
        "2.   DBSCAN: tidak dapat dihitung karena tidak ada cluster yang terbentuk\n",
        "3.   Agglomerative: 0.26\n",
        "\n",
        "Shillouette Coefficient memiliki rentang dari -1 sampai dengan 1, dimana semakin besar skornya, maka semakin baik cluster yang terbentuk. Maka, berdasarkan shillouette coefficient yang didapat, K-Means merupakan metode yang terbaik, sehingga untuk tahapan berikutnya, cluster dari metode K-Means lah yang akan dipakai.\n",
        "\n"
      ]
    },
    {
      "cell_type": "markdown",
      "metadata": {
        "id": "4A6W50YCUcDj"
      },
      "source": [
        "## Membuat kolom cluster pada dataframe, dan memasukkan nilai cluster dari K-Means"
      ]
    },
    {
      "cell_type": "code",
      "execution_count": null,
      "metadata": {
        "colab": {
          "base_uri": "https://localhost:8080/",
          "height": 488
        },
        "id": "mvl2GkIXCTyi",
        "outputId": "153b8392-3b3f-424f-dc96-f9e8eca9b6c4"
      },
      "outputs": [
        {
          "output_type": "execute_result",
          "data": {
            "text/plain": [
              "      Cluster     ID  Year_Birth Education Marital_Status Income  Kidhome  \\\n",
              "0           2   5524        1957  Bachelor         Single    mid        0   \n",
              "1           1   2174        1954  Bachelor         Single    mid        1   \n",
              "2           2   4141        1965  Bachelor          Taken    mid        0   \n",
              "3           1   6182        1984  Bachelor          Taken    low        1   \n",
              "4           2   5324        1981       PhD          Taken    mid        1   \n",
              "...       ...    ...         ...       ...            ...    ...      ...   \n",
              "2235        2  10870        1967  Bachelor          Taken    mid        0   \n",
              "2236        1   4001        1946       PhD          Taken    mid        2   \n",
              "2237        2   7270        1981  Bachelor         Single    mid        0   \n",
              "2238        2   8235        1956    Master          Taken    mid        0   \n",
              "2239        1   9405        1954       PhD          Taken    mid        1   \n",
              "\n",
              "      Teenhome Dt_Customer  Recency  ...  Campaign3  Campaign4  Campaign5  \\\n",
              "0            0  04-09-2012       58  ...          0          0          0   \n",
              "1            1  08-03-2014       38  ...          0          0          0   \n",
              "2            0  21-08-2013       26  ...          0          0          0   \n",
              "3            0  10-02-2014       26  ...          0          0          0   \n",
              "4            0  19-01-2014       94  ...          0          0          0   \n",
              "...        ...         ...      ...  ...        ...        ...        ...   \n",
              "2235         1  13-06-2013       46  ...          0          0          0   \n",
              "2236         1  10-06-2014       56  ...          0          0          0   \n",
              "2237         0  25-01-2014       91  ...          0          1          0   \n",
              "2238         1  24-01-2014        8  ...          0          0          0   \n",
              "2239         1  15-10-2012       40  ...          0          0          0   \n",
              "\n",
              "      Campaign1  Campaign2  Complain  Campaign6  totalPurchase   totalSpend  \\\n",
              "0             0          0         0          1             25  highSpender   \n",
              "1             0          0         0          0              6   lowSpender   \n",
              "2             0          0         0          0             21   midSpender   \n",
              "3             0          0         0          0              8   lowSpender   \n",
              "4             0          0         0          0             19   lowSpender   \n",
              "...         ...        ...       ...        ...            ...          ...   \n",
              "2235          0          0         0          0             18  highSpender   \n",
              "2236          1          0         0          0             22   lowSpender   \n",
              "2237          0          0         0          0             19   midSpender   \n",
              "2238          0          0         0          0             23   midSpender   \n",
              "2239          0          0         0          1             11   lowSpender   \n",
              "\n",
              "              Age  \n",
              "0           elder  \n",
              "1           elder  \n",
              "2      middle_age  \n",
              "3     young_adult  \n",
              "4      middle_age  \n",
              "...           ...  \n",
              "2235   middle_age  \n",
              "2236        elder  \n",
              "2237   middle_age  \n",
              "2238        elder  \n",
              "2239        elder  \n",
              "\n",
              "[2212 rows x 31 columns]"
            ],
            "text/html": [
              "\n",
              "  <div id=\"df-5db054e9-ffdd-438b-a16d-f7255cac09af\">\n",
              "    <div class=\"colab-df-container\">\n",
              "      <div>\n",
              "<style scoped>\n",
              "    .dataframe tbody tr th:only-of-type {\n",
              "        vertical-align: middle;\n",
              "    }\n",
              "\n",
              "    .dataframe tbody tr th {\n",
              "        vertical-align: top;\n",
              "    }\n",
              "\n",
              "    .dataframe thead th {\n",
              "        text-align: right;\n",
              "    }\n",
              "</style>\n",
              "<table border=\"1\" class=\"dataframe\">\n",
              "  <thead>\n",
              "    <tr style=\"text-align: right;\">\n",
              "      <th></th>\n",
              "      <th>Cluster</th>\n",
              "      <th>ID</th>\n",
              "      <th>Year_Birth</th>\n",
              "      <th>Education</th>\n",
              "      <th>Marital_Status</th>\n",
              "      <th>Income</th>\n",
              "      <th>Kidhome</th>\n",
              "      <th>Teenhome</th>\n",
              "      <th>Dt_Customer</th>\n",
              "      <th>Recency</th>\n",
              "      <th>...</th>\n",
              "      <th>Campaign3</th>\n",
              "      <th>Campaign4</th>\n",
              "      <th>Campaign5</th>\n",
              "      <th>Campaign1</th>\n",
              "      <th>Campaign2</th>\n",
              "      <th>Complain</th>\n",
              "      <th>Campaign6</th>\n",
              "      <th>totalPurchase</th>\n",
              "      <th>totalSpend</th>\n",
              "      <th>Age</th>\n",
              "    </tr>\n",
              "  </thead>\n",
              "  <tbody>\n",
              "    <tr>\n",
              "      <th>0</th>\n",
              "      <td>2</td>\n",
              "      <td>5524</td>\n",
              "      <td>1957</td>\n",
              "      <td>Bachelor</td>\n",
              "      <td>Single</td>\n",
              "      <td>mid</td>\n",
              "      <td>0</td>\n",
              "      <td>0</td>\n",
              "      <td>04-09-2012</td>\n",
              "      <td>58</td>\n",
              "      <td>...</td>\n",
              "      <td>0</td>\n",
              "      <td>0</td>\n",
              "      <td>0</td>\n",
              "      <td>0</td>\n",
              "      <td>0</td>\n",
              "      <td>0</td>\n",
              "      <td>1</td>\n",
              "      <td>25</td>\n",
              "      <td>highSpender</td>\n",
              "      <td>elder</td>\n",
              "    </tr>\n",
              "    <tr>\n",
              "      <th>1</th>\n",
              "      <td>1</td>\n",
              "      <td>2174</td>\n",
              "      <td>1954</td>\n",
              "      <td>Bachelor</td>\n",
              "      <td>Single</td>\n",
              "      <td>mid</td>\n",
              "      <td>1</td>\n",
              "      <td>1</td>\n",
              "      <td>08-03-2014</td>\n",
              "      <td>38</td>\n",
              "      <td>...</td>\n",
              "      <td>0</td>\n",
              "      <td>0</td>\n",
              "      <td>0</td>\n",
              "      <td>0</td>\n",
              "      <td>0</td>\n",
              "      <td>0</td>\n",
              "      <td>0</td>\n",
              "      <td>6</td>\n",
              "      <td>lowSpender</td>\n",
              "      <td>elder</td>\n",
              "    </tr>\n",
              "    <tr>\n",
              "      <th>2</th>\n",
              "      <td>2</td>\n",
              "      <td>4141</td>\n",
              "      <td>1965</td>\n",
              "      <td>Bachelor</td>\n",
              "      <td>Taken</td>\n",
              "      <td>mid</td>\n",
              "      <td>0</td>\n",
              "      <td>0</td>\n",
              "      <td>21-08-2013</td>\n",
              "      <td>26</td>\n",
              "      <td>...</td>\n",
              "      <td>0</td>\n",
              "      <td>0</td>\n",
              "      <td>0</td>\n",
              "      <td>0</td>\n",
              "      <td>0</td>\n",
              "      <td>0</td>\n",
              "      <td>0</td>\n",
              "      <td>21</td>\n",
              "      <td>midSpender</td>\n",
              "      <td>middle_age</td>\n",
              "    </tr>\n",
              "    <tr>\n",
              "      <th>3</th>\n",
              "      <td>1</td>\n",
              "      <td>6182</td>\n",
              "      <td>1984</td>\n",
              "      <td>Bachelor</td>\n",
              "      <td>Taken</td>\n",
              "      <td>low</td>\n",
              "      <td>1</td>\n",
              "      <td>0</td>\n",
              "      <td>10-02-2014</td>\n",
              "      <td>26</td>\n",
              "      <td>...</td>\n",
              "      <td>0</td>\n",
              "      <td>0</td>\n",
              "      <td>0</td>\n",
              "      <td>0</td>\n",
              "      <td>0</td>\n",
              "      <td>0</td>\n",
              "      <td>0</td>\n",
              "      <td>8</td>\n",
              "      <td>lowSpender</td>\n",
              "      <td>young_adult</td>\n",
              "    </tr>\n",
              "    <tr>\n",
              "      <th>4</th>\n",
              "      <td>2</td>\n",
              "      <td>5324</td>\n",
              "      <td>1981</td>\n",
              "      <td>PhD</td>\n",
              "      <td>Taken</td>\n",
              "      <td>mid</td>\n",
              "      <td>1</td>\n",
              "      <td>0</td>\n",
              "      <td>19-01-2014</td>\n",
              "      <td>94</td>\n",
              "      <td>...</td>\n",
              "      <td>0</td>\n",
              "      <td>0</td>\n",
              "      <td>0</td>\n",
              "      <td>0</td>\n",
              "      <td>0</td>\n",
              "      <td>0</td>\n",
              "      <td>0</td>\n",
              "      <td>19</td>\n",
              "      <td>lowSpender</td>\n",
              "      <td>middle_age</td>\n",
              "    </tr>\n",
              "    <tr>\n",
              "      <th>...</th>\n",
              "      <td>...</td>\n",
              "      <td>...</td>\n",
              "      <td>...</td>\n",
              "      <td>...</td>\n",
              "      <td>...</td>\n",
              "      <td>...</td>\n",
              "      <td>...</td>\n",
              "      <td>...</td>\n",
              "      <td>...</td>\n",
              "      <td>...</td>\n",
              "      <td>...</td>\n",
              "      <td>...</td>\n",
              "      <td>...</td>\n",
              "      <td>...</td>\n",
              "      <td>...</td>\n",
              "      <td>...</td>\n",
              "      <td>...</td>\n",
              "      <td>...</td>\n",
              "      <td>...</td>\n",
              "      <td>...</td>\n",
              "      <td>...</td>\n",
              "    </tr>\n",
              "    <tr>\n",
              "      <th>2235</th>\n",
              "      <td>2</td>\n",
              "      <td>10870</td>\n",
              "      <td>1967</td>\n",
              "      <td>Bachelor</td>\n",
              "      <td>Taken</td>\n",
              "      <td>mid</td>\n",
              "      <td>0</td>\n",
              "      <td>1</td>\n",
              "      <td>13-06-2013</td>\n",
              "      <td>46</td>\n",
              "      <td>...</td>\n",
              "      <td>0</td>\n",
              "      <td>0</td>\n",
              "      <td>0</td>\n",
              "      <td>0</td>\n",
              "      <td>0</td>\n",
              "      <td>0</td>\n",
              "      <td>0</td>\n",
              "      <td>18</td>\n",
              "      <td>highSpender</td>\n",
              "      <td>middle_age</td>\n",
              "    </tr>\n",
              "    <tr>\n",
              "      <th>2236</th>\n",
              "      <td>1</td>\n",
              "      <td>4001</td>\n",
              "      <td>1946</td>\n",
              "      <td>PhD</td>\n",
              "      <td>Taken</td>\n",
              "      <td>mid</td>\n",
              "      <td>2</td>\n",
              "      <td>1</td>\n",
              "      <td>10-06-2014</td>\n",
              "      <td>56</td>\n",
              "      <td>...</td>\n",
              "      <td>0</td>\n",
              "      <td>0</td>\n",
              "      <td>0</td>\n",
              "      <td>1</td>\n",
              "      <td>0</td>\n",
              "      <td>0</td>\n",
              "      <td>0</td>\n",
              "      <td>22</td>\n",
              "      <td>lowSpender</td>\n",
              "      <td>elder</td>\n",
              "    </tr>\n",
              "    <tr>\n",
              "      <th>2237</th>\n",
              "      <td>2</td>\n",
              "      <td>7270</td>\n",
              "      <td>1981</td>\n",
              "      <td>Bachelor</td>\n",
              "      <td>Single</td>\n",
              "      <td>mid</td>\n",
              "      <td>0</td>\n",
              "      <td>0</td>\n",
              "      <td>25-01-2014</td>\n",
              "      <td>91</td>\n",
              "      <td>...</td>\n",
              "      <td>0</td>\n",
              "      <td>1</td>\n",
              "      <td>0</td>\n",
              "      <td>0</td>\n",
              "      <td>0</td>\n",
              "      <td>0</td>\n",
              "      <td>0</td>\n",
              "      <td>19</td>\n",
              "      <td>midSpender</td>\n",
              "      <td>middle_age</td>\n",
              "    </tr>\n",
              "    <tr>\n",
              "      <th>2238</th>\n",
              "      <td>2</td>\n",
              "      <td>8235</td>\n",
              "      <td>1956</td>\n",
              "      <td>Master</td>\n",
              "      <td>Taken</td>\n",
              "      <td>mid</td>\n",
              "      <td>0</td>\n",
              "      <td>1</td>\n",
              "      <td>24-01-2014</td>\n",
              "      <td>8</td>\n",
              "      <td>...</td>\n",
              "      <td>0</td>\n",
              "      <td>0</td>\n",
              "      <td>0</td>\n",
              "      <td>0</td>\n",
              "      <td>0</td>\n",
              "      <td>0</td>\n",
              "      <td>0</td>\n",
              "      <td>23</td>\n",
              "      <td>midSpender</td>\n",
              "      <td>elder</td>\n",
              "    </tr>\n",
              "    <tr>\n",
              "      <th>2239</th>\n",
              "      <td>1</td>\n",
              "      <td>9405</td>\n",
              "      <td>1954</td>\n",
              "      <td>PhD</td>\n",
              "      <td>Taken</td>\n",
              "      <td>mid</td>\n",
              "      <td>1</td>\n",
              "      <td>1</td>\n",
              "      <td>15-10-2012</td>\n",
              "      <td>40</td>\n",
              "      <td>...</td>\n",
              "      <td>0</td>\n",
              "      <td>0</td>\n",
              "      <td>0</td>\n",
              "      <td>0</td>\n",
              "      <td>0</td>\n",
              "      <td>0</td>\n",
              "      <td>1</td>\n",
              "      <td>11</td>\n",
              "      <td>lowSpender</td>\n",
              "      <td>elder</td>\n",
              "    </tr>\n",
              "  </tbody>\n",
              "</table>\n",
              "<p>2212 rows × 31 columns</p>\n",
              "</div>\n",
              "      <button class=\"colab-df-convert\" onclick=\"convertToInteractive('df-5db054e9-ffdd-438b-a16d-f7255cac09af')\"\n",
              "              title=\"Convert this dataframe to an interactive table.\"\n",
              "              style=\"display:none;\">\n",
              "        \n",
              "  <svg xmlns=\"http://www.w3.org/2000/svg\" height=\"24px\"viewBox=\"0 0 24 24\"\n",
              "       width=\"24px\">\n",
              "    <path d=\"M0 0h24v24H0V0z\" fill=\"none\"/>\n",
              "    <path d=\"M18.56 5.44l.94 2.06.94-2.06 2.06-.94-2.06-.94-.94-2.06-.94 2.06-2.06.94zm-11 1L8.5 8.5l.94-2.06 2.06-.94-2.06-.94L8.5 2.5l-.94 2.06-2.06.94zm10 10l.94 2.06.94-2.06 2.06-.94-2.06-.94-.94-2.06-.94 2.06-2.06.94z\"/><path d=\"M17.41 7.96l-1.37-1.37c-.4-.4-.92-.59-1.43-.59-.52 0-1.04.2-1.43.59L10.3 9.45l-7.72 7.72c-.78.78-.78 2.05 0 2.83L4 21.41c.39.39.9.59 1.41.59.51 0 1.02-.2 1.41-.59l7.78-7.78 2.81-2.81c.8-.78.8-2.07 0-2.86zM5.41 20L4 18.59l7.72-7.72 1.47 1.35L5.41 20z\"/>\n",
              "  </svg>\n",
              "      </button>\n",
              "      \n",
              "  <style>\n",
              "    .colab-df-container {\n",
              "      display:flex;\n",
              "      flex-wrap:wrap;\n",
              "      gap: 12px;\n",
              "    }\n",
              "\n",
              "    .colab-df-convert {\n",
              "      background-color: #E8F0FE;\n",
              "      border: none;\n",
              "      border-radius: 50%;\n",
              "      cursor: pointer;\n",
              "      display: none;\n",
              "      fill: #1967D2;\n",
              "      height: 32px;\n",
              "      padding: 0 0 0 0;\n",
              "      width: 32px;\n",
              "    }\n",
              "\n",
              "    .colab-df-convert:hover {\n",
              "      background-color: #E2EBFA;\n",
              "      box-shadow: 0px 1px 2px rgba(60, 64, 67, 0.3), 0px 1px 3px 1px rgba(60, 64, 67, 0.15);\n",
              "      fill: #174EA6;\n",
              "    }\n",
              "\n",
              "    [theme=dark] .colab-df-convert {\n",
              "      background-color: #3B4455;\n",
              "      fill: #D2E3FC;\n",
              "    }\n",
              "\n",
              "    [theme=dark] .colab-df-convert:hover {\n",
              "      background-color: #434B5C;\n",
              "      box-shadow: 0px 1px 3px 1px rgba(0, 0, 0, 0.15);\n",
              "      filter: drop-shadow(0px 1px 2px rgba(0, 0, 0, 0.3));\n",
              "      fill: #FFFFFF;\n",
              "    }\n",
              "  </style>\n",
              "\n",
              "      <script>\n",
              "        const buttonEl =\n",
              "          document.querySelector('#df-5db054e9-ffdd-438b-a16d-f7255cac09af button.colab-df-convert');\n",
              "        buttonEl.style.display =\n",
              "          google.colab.kernel.accessAllowed ? 'block' : 'none';\n",
              "\n",
              "        async function convertToInteractive(key) {\n",
              "          const element = document.querySelector('#df-5db054e9-ffdd-438b-a16d-f7255cac09af');\n",
              "          const dataTable =\n",
              "            await google.colab.kernel.invokeFunction('convertToInteractive',\n",
              "                                                     [key], {});\n",
              "          if (!dataTable) return;\n",
              "\n",
              "          const docLinkHtml = 'Like what you see? Visit the ' +\n",
              "            '<a target=\"_blank\" href=https://colab.research.google.com/notebooks/data_table.ipynb>data table notebook</a>'\n",
              "            + ' to learn more about interactive tables.';\n",
              "          element.innerHTML = '';\n",
              "          dataTable['output_type'] = 'display_data';\n",
              "          await google.colab.output.renderOutput(dataTable, element);\n",
              "          const docLink = document.createElement('div');\n",
              "          docLink.innerHTML = docLinkHtml;\n",
              "          element.appendChild(docLink);\n",
              "        }\n",
              "      </script>\n",
              "    </div>\n",
              "  </div>\n",
              "  "
            ]
          },
          "metadata": {},
          "execution_count": 38
        }
      ],
      "source": [
        "df.insert(0, \"Cluster\", kmeansClusters, True)\n",
        "df"
      ]
    },
    {
      "cell_type": "markdown",
      "metadata": {
        "id": "51zNvpVrUnaf"
      },
      "source": [
        "## Melihat distribusi cluster"
      ]
    },
    {
      "cell_type": "code",
      "execution_count": null,
      "metadata": {
        "colab": {
          "base_uri": "https://localhost:8080/",
          "height": 297
        },
        "id": "UPLixPK906Fy",
        "outputId": "53113d83-de17-4c8e-9d93-069d7b03ab10"
      },
      "outputs": [
        {
          "output_type": "execute_result",
          "data": {
            "text/plain": [
              "<matplotlib.axes._subplots.AxesSubplot at 0x7fda03dda280>"
            ]
          },
          "metadata": {},
          "execution_count": 39
        },
        {
          "output_type": "display_data",
          "data": {
            "text/plain": [
              "<Figure size 432x288 with 1 Axes>"
            ],
            "image/png": "[encoded data removed]"
          },
          "metadata": {
            "needs_background": "light"
          }
        }
      ],
      "source": [
        "sns.countplot(x=df[\"Cluster\"])"
      ]
    },
    {
      "cell_type": "code",
      "execution_count": null,
      "metadata": {
        "colab": {
          "base_uri": "https://localhost:8080/",
          "height": 264
        },
        "id": "26YQdxLid0dn",
        "outputId": "01ae21d0-126b-4cf5-a7e1-c0cf3f1612a1"
      },
      "outputs": [
        {
          "output_type": "display_data",
          "data": {
            "text/plain": [
              "<Figure size 432x288 with 1 Axes>"
            ],
            "image/png": "[encoded data removed]"
          },
          "metadata": {}
        }
      ],
      "source": [
        "c0 = df.loc[df[\"Cluster\"]==0].shape[0]\n",
        "c1 = df.loc[df[\"Cluster\"]==1].shape[0]\n",
        "c2 = df.loc[df[\"Cluster\"]==2].shape[0]\n",
        "y = np.array([c0, c1, c2])\n",
        "\n",
        "plt.title(\"Distribusi Cluster\")\n",
        "plt.pie(y, labels=[\"c0\", \"c1\", \"c2\"])\n",
        "plt.legend()\n",
        "plt.show()"
      ]
    },
    {
      "cell_type": "code",
      "source": [
        "df.loc[df[\"Cluster\"]==0].to_csv(\"c0.csv\")\n"
      ],
      "metadata": {
        "id": "yTmXDvkR36iX"
      },
      "execution_count": null,
      "outputs": []
    },
    {
      "cell_type": "code",
      "source": [
        "df.loc[df[\"Cluster\"]==1].to_csv(\"c1.csv\")\n",
        "df.loc[df[\"Cluster\"]==2].to_csv(\"c2.csv\")"
      ],
      "metadata": {
        "id": "E1rLFBsh4D00"
      },
      "execution_count": null,
      "outputs": []
    },
    {
      "cell_type": "code",
      "source": [
        "c0 = df.loc[df[\"Cluster\"]==0]\n",
        "c0.head()"
      ],
      "metadata": {
        "id": "R2Z1dbrY456g",
        "outputId": "00b903b6-bc90-4643-d691-3d6bf3cd95da",
        "colab": {
          "base_uri": "https://localhost:8080/",
          "height": 299
        }
      },
      "execution_count": null,
      "outputs": [
        {
          "output_type": "execute_result",
          "data": {
            "text/plain": [
              "    Cluster    ID  Year_Birth Education Marital_Status Income  Kidhome  \\\n",
              "15        0  2114        1946       PhD         Single   high        0   \n",
              "29        0  1966        1965       PhD          Taken   high        0   \n",
              "53        0  2225        1977  Bachelor         Single   high        0   \n",
              "55        0  6260        1955    Master          Taken   high        0   \n",
              "60        0  6853        1982    Master         Single    mid        0   \n",
              "\n",
              "    Teenhome Dt_Customer  Recency  ... Campaign3 Campaign4 Campaign5  \\\n",
              "15         0  24-11-2012       23  ...         0         0         1   \n",
              "29         0  22-11-2013       96  ...         0         0         1   \n",
              "53         0  07-06-2014       54  ...         1         0         0   \n",
              "55         0  19-11-2012       55  ...         0         0         1   \n",
              "60         0  04-07-2013       12  ...         0         1         1   \n",
              "\n",
              "   Campaign1 Campaign2 Complain  Campaign6  totalPurchase   totalSpend  \\\n",
              "15         1         0        0          1             26  highSpender   \n",
              "29         0         0        0          0             26  highSpender   \n",
              "53         1         0        0          1             21  highSpender   \n",
              "55         0         0        0          1             27  highSpender   \n",
              "60         0         0        0          1             21  highSpender   \n",
              "\n",
              "            Age  \n",
              "15        elder  \n",
              "29   middle_age  \n",
              "53   middle_age  \n",
              "55        elder  \n",
              "60  young_adult  \n",
              "\n",
              "[5 rows x 31 columns]"
            ],
            "text/html": [
              "\n",
              "  <div id=\"df-e82fb4f9-d3d4-4f21-952f-d8e51ba20bae\">\n",
              "    <div class=\"colab-df-container\">\n",
              "      <div>\n",
              "<style scoped>\n",
              "    .dataframe tbody tr th:only-of-type {\n",
              "        vertical-align: middle;\n",
              "    }\n",
              "\n",
              "    .dataframe tbody tr th {\n",
              "        vertical-align: top;\n",
              "    }\n",
              "\n",
              "    .dataframe thead th {\n",
              "        text-align: right;\n",
              "    }\n",
              "</style>\n",
              "<table border=\"1\" class=\"dataframe\">\n",
              "  <thead>\n",
              "    <tr style=\"text-align: right;\">\n",
              "      <th></th>\n",
              "      <th>Cluster</th>\n",
              "      <th>ID</th>\n",
              "      <th>Year_Birth</th>\n",
              "      <th>Education</th>\n",
              "      <th>Marital_Status</th>\n",
              "      <th>Income</th>\n",
              "      <th>Kidhome</th>\n",
              "      <th>Teenhome</th>\n",
              "      <th>Dt_Customer</th>\n",
              "      <th>Recency</th>\n",
              "      <th>...</th>\n",
              "      <th>Campaign3</th>\n",
              "      <th>Campaign4</th>\n",
              "      <th>Campaign5</th>\n",
              "      <th>Campaign1</th>\n",
              "      <th>Campaign2</th>\n",
              "      <th>Complain</th>\n",
              "      <th>Campaign6</th>\n",
              "      <th>totalPurchase</th>\n",
              "      <th>totalSpend</th>\n",
              "      <th>Age</th>\n",
              "    </tr>\n",
              "  </thead>\n",
              "  <tbody>\n",
              "    <tr>\n",
              "      <th>15</th>\n",
              "      <td>0</td>\n",
              "      <td>2114</td>\n",
              "      <td>1946</td>\n",
              "      <td>PhD</td>\n",
              "      <td>Single</td>\n",
              "      <td>high</td>\n",
              "      <td>0</td>\n",
              "      <td>0</td>\n",
              "      <td>24-11-2012</td>\n",
              "      <td>23</td>\n",
              "      <td>...</td>\n",
              "      <td>0</td>\n",
              "      <td>0</td>\n",
              "      <td>1</td>\n",
              "      <td>1</td>\n",
              "      <td>0</td>\n",
              "      <td>0</td>\n",
              "      <td>1</td>\n",
              "      <td>26</td>\n",
              "      <td>highSpender</td>\n",
              "      <td>elder</td>\n",
              "    </tr>\n",
              "    <tr>\n",
              "      <th>29</th>\n",
              "      <td>0</td>\n",
              "      <td>1966</td>\n",
              "      <td>1965</td>\n",
              "      <td>PhD</td>\n",
              "      <td>Taken</td>\n",
              "      <td>high</td>\n",
              "      <td>0</td>\n",
              "      <td>0</td>\n",
              "      <td>22-11-2013</td>\n",
              "      <td>96</td>\n",
              "      <td>...</td>\n",
              "      <td>0</td>\n",
              "      <td>0</td>\n",
              "      <td>1</td>\n",
              "      <td>0</td>\n",
              "      <td>0</td>\n",
              "      <td>0</td>\n",
              "      <td>0</td>\n",
              "      <td>26</td>\n",
              "      <td>highSpender</td>\n",
              "      <td>middle_age</td>\n",
              "    </tr>\n",
              "    <tr>\n",
              "      <th>53</th>\n",
              "      <td>0</td>\n",
              "      <td>2225</td>\n",
              "      <td>1977</td>\n",
              "      <td>Bachelor</td>\n",
              "      <td>Single</td>\n",
              "      <td>high</td>\n",
              "      <td>0</td>\n",
              "      <td>0</td>\n",
              "      <td>07-06-2014</td>\n",
              "      <td>54</td>\n",
              "      <td>...</td>\n",
              "      <td>1</td>\n",
              "      <td>0</td>\n",
              "      <td>0</td>\n",
              "      <td>1</td>\n",
              "      <td>0</td>\n",
              "      <td>0</td>\n",
              "      <td>1</td>\n",
              "      <td>21</td>\n",
              "      <td>highSpender</td>\n",
              "      <td>middle_age</td>\n",
              "    </tr>\n",
              "    <tr>\n",
              "      <th>55</th>\n",
              "      <td>0</td>\n",
              "      <td>6260</td>\n",
              "      <td>1955</td>\n",
              "      <td>Master</td>\n",
              "      <td>Taken</td>\n",
              "      <td>high</td>\n",
              "      <td>0</td>\n",
              "      <td>0</td>\n",
              "      <td>19-11-2012</td>\n",
              "      <td>55</td>\n",
              "      <td>...</td>\n",
              "      <td>0</td>\n",
              "      <td>0</td>\n",
              "      <td>1</td>\n",
              "      <td>0</td>\n",
              "      <td>0</td>\n",
              "      <td>0</td>\n",
              "      <td>1</td>\n",
              "      <td>27</td>\n",
              "      <td>highSpender</td>\n",
              "      <td>elder</td>\n",
              "    </tr>\n",
              "    <tr>\n",
              "      <th>60</th>\n",
              "      <td>0</td>\n",
              "      <td>6853</td>\n",
              "      <td>1982</td>\n",
              "      <td>Master</td>\n",
              "      <td>Single</td>\n",
              "      <td>mid</td>\n",
              "      <td>0</td>\n",
              "      <td>0</td>\n",
              "      <td>04-07-2013</td>\n",
              "      <td>12</td>\n",
              "      <td>...</td>\n",
              "      <td>0</td>\n",
              "      <td>1</td>\n",
              "      <td>1</td>\n",
              "      <td>0</td>\n",
              "      <td>0</td>\n",
              "      <td>0</td>\n",
              "      <td>1</td>\n",
              "      <td>21</td>\n",
              "      <td>highSpender</td>\n",
              "      <td>young_adult</td>\n",
              "    </tr>\n",
              "  </tbody>\n",
              "</table>\n",
              "<p>5 rows × 31 columns</p>\n",
              "</div>\n",
              "      <button class=\"colab-df-convert\" onclick=\"convertToInteractive('df-e82fb4f9-d3d4-4f21-952f-d8e51ba20bae')\"\n",
              "              title=\"Convert this dataframe to an interactive table.\"\n",
              "              style=\"display:none;\">\n",
              "        \n",
              "  <svg xmlns=\"http://www.w3.org/2000/svg\" height=\"24px\"viewBox=\"0 0 24 24\"\n",
              "       width=\"24px\">\n",
              "    <path d=\"M0 0h24v24H0V0z\" fill=\"none\"/>\n",
              "    <path d=\"M18.56 5.44l.94 2.06.94-2.06 2.06-.94-2.06-.94-.94-2.06-.94 2.06-2.06.94zm-11 1L8.5 8.5l.94-2.06 2.06-.94-2.06-.94L8.5 2.5l-.94 2.06-2.06.94zm10 10l.94 2.06.94-2.06 2.06-.94-2.06-.94-.94-2.06-.94 2.06-2.06.94z\"/><path d=\"M17.41 7.96l-1.37-1.37c-.4-.4-.92-.59-1.43-.59-.52 0-1.04.2-1.43.59L10.3 9.45l-7.72 7.72c-.78.78-.78 2.05 0 2.83L4 21.41c.39.39.9.59 1.41.59.51 0 1.02-.2 1.41-.59l7.78-7.78 2.81-2.81c.8-.78.8-2.07 0-2.86zM5.41 20L4 18.59l7.72-7.72 1.47 1.35L5.41 20z\"/>\n",
              "  </svg>\n",
              "      </button>\n",
              "      \n",
              "  <style>\n",
              "    .colab-df-container {\n",
              "      display:flex;\n",
              "      flex-wrap:wrap;\n",
              "      gap: 12px;\n",
              "    }\n",
              "\n",
              "    .colab-df-convert {\n",
              "      background-color: #E8F0FE;\n",
              "      border: none;\n",
              "      border-radius: 50%;\n",
              "      cursor: pointer;\n",
              "      display: none;\n",
              "      fill: #1967D2;\n",
              "      height: 32px;\n",
              "      padding: 0 0 0 0;\n",
              "      width: 32px;\n",
              "    }\n",
              "\n",
              "    .colab-df-convert:hover {\n",
              "      background-color: #E2EBFA;\n",
              "      box-shadow: 0px 1px 2px rgba(60, 64, 67, 0.3), 0px 1px 3px 1px rgba(60, 64, 67, 0.15);\n",
              "      fill: #174EA6;\n",
              "    }\n",
              "\n",
              "    [theme=dark] .colab-df-convert {\n",
              "      background-color: #3B4455;\n",
              "      fill: #D2E3FC;\n",
              "    }\n",
              "\n",
              "    [theme=dark] .colab-df-convert:hover {\n",
              "      background-color: #434B5C;\n",
              "      box-shadow: 0px 1px 3px 1px rgba(0, 0, 0, 0.15);\n",
              "      filter: drop-shadow(0px 1px 2px rgba(0, 0, 0, 0.3));\n",
              "      fill: #FFFFFF;\n",
              "    }\n",
              "  </style>\n",
              "\n",
              "      <script>\n",
              "        const buttonEl =\n",
              "          document.querySelector('#df-e82fb4f9-d3d4-4f21-952f-d8e51ba20bae button.colab-df-convert');\n",
              "        buttonEl.style.display =\n",
              "          google.colab.kernel.accessAllowed ? 'block' : 'none';\n",
              "\n",
              "        async function convertToInteractive(key) {\n",
              "          const element = document.querySelector('#df-e82fb4f9-d3d4-4f21-952f-d8e51ba20bae');\n",
              "          const dataTable =\n",
              "            await google.colab.kernel.invokeFunction('convertToInteractive',\n",
              "                                                     [key], {});\n",
              "          if (!dataTable) return;\n",
              "\n",
              "          const docLinkHtml = 'Like what you see? Visit the ' +\n",
              "            '<a target=\"_blank\" href=https://colab.research.google.com/notebooks/data_table.ipynb>data table notebook</a>'\n",
              "            + ' to learn more about interactive tables.';\n",
              "          element.innerHTML = '';\n",
              "          dataTable['output_type'] = 'display_data';\n",
              "          await google.colab.output.renderOutput(dataTable, element);\n",
              "          const docLink = document.createElement('div');\n",
              "          docLink.innerHTML = docLinkHtml;\n",
              "          element.appendChild(docLink);\n",
              "        }\n",
              "      </script>\n",
              "    </div>\n",
              "  </div>\n",
              "  "
            ]
          },
          "metadata": {},
          "execution_count": 66
        }
      ]
    },
    {
      "cell_type": "markdown",
      "metadata": {
        "id": "WVcQsYRJCTyi"
      },
      "source": [
        "#12. ANALISIS CLUSTER"
      ]
    },
    {
      "cell_type": "markdown",
      "metadata": {
        "id": "VpOpTVYNVMvy"
      },
      "source": [
        "## Meneliti income setiap cluster"
      ]
    },
    {
      "cell_type": "code",
      "execution_count": null,
      "metadata": {
        "colab": {
          "base_uri": "https://localhost:8080/",
          "height": 299
        },
        "id": "cBMII6LvCTyi",
        "outputId": "c3d05175-ac0c-458e-f8da-5edf2242d6e0"
      },
      "outputs": [
        {
          "output_type": "execute_result",
          "data": {
            "text/plain": [
              "<BarContainer object of 4 artists>"
            ]
          },
          "metadata": {},
          "execution_count": 41
        },
        {
          "output_type": "display_data",
          "data": {
            "text/plain": [
              "<Figure size 432x288 with 1 Axes>"
            ],
            "image/png": "[encoded data removed]"
          },
          "metadata": {
            "needs_background": "light"
          }
        }
      ],
      "source": [
        "tes = df.loc[df[\"Cluster\"] == 0]\n",
        "\n",
        "income = [\"low\", \"mid\", \"high\", \"very high\"]\n",
        "percent = []\n",
        "for i in income:\n",
        "  percent.append(tes.loc[tes[\"Income\"]== i].shape[0] / df.loc[df[\"Income\"]== i].shape[0])\n",
        "\n",
        "plt.title(\"income cluster 0\")\n",
        "plt.bar(income, percent, color=[\"red\", \"cyan\", \"pink\", \"orange\"])"
      ]
    },
    {
      "cell_type": "code",
      "execution_count": null,
      "metadata": {
        "colab": {
          "base_uri": "https://localhost:8080/",
          "height": 299
        },
        "id": "KeP6vcNhCTyi",
        "outputId": "5b49d173-4ccd-4268-b893-39062bf40dd2"
      },
      "outputs": [
        {
          "output_type": "execute_result",
          "data": {
            "text/plain": [
              "<BarContainer object of 4 artists>"
            ]
          },
          "metadata": {},
          "execution_count": 42
        },
        {
          "output_type": "display_data",
          "data": {
            "text/plain": [
              "<Figure size 432x288 with 1 Axes>"
            ],
            "image/png": "[encoded data removed]"
          },
          "metadata": {
            "needs_background": "light"
          }
        }
      ],
      "source": [
        "tes = df.loc[df[\"Cluster\"] == 1]\n",
        "\n",
        "income = [\"low\", \"mid\", \"high\", \"very high\"]\n",
        "percent = []\n",
        "for i in income:\n",
        "  percent.append(tes.loc[tes[\"Income\"]== i].shape[0] / df.loc[df[\"Income\"]== i].shape[0])\n",
        "\n",
        "plt.title(\"income cluster 1\")\n",
        "plt.bar(income, percent, color=[\"red\", \"cyan\", \"pink\", \"orange\"])"
      ]
    },
    {
      "cell_type": "code",
      "execution_count": null,
      "metadata": {
        "colab": {
          "base_uri": "https://localhost:8080/",
          "height": 299
        },
        "id": "DLA1eJX4CTyi",
        "outputId": "f0735e85-571e-47af-be71-3887e5de579e"
      },
      "outputs": [
        {
          "output_type": "execute_result",
          "data": {
            "text/plain": [
              "<BarContainer object of 4 artists>"
            ]
          },
          "metadata": {},
          "execution_count": 43
        },
        {
          "output_type": "display_data",
          "data": {
            "text/plain": [
              "<Figure size 432x288 with 1 Axes>"
            ],
            "image/png": "[encoded data removed]"
          },
          "metadata": {
            "needs_background": "light"
          }
        }
      ],
      "source": [
        "tes = df.loc[df[\"Cluster\"] == 2]\n",
        "\n",
        "income = [\"low\", \"mid\", \"high\", \"very high\"]\n",
        "percent = []\n",
        "for i in income:\n",
        "  percent.append(tes.loc[tes[\"Income\"]== i].shape[0] / df.loc[df[\"Income\"]== i].shape[0])\n",
        "\n",
        "plt.title(\"Income cluster 2\")\n",
        "plt.bar(income, percent, color=[\"red\", \"cyan\", \"pink\", \"orange\"])"
      ]
    },
    {
      "cell_type": "markdown",
      "metadata": {
        "id": "UpMsFqNlCTyk"
      },
      "source": [
        "## Meneliti umur setiap cluster"
      ]
    },
    {
      "cell_type": "code",
      "execution_count": null,
      "metadata": {
        "colab": {
          "base_uri": "https://localhost:8080/",
          "height": 300
        },
        "id": "sL82OuOPCTyk",
        "outputId": "8c1fc6e7-8d55-4bb9-ad89-d97c6b7e9f50"
      },
      "outputs": [
        {
          "output_type": "execute_result",
          "data": {
            "text/plain": [
              "<BarContainer object of 3 artists>"
            ]
          },
          "metadata": {},
          "execution_count": 44
        },
        {
          "output_type": "display_data",
          "data": {
            "text/plain": [
              "<Figure size 432x288 with 1 Axes>"
            ],
            "image/png": "[encoded data removed]"
          },
          "metadata": {
            "needs_background": "light"
          }
        }
      ],
      "source": [
        "tes = df.loc[df[\"Cluster\"] == 0]\n",
        "\n",
        "age = [\"young_adult\", \"middle_age\", \"elder\"]\n",
        "percent = []\n",
        "for i in age:\n",
        "  percent.append(tes.loc[tes[\"Age\"]== i].shape[0] / df.loc[df[\"Age\"]== i].shape[0])\n",
        "\n",
        "plt.title(\"Umur cluster 0\")\n",
        "plt.bar(age, percent, color=[\"navy\", \"darkRed\", \"darkGreen\", \"orange\"])"
      ]
    },
    {
      "cell_type": "code",
      "execution_count": null,
      "metadata": {
        "colab": {
          "base_uri": "https://localhost:8080/",
          "height": 300
        },
        "id": "hxmjE-pwCTyk",
        "outputId": "2346608b-3568-4c01-ca55-faac6f7fe19d"
      },
      "outputs": [
        {
          "output_type": "execute_result",
          "data": {
            "text/plain": [
              "<BarContainer object of 3 artists>"
            ]
          },
          "metadata": {},
          "execution_count": 45
        },
        {
          "output_type": "display_data",
          "data": {
            "text/plain": [
              "<Figure size 432x288 with 1 Axes>"
            ],
            "image/png": "[encoded data removed]"
          },
          "metadata": {
            "needs_background": "light"
          }
        }
      ],
      "source": [
        "tes = df.loc[df[\"Cluster\"] == 1]\n",
        "\n",
        "age = [\"young_adult\", \"middle_age\", \"elder\"]\n",
        "percent = []\n",
        "for i in age:\n",
        "  percent.append(tes.loc[tes[\"Age\"]== i].shape[0] / df.loc[df[\"Age\"]== i].shape[0])\n",
        "\n",
        "plt.title(\"Umur cluster 1\")\n",
        "plt.bar(age, percent, color = [\"navy\", \"darkRed\", \"darkGreen\", \"orange\"])"
      ]
    },
    {
      "cell_type": "code",
      "execution_count": null,
      "metadata": {
        "colab": {
          "base_uri": "https://localhost:8080/",
          "height": 300
        },
        "id": "p8AwszysCTyk",
        "outputId": "68f31dd5-7bdb-49d1-d9ff-740e0ec4f3c9"
      },
      "outputs": [
        {
          "output_type": "execute_result",
          "data": {
            "text/plain": [
              "<BarContainer object of 3 artists>"
            ]
          },
          "metadata": {},
          "execution_count": 46
        },
        {
          "output_type": "display_data",
          "data": {
            "text/plain": [
              "<Figure size 432x288 with 1 Axes>"
            ],
            "image/png": "[encoded data removed]"
          },
          "metadata": {
            "needs_background": "light"
          }
        }
      ],
      "source": [
        "tes = df.loc[df[\"Cluster\"] == 2]\n",
        "\n",
        "age = [\"young_adult\", \"middle_age\", \"elder\"]\n",
        "percent = []\n",
        "for i in age:\n",
        "  percent.append(tes.loc[tes[\"Age\"]== i].shape[0] / df.loc[df[\"Age\"]== i].shape[0])\n",
        "\n",
        "plt.title(\"umur cluster 2\")\n",
        "plt.bar(age, percent, color = [\"navy\", \"darkRed\", \"darkGreen\", \"orange\"])"
      ]
    },
    {
      "cell_type": "markdown",
      "metadata": {
        "id": "g166dIacCTyk"
      },
      "source": [
        "## Meneliti total pengeluaran setiap cluster"
      ]
    },
    {
      "cell_type": "code",
      "execution_count": null,
      "metadata": {
        "colab": {
          "base_uri": "https://localhost:8080/",
          "height": 299
        },
        "id": "2g6TugdeCTyk",
        "outputId": "c16cb7c0-e244-44d6-84a5-19f2084a8e8a"
      },
      "outputs": [
        {
          "output_type": "execute_result",
          "data": {
            "text/plain": [
              "<BarContainer object of 4 artists>"
            ]
          },
          "metadata": {},
          "execution_count": 47
        },
        {
          "output_type": "display_data",
          "data": {
            "text/plain": [
              "<Figure size 432x288 with 1 Axes>"
            ],
            "image/png": "[encoded data removed]"
          },
          "metadata": {
            "needs_background": "light"
          }
        }
      ],
      "source": [
        "tes = df.loc[df[\"Cluster\"] == 0]\n",
        "\n",
        "spend = [\"lowSpender\", \"midSpender\", \"highSpender\", \"veryHighSpender\"]\n",
        "percent = []\n",
        "for i in spend:\n",
        "  percent.append(tes.loc[tes[\"totalSpend\"]== i].shape[0] / df.loc[df[\"totalSpend\"]== i].shape[0])\n",
        "\n",
        "plt.title(\"Pengeluaran cluster 0\")\n",
        "plt.bar(spend, percent, color = [\"navy\", \"darkRed\", \"darkGreen\", \"orange\"])"
      ]
    },
    {
      "cell_type": "code",
      "execution_count": null,
      "metadata": {
        "colab": {
          "base_uri": "https://localhost:8080/",
          "height": 299
        },
        "id": "WqNSwF1sCTyk",
        "outputId": "1acc2b02-6735-4c85-8e8f-562dfa5015bc"
      },
      "outputs": [
        {
          "output_type": "execute_result",
          "data": {
            "text/plain": [
              "<BarContainer object of 4 artists>"
            ]
          },
          "metadata": {},
          "execution_count": 48
        },
        {
          "output_type": "display_data",
          "data": {
            "text/plain": [
              "<Figure size 432x288 with 1 Axes>"
            ],
            "image/png": "[encoded data removed]"
          },
          "metadata": {
            "needs_background": "light"
          }
        }
      ],
      "source": [
        "tes = df.loc[df[\"Cluster\"] == 1]\n",
        "\n",
        "spend = [\"lowSpender\", \"midSpender\", \"highSpender\", \"veryHighSpender\"]\n",
        "percent = []\n",
        "for i in spend:\n",
        "  percent.append(tes.loc[tes[\"totalSpend\"]== i].shape[0] / df.loc[df[\"totalSpend\"]== i].shape[0])\n",
        "\n",
        "plt.title(\"Pengeluaran cluster 1\")\n",
        "plt.bar(spend, percent, color = [\"navy\", \"darkRed\", \"darkGreen\", \"orange\"])"
      ]
    },
    {
      "cell_type": "code",
      "execution_count": null,
      "metadata": {
        "colab": {
          "base_uri": "https://localhost:8080/",
          "height": 299
        },
        "id": "nnWfmuacCTyl",
        "outputId": "99ab6553-13fc-4522-b80a-7a1801cc94f3"
      },
      "outputs": [
        {
          "output_type": "execute_result",
          "data": {
            "text/plain": [
              "<BarContainer object of 4 artists>"
            ]
          },
          "metadata": {},
          "execution_count": 49
        },
        {
          "output_type": "display_data",
          "data": {
            "text/plain": [
              "<Figure size 432x288 with 1 Axes>"
            ],
            "image/png": "[encoded data removed]"
          },
          "metadata": {
            "needs_background": "light"
          }
        }
      ],
      "source": [
        "tes = df.loc[df[\"Cluster\"] == 2]\n",
        "\n",
        "spend = [\"lowSpender\", \"midSpender\", \"highSpender\", \"veryHighSpender\"]\n",
        "percent = []\n",
        "for i in spend:\n",
        "  percent.append(tes.loc[tes[\"totalSpend\"]== i].shape[0] / df.loc[df[\"totalSpend\"]== i].shape[0])\n",
        "\n",
        "plt.title(\"Pengeluaran cluster 2\")\n",
        "plt.bar(spend, percent, color = [\"navy\", \"darkRed\", \"darkGreen\", \"orange\"])"
      ]
    },
    {
      "cell_type": "markdown",
      "source": [
        "#13. KESIMPULAN CLUSTER"
      ],
      "metadata": {
        "id": "gSs28zhbzUAg"
      }
    },
    {
      "cell_type": "markdown",
      "metadata": {
        "id": "t0z5ARxibBV1"
      },
      "source": [
        "Kesimpulan yang didapat dari masing masing cluster adalah sebagai berikut:\n",
        "\n",
        "\n",
        "1.   CLuster 0: Berisi mayoritas pelanggan dengan pemasukan yang sangat tinggi, serta sebagian dari pelanggan dengan pemasukan menengah-tinggi. Pelanggan pada cluster ini pada umumnya memiliki jumlah belanja yang menengah, dengan umur yang bervariasi\n",
        "\n",
        "2.   Cluster 1: Pelanggan dengan jumlah belanja yang rendah. Berisi mayoritas pelanggan dengan pemasukkan rendah, dan sebagian kecil dari pelanggan dengan pemasukkan menengah. Tidak rentang umur yang mencolok pada cluster ini.\n",
        "\n",
        "3. Cluster 2: Pelanggan dengan jumlah belanja yang tinggi-sangat tinggi. Berisi mayoritas pelanggan dengan pemasukkan tinggi, dan sebagian kecil dari pelanggan dengan pemasukkan rendah. Tidak ada rentang umur yang mencolok pada cluster ini\n",
        "\n"
      ]
    },
    {
      "cell_type": "markdown",
      "metadata": {
        "id": "pjIIfF9I1nCr"
      },
      "source": [
        "#14. APRIORI METHOD"
      ]
    },
    {
      "cell_type": "markdown",
      "metadata": {
        "id": "wcI2kSIJVma7"
      },
      "source": [
        "Apriori adalah"
      ]
    },
    {
      "cell_type": "markdown",
      "metadata": {
        "id": "JnjGcwwbVrjn"
      },
      "source": [
        "## Binning untuk setiap pembelian produk"
      ]
    },
    {
      "cell_type": "markdown",
      "metadata": {
        "id": "yy4HUzsMV0Yf"
      },
      "source": [
        "untuk setiap produk, dilakukan pengelompokkan menjadi \"lowBuyer\" yaitu pelanggan dengan jumlah pembelian produk rendah, \"mediumBuyer\" untuk pelanggan dengan jumlah pembelian produk menengah, dan \"highBuyer\" untuk pelanggan dengan jumlah pembelian produk tinggi"
      ]
    },
    {
      "cell_type": "code",
      "execution_count": null,
      "metadata": {
        "colab": {
          "base_uri": "https://localhost:8080/"
        },
        "id": "zdFxCkekRMjI",
        "outputId": "a862767d-5c4f-4ce4-8837-96f4d1c79401"
      },
      "outputs": [
        {
          "output_type": "execute_result",
          "data": {
            "text/plain": [
              "<matplotlib.axes._subplots.AxesSubplot at 0x7fda0305f7c0>"
            ]
          },
          "metadata": {},
          "execution_count": 50
        },
        {
          "output_type": "display_data",
          "data": {
            "text/plain": [
              "<Figure size 432x288 with 1 Axes>"
            ],
            "image/png": "[encoded data removed]"
          },
          "metadata": {
            "needs_background": "light"
          }
        }
      ],
      "source": [
        "label = ['lowBuyer', \"mediumBuyer\", \"highBuyer\"]\n",
        "df['Fruit'] = pd.qcut(df['Fruit'], 3, labels=label)\n",
        "sns.countplot(x= df[\"Fruit\"])"
      ]
    },
    {
      "cell_type": "code",
      "execution_count": null,
      "metadata": {
        "colab": {
          "base_uri": "https://localhost:8080/"
        },
        "id": "N_u_O6pLNkTo",
        "outputId": "88778b30-d0e1-43da-8d93-e135c6fde1c8"
      },
      "outputs": [
        {
          "output_type": "execute_result",
          "data": {
            "text/plain": [
              "<matplotlib.axes._subplots.AxesSubplot at 0x7fda03eb1430>"
            ]
          },
          "metadata": {},
          "execution_count": 51
        },
        {
          "output_type": "display_data",
          "data": {
            "text/plain": [
              "<Figure size 432x288 with 1 Axes>"
            ],
            "image/png": "[encoded data removed]"
          },
          "metadata": {
            "needs_background": "light"
          }
        }
      ],
      "source": [
        "label = ['lowBuyer', \"mediumBuyer\", \"highBuyer\"]\n",
        "df['Wine'] = pd.qcut(df['Wine'], 3, labels=label);\n",
        "sns.countplot(x= df[\"Wine\"])"
      ]
    },
    {
      "cell_type": "code",
      "execution_count": null,
      "metadata": {
        "colab": {
          "base_uri": "https://localhost:8080/"
        },
        "id": "gLZ19XvuRzh0",
        "outputId": "f7d0c8a1-d3aa-499e-c06b-da4e3770a3f5"
      },
      "outputs": [
        {
          "output_type": "execute_result",
          "data": {
            "text/plain": [
              "<matplotlib.axes._subplots.AxesSubplot at 0x7fda03c11b80>"
            ]
          },
          "metadata": {},
          "execution_count": 52
        },
        {
          "output_type": "display_data",
          "data": {
            "text/plain": [
              "<Figure size 432x288 with 1 Axes>"
            ],
            "image/png": "[encoded data removed]"
          },
          "metadata": {
            "needs_background": "light"
          }
        }
      ],
      "source": [
        "label = ['lowBuyer', \"mediumBuyer\", \"highBuyer\"]\n",
        "df['Meat'] = pd.qcut(df['Meat'], 3, labels=label);\n",
        "sns.countplot(x= df[\"Meat\"])"
      ]
    },
    {
      "cell_type": "code",
      "execution_count": null,
      "metadata": {
        "colab": {
          "base_uri": "https://localhost:8080/"
        },
        "id": "G9YHa-uGxnda",
        "outputId": "c7a8b411-c0d5-42d6-8450-3bf32b5d32a9"
      },
      "outputs": [
        {
          "output_type": "execute_result",
          "data": {
            "text/plain": [
              "<matplotlib.axes._subplots.AxesSubplot at 0x7fda041a2d60>"
            ]
          },
          "metadata": {},
          "execution_count": 53
        },
        {
          "output_type": "display_data",
          "data": {
            "text/plain": [
              "<Figure size 432x288 with 1 Axes>"
            ],
            "image/png": "[encoded data removed]"
          },
          "metadata": {
            "needs_background": "light"
          }
        }
      ],
      "source": [
        "label = ['lowBuyer', \"mediumBuyer\", \"highBuyer\"]\n",
        "df['Fish'] = pd.qcut(df['Fish'], 3, labels=label);\n",
        "sns.countplot(x= df[\"Fish\"])"
      ]
    },
    {
      "cell_type": "code",
      "execution_count": null,
      "metadata": {
        "colab": {
          "base_uri": "https://localhost:8080/"
        },
        "id": "PKLaw2KWxoK-",
        "outputId": "da629e7c-676b-407e-9703-b6087ee04859"
      },
      "outputs": [
        {
          "output_type": "execute_result",
          "data": {
            "text/plain": [
              "<matplotlib.axes._subplots.AxesSubplot at 0x7fda032d0af0>"
            ]
          },
          "metadata": {},
          "execution_count": 54
        },
        {
          "output_type": "display_data",
          "data": {
            "text/plain": [
              "<Figure size 432x288 with 1 Axes>"
            ],
            "image/png": "[encoded data removed]"
          },
          "metadata": {
            "needs_background": "light"
          }
        }
      ],
      "source": [
        "label = ['lowBuyer', \"mediumBuyer\", \"highBuyer\"]\n",
        "df['Sweet'] = pd.qcut(df['Sweet'], 3, labels=label);\n",
        "sns.countplot(x= df[\"Sweet\"])"
      ]
    },
    {
      "cell_type": "code",
      "execution_count": null,
      "metadata": {
        "colab": {
          "base_uri": "https://localhost:8080/"
        },
        "id": "JNHsKpLMxo87",
        "outputId": "83daf706-7c2a-4879-bacc-65a9981a82ba"
      },
      "outputs": [
        {
          "output_type": "execute_result",
          "data": {
            "text/plain": [
              "<matplotlib.axes._subplots.AxesSubplot at 0x7fda062776d0>"
            ]
          },
          "metadata": {},
          "execution_count": 55
        },
        {
          "output_type": "display_data",
          "data": {
            "text/plain": [
              "<Figure size 432x288 with 1 Axes>"
            ],
            "image/png": "[encoded data removed]"
          },
          "metadata": {
            "needs_background": "light"
          }
        }
      ],
      "source": [
        "label = ['lowBuyer', \"mediumBuyer\", \"highBuyer\"]\n",
        "df['Gold'] = pd.qcut(df['Gold'], 3, labels=label);\n",
        "sns.countplot(x= df[\"Gold\"])"
      ]
    },
    {
      "cell_type": "markdown",
      "metadata": {
        "id": "oHYYdGM8WY4M"
      },
      "source": [
        "## Memisahkan setiap cluster ke dataframe yang berbeda"
      ]
    },
    {
      "cell_type": "code",
      "execution_count": null,
      "metadata": {
        "id": "MTj5mUEE1q6W"
      },
      "outputs": [],
      "source": [
        "cluster0 = df.loc[df[\"Cluster\"]==0]\n",
        "cluster1 = df.loc[df[\"Cluster\"]==1]\n",
        "cluster2 = df.loc[df[\"Cluster\"]==2]"
      ]
    },
    {
      "cell_type": "markdown",
      "metadata": {
        "id": "wztfiziiWgkY"
      },
      "source": [
        "## Mengambil kolom produk"
      ]
    },
    {
      "cell_type": "code",
      "execution_count": null,
      "metadata": {
        "id": "7DwrBaeW-p9g"
      },
      "outputs": [],
      "source": [
        "cluster0 = cluster0.drop(columns = cluster0.columns[0:10])\n",
        "cluster0 = cluster0.drop(columns=cluster0.columns[6:])\n",
        "cluster1 = cluster1.drop(columns = cluster1.columns[0:10])\n",
        "cluster1 = cluster1.drop(columns=cluster1.columns[6:])\n",
        "cluster2 = cluster2.drop(columns = cluster2.columns[0:10])\n",
        "cluster2 = cluster2.drop(columns=cluster2.columns[6:])"
      ]
    },
    {
      "cell_type": "markdown",
      "metadata": {
        "id": "0q8RJfJ7Wlfj"
      },
      "source": [
        "## APRIORI CLUSTER 0"
      ]
    },
    {
      "cell_type": "code",
      "execution_count": null,
      "metadata": {
        "colab": {
          "base_uri": "https://localhost:8080/",
          "height": 407
        },
        "id": "dV-Mp0MHJB8M",
        "outputId": "fca69d47-ec4c-49ab-a7c4-ef44136a5ea6"
      },
      "outputs": [
        {
          "output_type": "execute_result",
          "data": {
            "text/plain": [
              "                            antecedents                         consequents  \\\n",
              "248     (Fish_lowBuyer, Wine_highBuyer)                  (Meat_mediumBuyer)   \n",
              "79                     (Sweet_lowBuyer)                  (Meat_mediumBuyer)   \n",
              "78                   (Meat_mediumBuyer)                    (Sweet_lowBuyer)   \n",
              "249                  (Meat_mediumBuyer)     (Fish_lowBuyer, Wine_highBuyer)   \n",
              "51                     (Sweet_lowBuyer)                 (Fruit_mediumBuyer)   \n",
              "50                  (Fruit_mediumBuyer)                    (Sweet_lowBuyer)   \n",
              "75                   (Meat_mediumBuyer)                     (Fish_lowBuyer)   \n",
              "74                      (Fish_lowBuyer)                  (Meat_mediumBuyer)   \n",
              "247  (Wine_highBuyer, Meat_mediumBuyer)                     (Fish_lowBuyer)   \n",
              "250                     (Fish_lowBuyer)  (Wine_highBuyer, Meat_mediumBuyer)   \n",
              "\n",
              "     antecedent support  consequent support   support  confidence      lift  \\\n",
              "248            0.097436            0.179487  0.051282    0.526316  2.932331   \n",
              "79             0.097436            0.179487  0.051282    0.526316  2.932331   \n",
              "78             0.179487            0.097436  0.051282    0.285714  2.932331   \n",
              "249            0.179487            0.097436  0.051282    0.285714  2.932331   \n",
              "51             0.097436            0.184615  0.051282    0.526316  2.850877   \n",
              "50             0.184615            0.097436  0.051282    0.277778  2.850877   \n",
              "75             0.179487            0.117949  0.056410    0.314286  2.664596   \n",
              "74             0.117949            0.179487  0.056410    0.478261  2.664596   \n",
              "247            0.169231            0.117949  0.051282    0.303030  2.569170   \n",
              "250            0.117949            0.169231  0.051282    0.434783  2.569170   \n",
              "\n",
              "     leverage  conviction  \n",
              "248  0.033794    1.732194  \n",
              "79   0.033794    1.732194  \n",
              "78   0.033794    1.263590  \n",
              "249  0.033794    1.263590  \n",
              "51   0.033294    1.721368  \n",
              "50   0.033294    1.249704  \n",
              "75   0.035240    1.286325  \n",
              "74   0.035240    1.572650  \n",
              "247  0.031321    1.265552  \n",
              "250  0.031321    1.469822  "
            ],
            "text/html": [
              "\n",
              "  <div id=\"df-5f813850-9bd3-45e8-8829-786ecdd88642\">\n",
              "    <div class=\"colab-df-container\">\n",
              "      <div>\n",
              "<style scoped>\n",
              "    .dataframe tbody tr th:only-of-type {\n",
              "        vertical-align: middle;\n",
              "    }\n",
              "\n",
              "    .dataframe tbody tr th {\n",
              "        vertical-align: top;\n",
              "    }\n",
              "\n",
              "    .dataframe thead th {\n",
              "        text-align: right;\n",
              "    }\n",
              "</style>\n",
              "<table border=\"1\" class=\"dataframe\">\n",
              "  <thead>\n",
              "    <tr style=\"text-align: right;\">\n",
              "      <th></th>\n",
              "      <th>antecedents</th>\n",
              "      <th>consequents</th>\n",
              "      <th>antecedent support</th>\n",
              "      <th>consequent support</th>\n",
              "      <th>support</th>\n",
              "      <th>confidence</th>\n",
              "      <th>lift</th>\n",
              "      <th>leverage</th>\n",
              "      <th>conviction</th>\n",
              "    </tr>\n",
              "  </thead>\n",
              "  <tbody>\n",
              "    <tr>\n",
              "      <th>248</th>\n",
              "      <td>(Fish_lowBuyer, Wine_highBuyer)</td>\n",
              "      <td>(Meat_mediumBuyer)</td>\n",
              "      <td>0.097436</td>\n",
              "      <td>0.179487</td>\n",
              "      <td>0.051282</td>\n",
              "      <td>0.526316</td>\n",
              "      <td>2.932331</td>\n",
              "      <td>0.033794</td>\n",
              "      <td>1.732194</td>\n",
              "    </tr>\n",
              "    <tr>\n",
              "      <th>79</th>\n",
              "      <td>(Sweet_lowBuyer)</td>\n",
              "      <td>(Meat_mediumBuyer)</td>\n",
              "      <td>0.097436</td>\n",
              "      <td>0.179487</td>\n",
              "      <td>0.051282</td>\n",
              "      <td>0.526316</td>\n",
              "      <td>2.932331</td>\n",
              "      <td>0.033794</td>\n",
              "      <td>1.732194</td>\n",
              "    </tr>\n",
              "    <tr>\n",
              "      <th>78</th>\n",
              "      <td>(Meat_mediumBuyer)</td>\n",
              "      <td>(Sweet_lowBuyer)</td>\n",
              "      <td>0.179487</td>\n",
              "      <td>0.097436</td>\n",
              "      <td>0.051282</td>\n",
              "      <td>0.285714</td>\n",
              "      <td>2.932331</td>\n",
              "      <td>0.033794</td>\n",
              "      <td>1.263590</td>\n",
              "    </tr>\n",
              "    <tr>\n",
              "      <th>249</th>\n",
              "      <td>(Meat_mediumBuyer)</td>\n",
              "      <td>(Fish_lowBuyer, Wine_highBuyer)</td>\n",
              "      <td>0.179487</td>\n",
              "      <td>0.097436</td>\n",
              "      <td>0.051282</td>\n",
              "      <td>0.285714</td>\n",
              "      <td>2.932331</td>\n",
              "      <td>0.033794</td>\n",
              "      <td>1.263590</td>\n",
              "    </tr>\n",
              "    <tr>\n",
              "      <th>51</th>\n",
              "      <td>(Sweet_lowBuyer)</td>\n",
              "      <td>(Fruit_mediumBuyer)</td>\n",
              "      <td>0.097436</td>\n",
              "      <td>0.184615</td>\n",
              "      <td>0.051282</td>\n",
              "      <td>0.526316</td>\n",
              "      <td>2.850877</td>\n",
              "      <td>0.033294</td>\n",
              "      <td>1.721368</td>\n",
              "    </tr>\n",
              "    <tr>\n",
              "      <th>50</th>\n",
              "      <td>(Fruit_mediumBuyer)</td>\n",
              "      <td>(Sweet_lowBuyer)</td>\n",
              "      <td>0.184615</td>\n",
              "      <td>0.097436</td>\n",
              "      <td>0.051282</td>\n",
              "      <td>0.277778</td>\n",
              "      <td>2.850877</td>\n",
              "      <td>0.033294</td>\n",
              "      <td>1.249704</td>\n",
              "    </tr>\n",
              "    <tr>\n",
              "      <th>75</th>\n",
              "      <td>(Meat_mediumBuyer)</td>\n",
              "      <td>(Fish_lowBuyer)</td>\n",
              "      <td>0.179487</td>\n",
              "      <td>0.117949</td>\n",
              "      <td>0.056410</td>\n",
              "      <td>0.314286</td>\n",
              "      <td>2.664596</td>\n",
              "      <td>0.035240</td>\n",
              "      <td>1.286325</td>\n",
              "    </tr>\n",
              "    <tr>\n",
              "      <th>74</th>\n",
              "      <td>(Fish_lowBuyer)</td>\n",
              "      <td>(Meat_mediumBuyer)</td>\n",
              "      <td>0.117949</td>\n",
              "      <td>0.179487</td>\n",
              "      <td>0.056410</td>\n",
              "      <td>0.478261</td>\n",
              "      <td>2.664596</td>\n",
              "      <td>0.035240</td>\n",
              "      <td>1.572650</td>\n",
              "    </tr>\n",
              "    <tr>\n",
              "      <th>247</th>\n",
              "      <td>(Wine_highBuyer, Meat_mediumBuyer)</td>\n",
              "      <td>(Fish_lowBuyer)</td>\n",
              "      <td>0.169231</td>\n",
              "      <td>0.117949</td>\n",
              "      <td>0.051282</td>\n",
              "      <td>0.303030</td>\n",
              "      <td>2.569170</td>\n",
              "      <td>0.031321</td>\n",
              "      <td>1.265552</td>\n",
              "    </tr>\n",
              "    <tr>\n",
              "      <th>250</th>\n",
              "      <td>(Fish_lowBuyer)</td>\n",
              "      <td>(Wine_highBuyer, Meat_mediumBuyer)</td>\n",
              "      <td>0.117949</td>\n",
              "      <td>0.169231</td>\n",
              "      <td>0.051282</td>\n",
              "      <td>0.434783</td>\n",
              "      <td>2.569170</td>\n",
              "      <td>0.031321</td>\n",
              "      <td>1.469822</td>\n",
              "    </tr>\n",
              "  </tbody>\n",
              "</table>\n",
              "</div>\n",
              "      <button class=\"colab-df-convert\" onclick=\"convertToInteractive('df-5f813850-9bd3-45e8-8829-786ecdd88642')\"\n",
              "              title=\"Convert this dataframe to an interactive table.\"\n",
              "              style=\"display:none;\">\n",
              "        \n",
              "  <svg xmlns=\"http://www.w3.org/2000/svg\" height=\"24px\"viewBox=\"0 0 24 24\"\n",
              "       width=\"24px\">\n",
              "    <path d=\"M0 0h24v24H0V0z\" fill=\"none\"/>\n",
              "    <path d=\"M18.56 5.44l.94 2.06.94-2.06 2.06-.94-2.06-.94-.94-2.06-.94 2.06-2.06.94zm-11 1L8.5 8.5l.94-2.06 2.06-.94-2.06-.94L8.5 2.5l-.94 2.06-2.06.94zm10 10l.94 2.06.94-2.06 2.06-.94-2.06-.94-.94-2.06-.94 2.06-2.06.94z\"/><path d=\"M17.41 7.96l-1.37-1.37c-.4-.4-.92-.59-1.43-.59-.52 0-1.04.2-1.43.59L10.3 9.45l-7.72 7.72c-.78.78-.78 2.05 0 2.83L4 21.41c.39.39.9.59 1.41.59.51 0 1.02-.2 1.41-.59l7.78-7.78 2.81-2.81c.8-.78.8-2.07 0-2.86zM5.41 20L4 18.59l7.72-7.72 1.47 1.35L5.41 20z\"/>\n",
              "  </svg>\n",
              "      </button>\n",
              "      \n",
              "  <style>\n",
              "    .colab-df-container {\n",
              "      display:flex;\n",
              "      flex-wrap:wrap;\n",
              "      gap: 12px;\n",
              "    }\n",
              "\n",
              "    .colab-df-convert {\n",
              "      background-color: #E8F0FE;\n",
              "      border: none;\n",
              "      border-radius: 50%;\n",
              "      cursor: pointer;\n",
              "      display: none;\n",
              "      fill: #1967D2;\n",
              "      height: 32px;\n",
              "      padding: 0 0 0 0;\n",
              "      width: 32px;\n",
              "    }\n",
              "\n",
              "    .colab-df-convert:hover {\n",
              "      background-color: #E2EBFA;\n",
              "      box-shadow: 0px 1px 2px rgba(60, 64, 67, 0.3), 0px 1px 3px 1px rgba(60, 64, 67, 0.15);\n",
              "      fill: #174EA6;\n",
              "    }\n",
              "\n",
              "    [theme=dark] .colab-df-convert {\n",
              "      background-color: #3B4455;\n",
              "      fill: #D2E3FC;\n",
              "    }\n",
              "\n",
              "    [theme=dark] .colab-df-convert:hover {\n",
              "      background-color: #434B5C;\n",
              "      box-shadow: 0px 1px 3px 1px rgba(0, 0, 0, 0.15);\n",
              "      filter: drop-shadow(0px 1px 2px rgba(0, 0, 0, 0.3));\n",
              "      fill: #FFFFFF;\n",
              "    }\n",
              "  </style>\n",
              "\n",
              "      <script>\n",
              "        const buttonEl =\n",
              "          document.querySelector('#df-5f813850-9bd3-45e8-8829-786ecdd88642 button.colab-df-convert');\n",
              "        buttonEl.style.display =\n",
              "          google.colab.kernel.accessAllowed ? 'block' : 'none';\n",
              "\n",
              "        async function convertToInteractive(key) {\n",
              "          const element = document.querySelector('#df-5f813850-9bd3-45e8-8829-786ecdd88642');\n",
              "          const dataTable =\n",
              "            await google.colab.kernel.invokeFunction('convertToInteractive',\n",
              "                                                     [key], {});\n",
              "          if (!dataTable) return;\n",
              "\n",
              "          const docLinkHtml = 'Like what you see? Visit the ' +\n",
              "            '<a target=\"_blank\" href=https://colab.research.google.com/notebooks/data_table.ipynb>data table notebook</a>'\n",
              "            + ' to learn more about interactive tables.';\n",
              "          element.innerHTML = '';\n",
              "          dataTable['output_type'] = 'display_data';\n",
              "          await google.colab.output.renderOutput(dataTable, element);\n",
              "          const docLink = document.createElement('div');\n",
              "          docLink.innerHTML = docLinkHtml;\n",
              "          element.appendChild(docLink);\n",
              "        }\n",
              "      </script>\n",
              "    </div>\n",
              "  </div>\n",
              "  "
            ]
          },
          "metadata": {},
          "execution_count": 58
        }
      ],
      "source": [
        "from mlxtend.frequent_patterns import apriori, association_rules\n",
        "\n",
        "c0_enc = pd.get_dummies(cluster0)\n",
        "itemset_c0 = apriori(c0_enc, min_support = 0.05, use_colnames = True)\n",
        "apr_c0 = association_rules(itemset_c0, metric =\"lift\", min_threshold = 0.5)\n",
        "apr_c0.sort_values(by='lift', ascending=False).head(10)"
      ]
    },
    {
      "cell_type": "code",
      "execution_count": null,
      "metadata": {
        "colab": {
          "base_uri": "https://localhost:8080/",
          "height": 206
        },
        "id": "uYcru2uwXN8j",
        "outputId": "445c85ab-4e65-43c2-facd-a1f7c5c88879"
      },
      "outputs": [
        {
          "output_type": "execute_result",
          "data": {
            "text/plain": [
              "                             antecedents          consequents  \\\n",
              "248      (Fish_lowBuyer, Wine_highBuyer)   (Meat_mediumBuyer)   \n",
              "247   (Wine_highBuyer, Meat_mediumBuyer)      (Fish_lowBuyer)   \n",
              "170   (Fish_mediumBuyer, Wine_highBuyer)  (Fruit_mediumBuyer)   \n",
              "385  (Fruit_mediumBuyer, Meat_highBuyer)   (Fish_mediumBuyer)   \n",
              "169  (Fruit_mediumBuyer, Wine_highBuyer)   (Fish_mediumBuyer)   \n",
              "\n",
              "     antecedent support  consequent support   support  confidence      lift  \\\n",
              "248            0.097436            0.179487  0.051282    0.526316  2.932331   \n",
              "247            0.169231            0.117949  0.051282    0.303030  2.569170   \n",
              "170            0.143590            0.184615  0.066667    0.464286  2.514881   \n",
              "385            0.133333            0.153846  0.051282    0.384615  2.500000   \n",
              "169            0.174359            0.153846  0.066667    0.382353  2.485294   \n",
              "\n",
              "     leverage  conviction  \n",
              "248  0.033794    1.732194  \n",
              "247  0.031321    1.265552  \n",
              "170  0.040158    1.522051  \n",
              "385  0.030769    1.375000  \n",
              "169  0.039842    1.369963  "
            ],
            "text/html": [
              "\n",
              "  <div id=\"df-711fa3aa-b165-4059-b41a-86255b6f1996\">\n",
              "    <div class=\"colab-df-container\">\n",
              "      <div>\n",
              "<style scoped>\n",
              "    .dataframe tbody tr th:only-of-type {\n",
              "        vertical-align: middle;\n",
              "    }\n",
              "\n",
              "    .dataframe tbody tr th {\n",
              "        vertical-align: top;\n",
              "    }\n",
              "\n",
              "    .dataframe thead th {\n",
              "        text-align: right;\n",
              "    }\n",
              "</style>\n",
              "<table border=\"1\" class=\"dataframe\">\n",
              "  <thead>\n",
              "    <tr style=\"text-align: right;\">\n",
              "      <th></th>\n",
              "      <th>antecedents</th>\n",
              "      <th>consequents</th>\n",
              "      <th>antecedent support</th>\n",
              "      <th>consequent support</th>\n",
              "      <th>support</th>\n",
              "      <th>confidence</th>\n",
              "      <th>lift</th>\n",
              "      <th>leverage</th>\n",
              "      <th>conviction</th>\n",
              "    </tr>\n",
              "  </thead>\n",
              "  <tbody>\n",
              "    <tr>\n",
              "      <th>248</th>\n",
              "      <td>(Fish_lowBuyer, Wine_highBuyer)</td>\n",
              "      <td>(Meat_mediumBuyer)</td>\n",
              "      <td>0.097436</td>\n",
              "      <td>0.179487</td>\n",
              "      <td>0.051282</td>\n",
              "      <td>0.526316</td>\n",
              "      <td>2.932331</td>\n",
              "      <td>0.033794</td>\n",
              "      <td>1.732194</td>\n",
              "    </tr>\n",
              "    <tr>\n",
              "      <th>247</th>\n",
              "      <td>(Wine_highBuyer, Meat_mediumBuyer)</td>\n",
              "      <td>(Fish_lowBuyer)</td>\n",
              "      <td>0.169231</td>\n",
              "      <td>0.117949</td>\n",
              "      <td>0.051282</td>\n",
              "      <td>0.303030</td>\n",
              "      <td>2.569170</td>\n",
              "      <td>0.031321</td>\n",
              "      <td>1.265552</td>\n",
              "    </tr>\n",
              "    <tr>\n",
              "      <th>170</th>\n",
              "      <td>(Fish_mediumBuyer, Wine_highBuyer)</td>\n",
              "      <td>(Fruit_mediumBuyer)</td>\n",
              "      <td>0.143590</td>\n",
              "      <td>0.184615</td>\n",
              "      <td>0.066667</td>\n",
              "      <td>0.464286</td>\n",
              "      <td>2.514881</td>\n",
              "      <td>0.040158</td>\n",
              "      <td>1.522051</td>\n",
              "    </tr>\n",
              "    <tr>\n",
              "      <th>385</th>\n",
              "      <td>(Fruit_mediumBuyer, Meat_highBuyer)</td>\n",
              "      <td>(Fish_mediumBuyer)</td>\n",
              "      <td>0.133333</td>\n",
              "      <td>0.153846</td>\n",
              "      <td>0.051282</td>\n",
              "      <td>0.384615</td>\n",
              "      <td>2.500000</td>\n",
              "      <td>0.030769</td>\n",
              "      <td>1.375000</td>\n",
              "    </tr>\n",
              "    <tr>\n",
              "      <th>169</th>\n",
              "      <td>(Fruit_mediumBuyer, Wine_highBuyer)</td>\n",
              "      <td>(Fish_mediumBuyer)</td>\n",
              "      <td>0.174359</td>\n",
              "      <td>0.153846</td>\n",
              "      <td>0.066667</td>\n",
              "      <td>0.382353</td>\n",
              "      <td>2.485294</td>\n",
              "      <td>0.039842</td>\n",
              "      <td>1.369963</td>\n",
              "    </tr>\n",
              "  </tbody>\n",
              "</table>\n",
              "</div>\n",
              "      <button class=\"colab-df-convert\" onclick=\"convertToInteractive('df-711fa3aa-b165-4059-b41a-86255b6f1996')\"\n",
              "              title=\"Convert this dataframe to an interactive table.\"\n",
              "              style=\"display:none;\">\n",
              "        \n",
              "  <svg xmlns=\"http://www.w3.org/2000/svg\" height=\"24px\"viewBox=\"0 0 24 24\"\n",
              "       width=\"24px\">\n",
              "    <path d=\"M0 0h24v24H0V0z\" fill=\"none\"/>\n",
              "    <path d=\"M18.56 5.44l.94 2.06.94-2.06 2.06-.94-2.06-.94-.94-2.06-.94 2.06-2.06.94zm-11 1L8.5 8.5l.94-2.06 2.06-.94-2.06-.94L8.5 2.5l-.94 2.06-2.06.94zm10 10l.94 2.06.94-2.06 2.06-.94-2.06-.94-.94-2.06-.94 2.06-2.06.94z\"/><path d=\"M17.41 7.96l-1.37-1.37c-.4-.4-.92-.59-1.43-.59-.52 0-1.04.2-1.43.59L10.3 9.45l-7.72 7.72c-.78.78-.78 2.05 0 2.83L4 21.41c.39.39.9.59 1.41.59.51 0 1.02-.2 1.41-.59l7.78-7.78 2.81-2.81c.8-.78.8-2.07 0-2.86zM5.41 20L4 18.59l7.72-7.72 1.47 1.35L5.41 20z\"/>\n",
              "  </svg>\n",
              "      </button>\n",
              "      \n",
              "  <style>\n",
              "    .colab-df-container {\n",
              "      display:flex;\n",
              "      flex-wrap:wrap;\n",
              "      gap: 12px;\n",
              "    }\n",
              "\n",
              "    .colab-df-convert {\n",
              "      background-color: #E8F0FE;\n",
              "      border: none;\n",
              "      border-radius: 50%;\n",
              "      cursor: pointer;\n",
              "      display: none;\n",
              "      fill: #1967D2;\n",
              "      height: 32px;\n",
              "      padding: 0 0 0 0;\n",
              "      width: 32px;\n",
              "    }\n",
              "\n",
              "    .colab-df-convert:hover {\n",
              "      background-color: #E2EBFA;\n",
              "      box-shadow: 0px 1px 2px rgba(60, 64, 67, 0.3), 0px 1px 3px 1px rgba(60, 64, 67, 0.15);\n",
              "      fill: #174EA6;\n",
              "    }\n",
              "\n",
              "    [theme=dark] .colab-df-convert {\n",
              "      background-color: #3B4455;\n",
              "      fill: #D2E3FC;\n",
              "    }\n",
              "\n",
              "    [theme=dark] .colab-df-convert:hover {\n",
              "      background-color: #434B5C;\n",
              "      box-shadow: 0px 1px 3px 1px rgba(0, 0, 0, 0.15);\n",
              "      filter: drop-shadow(0px 1px 2px rgba(0, 0, 0, 0.3));\n",
              "      fill: #FFFFFF;\n",
              "    }\n",
              "  </style>\n",
              "\n",
              "      <script>\n",
              "        const buttonEl =\n",
              "          document.querySelector('#df-711fa3aa-b165-4059-b41a-86255b6f1996 button.colab-df-convert');\n",
              "        buttonEl.style.display =\n",
              "          google.colab.kernel.accessAllowed ? 'block' : 'none';\n",
              "\n",
              "        async function convertToInteractive(key) {\n",
              "          const element = document.querySelector('#df-711fa3aa-b165-4059-b41a-86255b6f1996');\n",
              "          const dataTable =\n",
              "            await google.colab.kernel.invokeFunction('convertToInteractive',\n",
              "                                                     [key], {});\n",
              "          if (!dataTable) return;\n",
              "\n",
              "          const docLinkHtml = 'Like what you see? Visit the ' +\n",
              "            '<a target=\"_blank\" href=https://colab.research.google.com/notebooks/data_table.ipynb>data table notebook</a>'\n",
              "            + ' to learn more about interactive tables.';\n",
              "          element.innerHTML = '';\n",
              "          dataTable['output_type'] = 'display_data';\n",
              "          await google.colab.output.renderOutput(dataTable, element);\n",
              "          const docLink = document.createElement('div');\n",
              "          docLink.innerHTML = docLinkHtml;\n",
              "          element.appendChild(docLink);\n",
              "        }\n",
              "      </script>\n",
              "    </div>\n",
              "  </div>\n",
              "  "
            ]
          },
          "metadata": {},
          "execution_count": 59
        }
      ],
      "source": [
        "prod = apr_c0[apr_c0['antecedents'].astype(str).str.contains(\"highBuyer\", na=False)].sort_values(by='lift', ascending=False)\n",
        "prod.head()"
      ]
    },
    {
      "cell_type": "markdown",
      "metadata": {
        "id": "DG6QauL0eWMv"
      },
      "source": [
        "Berdasarkan metoe apriori, karakteristik yang paling mencolok dari cluster 0 adalah pembelian yang rendah untuk produk ikan dan manisan , jumlah pembelian produk menegah untuk produk daging dan buah-buhan, dan jumlah pembelian produk yang tinggi untuk produk anggur. Sedangkan untuk produk yang paling banyak terjual pada cluster ini adalah produk anggur , yang biasanya dibeli bersamaan dengan ikan, buah-buahan dan daging."
      ]
    },
    {
      "cell_type": "markdown",
      "metadata": {
        "id": "9msVJak5WrJi"
      },
      "source": [
        "## APRIORI CLUSTER 1"
      ]
    },
    {
      "cell_type": "code",
      "execution_count": null,
      "metadata": {
        "colab": {
          "base_uri": "https://localhost:8080/",
          "height": 598
        },
        "id": "46Yn3IFk4FDV",
        "outputId": "71c8871a-e389-4094-94df-71018896b5b7"
      },
      "outputs": [
        {
          "output_type": "execute_result",
          "data": {
            "text/plain": [
              "                                            antecedents  \\\n",
              "2353  (Sweet_mediumBuyer, Gold_mediumBuyer, Wine_med...   \n",
              "2356              (Fruit_mediumBuyer, Meat_mediumBuyer)   \n",
              "2357              (Sweet_mediumBuyer, Meat_mediumBuyer)   \n",
              "2352  (Fruit_mediumBuyer, Gold_mediumBuyer, Wine_med...   \n",
              "2324  (Fish_mediumBuyer, Sweet_mediumBuyer, Wine_med...   \n",
              "2325              (Fruit_mediumBuyer, Meat_mediumBuyer)   \n",
              "2345  (Fruit_mediumBuyer, Gold_mediumBuyer, Meat_med...   \n",
              "2364              (Sweet_mediumBuyer, Wine_mediumBuyer)   \n",
              "2139  (Fish_mediumBuyer, Meat_lowBuyer, Gold_mediumB...   \n",
              "2150                 (Wine_lowBuyer, Fruit_mediumBuyer)   \n",
              "\n",
              "                                            consequents  antecedent support  \\\n",
              "2353              (Fruit_mediumBuyer, Meat_mediumBuyer)            0.080699   \n",
              "2356  (Sweet_mediumBuyer, Gold_mediumBuyer, Wine_med...            0.194676   \n",
              "2357  (Fruit_mediumBuyer, Gold_mediumBuyer, Wine_med...            0.196339   \n",
              "2352              (Sweet_mediumBuyer, Meat_mediumBuyer)            0.080699   \n",
              "2324              (Fruit_mediumBuyer, Meat_mediumBuyer)            0.084859   \n",
              "2325  (Fish_mediumBuyer, Sweet_mediumBuyer, Wine_med...            0.194676   \n",
              "2345              (Sweet_mediumBuyer, Wine_mediumBuyer)            0.103161   \n",
              "2364  (Fruit_mediumBuyer, Gold_mediumBuyer, Meat_med...            0.160566   \n",
              "2139                 (Wine_lowBuyer, Fruit_mediumBuyer)            0.085691   \n",
              "2150  (Fish_mediumBuyer, Meat_lowBuyer, Gold_mediumB...            0.207987   \n",
              "\n",
              "      consequent support   support  confidence      lift  leverage  conviction  \n",
              "2353            0.194676  0.054908    0.680412  3.495110  0.039198    2.519886  \n",
              "2356            0.080699  0.054908    0.282051  3.495110  0.039198    1.280455  \n",
              "2357            0.080699  0.054908    0.279661  3.465490  0.039064    1.276206  \n",
              "2352            0.196339  0.054908    0.680412  3.465490  0.039064    2.514680  \n",
              "2324            0.194676  0.055740    0.656863  3.374141  0.039221    2.346946  \n",
              "2325            0.084859  0.055740    0.286325  3.374141  0.039221    1.282294  \n",
              "2345            0.160566  0.054908    0.532258  3.314892  0.038344    1.794653  \n",
              "2364            0.103161  0.054908    0.341969  3.314892  0.038344    1.362912  \n",
              "2139            0.207987  0.058236    0.679612  3.267573  0.040414    2.472042  \n",
              "2150            0.085691  0.058236    0.280000  3.267573  0.040414    1.269874  "
            ],
            "text/html": [
              "\n",
              "  <div id=\"df-8bccc134-c4ff-46dd-a573-3c708125166e\">\n",
              "    <div class=\"colab-df-container\">\n",
              "      <div>\n",
              "<style scoped>\n",
              "    .dataframe tbody tr th:only-of-type {\n",
              "        vertical-align: middle;\n",
              "    }\n",
              "\n",
              "    .dataframe tbody tr th {\n",
              "        vertical-align: top;\n",
              "    }\n",
              "\n",
              "    .dataframe thead th {\n",
              "        text-align: right;\n",
              "    }\n",
              "</style>\n",
              "<table border=\"1\" class=\"dataframe\">\n",
              "  <thead>\n",
              "    <tr style=\"text-align: right;\">\n",
              "      <th></th>\n",
              "      <th>antecedents</th>\n",
              "      <th>consequents</th>\n",
              "      <th>antecedent support</th>\n",
              "      <th>consequent support</th>\n",
              "      <th>support</th>\n",
              "      <th>confidence</th>\n",
              "      <th>lift</th>\n",
              "      <th>leverage</th>\n",
              "      <th>conviction</th>\n",
              "    </tr>\n",
              "  </thead>\n",
              "  <tbody>\n",
              "    <tr>\n",
              "      <th>2353</th>\n",
              "      <td>(Sweet_mediumBuyer, Gold_mediumBuyer, Wine_med...</td>\n",
              "      <td>(Fruit_mediumBuyer, Meat_mediumBuyer)</td>\n",
              "      <td>0.080699</td>\n",
              "      <td>0.194676</td>\n",
              "      <td>0.054908</td>\n",
              "      <td>0.680412</td>\n",
              "      <td>3.495110</td>\n",
              "      <td>0.039198</td>\n",
              "      <td>2.519886</td>\n",
              "    </tr>\n",
              "    <tr>\n",
              "      <th>2356</th>\n",
              "      <td>(Fruit_mediumBuyer, Meat_mediumBuyer)</td>\n",
              "      <td>(Sweet_mediumBuyer, Gold_mediumBuyer, Wine_med...</td>\n",
              "      <td>0.194676</td>\n",
              "      <td>0.080699</td>\n",
              "      <td>0.054908</td>\n",
              "      <td>0.282051</td>\n",
              "      <td>3.495110</td>\n",
              "      <td>0.039198</td>\n",
              "      <td>1.280455</td>\n",
              "    </tr>\n",
              "    <tr>\n",
              "      <th>2357</th>\n",
              "      <td>(Sweet_mediumBuyer, Meat_mediumBuyer)</td>\n",
              "      <td>(Fruit_mediumBuyer, Gold_mediumBuyer, Wine_med...</td>\n",
              "      <td>0.196339</td>\n",
              "      <td>0.080699</td>\n",
              "      <td>0.054908</td>\n",
              "      <td>0.279661</td>\n",
              "      <td>3.465490</td>\n",
              "      <td>0.039064</td>\n",
              "      <td>1.276206</td>\n",
              "    </tr>\n",
              "    <tr>\n",
              "      <th>2352</th>\n",
              "      <td>(Fruit_mediumBuyer, Gold_mediumBuyer, Wine_med...</td>\n",
              "      <td>(Sweet_mediumBuyer, Meat_mediumBuyer)</td>\n",
              "      <td>0.080699</td>\n",
              "      <td>0.196339</td>\n",
              "      <td>0.054908</td>\n",
              "      <td>0.680412</td>\n",
              "      <td>3.465490</td>\n",
              "      <td>0.039064</td>\n",
              "      <td>2.514680</td>\n",
              "    </tr>\n",
              "    <tr>\n",
              "      <th>2324</th>\n",
              "      <td>(Fish_mediumBuyer, Sweet_mediumBuyer, Wine_med...</td>\n",
              "      <td>(Fruit_mediumBuyer, Meat_mediumBuyer)</td>\n",
              "      <td>0.084859</td>\n",
              "      <td>0.194676</td>\n",
              "      <td>0.055740</td>\n",
              "      <td>0.656863</td>\n",
              "      <td>3.374141</td>\n",
              "      <td>0.039221</td>\n",
              "      <td>2.346946</td>\n",
              "    </tr>\n",
              "    <tr>\n",
              "      <th>2325</th>\n",
              "      <td>(Fruit_mediumBuyer, Meat_mediumBuyer)</td>\n",
              "      <td>(Fish_mediumBuyer, Sweet_mediumBuyer, Wine_med...</td>\n",
              "      <td>0.194676</td>\n",
              "      <td>0.084859</td>\n",
              "      <td>0.055740</td>\n",
              "      <td>0.286325</td>\n",
              "      <td>3.374141</td>\n",
              "      <td>0.039221</td>\n",
              "      <td>1.282294</td>\n",
              "    </tr>\n",
              "    <tr>\n",
              "      <th>2345</th>\n",
              "      <td>(Fruit_mediumBuyer, Gold_mediumBuyer, Meat_med...</td>\n",
              "      <td>(Sweet_mediumBuyer, Wine_mediumBuyer)</td>\n",
              "      <td>0.103161</td>\n",
              "      <td>0.160566</td>\n",
              "      <td>0.054908</td>\n",
              "      <td>0.532258</td>\n",
              "      <td>3.314892</td>\n",
              "      <td>0.038344</td>\n",
              "      <td>1.794653</td>\n",
              "    </tr>\n",
              "    <tr>\n",
              "      <th>2364</th>\n",
              "      <td>(Sweet_mediumBuyer, Wine_mediumBuyer)</td>\n",
              "      <td>(Fruit_mediumBuyer, Gold_mediumBuyer, Meat_med...</td>\n",
              "      <td>0.160566</td>\n",
              "      <td>0.103161</td>\n",
              "      <td>0.054908</td>\n",
              "      <td>0.341969</td>\n",
              "      <td>3.314892</td>\n",
              "      <td>0.038344</td>\n",
              "      <td>1.362912</td>\n",
              "    </tr>\n",
              "    <tr>\n",
              "      <th>2139</th>\n",
              "      <td>(Fish_mediumBuyer, Meat_lowBuyer, Gold_mediumB...</td>\n",
              "      <td>(Wine_lowBuyer, Fruit_mediumBuyer)</td>\n",
              "      <td>0.085691</td>\n",
              "      <td>0.207987</td>\n",
              "      <td>0.058236</td>\n",
              "      <td>0.679612</td>\n",
              "      <td>3.267573</td>\n",
              "      <td>0.040414</td>\n",
              "      <td>2.472042</td>\n",
              "    </tr>\n",
              "    <tr>\n",
              "      <th>2150</th>\n",
              "      <td>(Wine_lowBuyer, Fruit_mediumBuyer)</td>\n",
              "      <td>(Fish_mediumBuyer, Meat_lowBuyer, Gold_mediumB...</td>\n",
              "      <td>0.207987</td>\n",
              "      <td>0.085691</td>\n",
              "      <td>0.058236</td>\n",
              "      <td>0.280000</td>\n",
              "      <td>3.267573</td>\n",
              "      <td>0.040414</td>\n",
              "      <td>1.269874</td>\n",
              "    </tr>\n",
              "  </tbody>\n",
              "</table>\n",
              "</div>\n",
              "      <button class=\"colab-df-convert\" onclick=\"convertToInteractive('df-8bccc134-c4ff-46dd-a573-3c708125166e')\"\n",
              "              title=\"Convert this dataframe to an interactive table.\"\n",
              "              style=\"display:none;\">\n",
              "        \n",
              "  <svg xmlns=\"http://www.w3.org/2000/svg\" height=\"24px\"viewBox=\"0 0 24 24\"\n",
              "       width=\"24px\">\n",
              "    <path d=\"M0 0h24v24H0V0z\" fill=\"none\"/>\n",
              "    <path d=\"M18.56 5.44l.94 2.06.94-2.06 2.06-.94-2.06-.94-.94-2.06-.94 2.06-2.06.94zm-11 1L8.5 8.5l.94-2.06 2.06-.94-2.06-.94L8.5 2.5l-.94 2.06-2.06.94zm10 10l.94 2.06.94-2.06 2.06-.94-2.06-.94-.94-2.06-.94 2.06-2.06.94z\"/><path d=\"M17.41 7.96l-1.37-1.37c-.4-.4-.92-.59-1.43-.59-.52 0-1.04.2-1.43.59L10.3 9.45l-7.72 7.72c-.78.78-.78 2.05 0 2.83L4 21.41c.39.39.9.59 1.41.59.51 0 1.02-.2 1.41-.59l7.78-7.78 2.81-2.81c.8-.78.8-2.07 0-2.86zM5.41 20L4 18.59l7.72-7.72 1.47 1.35L5.41 20z\"/>\n",
              "  </svg>\n",
              "      </button>\n",
              "      \n",
              "  <style>\n",
              "    .colab-df-container {\n",
              "      display:flex;\n",
              "      flex-wrap:wrap;\n",
              "      gap: 12px;\n",
              "    }\n",
              "\n",
              "    .colab-df-convert {\n",
              "      background-color: #E8F0FE;\n",
              "      border: none;\n",
              "      border-radius: 50%;\n",
              "      cursor: pointer;\n",
              "      display: none;\n",
              "      fill: #1967D2;\n",
              "      height: 32px;\n",
              "      padding: 0 0 0 0;\n",
              "      width: 32px;\n",
              "    }\n",
              "\n",
              "    .colab-df-convert:hover {\n",
              "      background-color: #E2EBFA;\n",
              "      box-shadow: 0px 1px 2px rgba(60, 64, 67, 0.3), 0px 1px 3px 1px rgba(60, 64, 67, 0.15);\n",
              "      fill: #174EA6;\n",
              "    }\n",
              "\n",
              "    [theme=dark] .colab-df-convert {\n",
              "      background-color: #3B4455;\n",
              "      fill: #D2E3FC;\n",
              "    }\n",
              "\n",
              "    [theme=dark] .colab-df-convert:hover {\n",
              "      background-color: #434B5C;\n",
              "      box-shadow: 0px 1px 3px 1px rgba(0, 0, 0, 0.15);\n",
              "      filter: drop-shadow(0px 1px 2px rgba(0, 0, 0, 0.3));\n",
              "      fill: #FFFFFF;\n",
              "    }\n",
              "  </style>\n",
              "\n",
              "      <script>\n",
              "        const buttonEl =\n",
              "          document.querySelector('#df-8bccc134-c4ff-46dd-a573-3c708125166e button.colab-df-convert');\n",
              "        buttonEl.style.display =\n",
              "          google.colab.kernel.accessAllowed ? 'block' : 'none';\n",
              "\n",
              "        async function convertToInteractive(key) {\n",
              "          const element = document.querySelector('#df-8bccc134-c4ff-46dd-a573-3c708125166e');\n",
              "          const dataTable =\n",
              "            await google.colab.kernel.invokeFunction('convertToInteractive',\n",
              "                                                     [key], {});\n",
              "          if (!dataTable) return;\n",
              "\n",
              "          const docLinkHtml = 'Like what you see? Visit the ' +\n",
              "            '<a target=\"_blank\" href=https://colab.research.google.com/notebooks/data_table.ipynb>data table notebook</a>'\n",
              "            + ' to learn more about interactive tables.';\n",
              "          element.innerHTML = '';\n",
              "          dataTable['output_type'] = 'display_data';\n",
              "          await google.colab.output.renderOutput(dataTable, element);\n",
              "          const docLink = document.createElement('div');\n",
              "          docLink.innerHTML = docLinkHtml;\n",
              "          element.appendChild(docLink);\n",
              "        }\n",
              "      </script>\n",
              "    </div>\n",
              "  </div>\n",
              "  "
            ]
          },
          "metadata": {},
          "execution_count": 60
        }
      ],
      "source": [
        "c1_enc = pd.get_dummies(cluster1)\n",
        "itemset_c1 = apriori(c1_enc, min_support = 0.05, use_colnames = True)\n",
        "apr_c1 = association_rules(itemset_c1, metric =\"lift\", min_threshold = 0.5)\n",
        "apr_c1.sort_values(by='lift', ascending=False).head(10)"
      ]
    },
    {
      "cell_type": "code",
      "execution_count": null,
      "metadata": {
        "colab": {
          "base_uri": "https://localhost:8080/",
          "height": 250
        },
        "id": "TGGyBYmSW-t4",
        "outputId": "8a89608c-d49a-490a-b1a7-a6043e57dd5e"
      },
      "outputs": [
        {
          "output_type": "execute_result",
          "data": {
            "text/plain": [
              "                            antecedents                           consequents  \\\n",
              "421                    (Gold_highBuyer)  (Wine_mediumBuyer, Meat_mediumBuyer)   \n",
              "418  (Wine_mediumBuyer, Gold_highBuyer)                    (Meat_mediumBuyer)   \n",
              "417  (Meat_mediumBuyer, Gold_highBuyer)                    (Wine_mediumBuyer)   \n",
              "95                     (Gold_highBuyer)                    (Meat_mediumBuyer)   \n",
              "37                     (Gold_highBuyer)                    (Wine_mediumBuyer)   \n",
              "\n",
              "     antecedent support  consequent support   support  confidence      lift  \\\n",
              "421            0.101498            0.278702  0.072379    0.713115  2.558698   \n",
              "418            0.079867            0.374376  0.072379    0.906250  2.420694   \n",
              "417            0.084027            0.369384  0.072379    0.861386  2.331951   \n",
              "95             0.101498            0.374376  0.084027    0.827869  2.211330   \n",
              "37             0.101498            0.369384  0.079867    0.786885  2.130261   \n",
              "\n",
              "     leverage  conviction  \n",
              "421  0.044092    2.514238  \n",
              "418  0.042479    6.673322  \n",
              "417  0.041341    4.549441  \n",
              "95   0.046028    3.634577  \n",
              "37   0.042375    2.959043  "
            ],
            "text/html": [
              "\n",
              "  <div id=\"df-d9198e11-4e74-458c-b5bf-f4e563cf420a\">\n",
              "    <div class=\"colab-df-container\">\n",
              "      <div>\n",
              "<style scoped>\n",
              "    .dataframe tbody tr th:only-of-type {\n",
              "        vertical-align: middle;\n",
              "    }\n",
              "\n",
              "    .dataframe tbody tr th {\n",
              "        vertical-align: top;\n",
              "    }\n",
              "\n",
              "    .dataframe thead th {\n",
              "        text-align: right;\n",
              "    }\n",
              "</style>\n",
              "<table border=\"1\" class=\"dataframe\">\n",
              "  <thead>\n",
              "    <tr style=\"text-align: right;\">\n",
              "      <th></th>\n",
              "      <th>antecedents</th>\n",
              "      <th>consequents</th>\n",
              "      <th>antecedent support</th>\n",
              "      <th>consequent support</th>\n",
              "      <th>support</th>\n",
              "      <th>confidence</th>\n",
              "      <th>lift</th>\n",
              "      <th>leverage</th>\n",
              "      <th>conviction</th>\n",
              "    </tr>\n",
              "  </thead>\n",
              "  <tbody>\n",
              "    <tr>\n",
              "      <th>421</th>\n",
              "      <td>(Gold_highBuyer)</td>\n",
              "      <td>(Wine_mediumBuyer, Meat_mediumBuyer)</td>\n",
              "      <td>0.101498</td>\n",
              "      <td>0.278702</td>\n",
              "      <td>0.072379</td>\n",
              "      <td>0.713115</td>\n",
              "      <td>2.558698</td>\n",
              "      <td>0.044092</td>\n",
              "      <td>2.514238</td>\n",
              "    </tr>\n",
              "    <tr>\n",
              "      <th>418</th>\n",
              "      <td>(Wine_mediumBuyer, Gold_highBuyer)</td>\n",
              "      <td>(Meat_mediumBuyer)</td>\n",
              "      <td>0.079867</td>\n",
              "      <td>0.374376</td>\n",
              "      <td>0.072379</td>\n",
              "      <td>0.906250</td>\n",
              "      <td>2.420694</td>\n",
              "      <td>0.042479</td>\n",
              "      <td>6.673322</td>\n",
              "    </tr>\n",
              "    <tr>\n",
              "      <th>417</th>\n",
              "      <td>(Meat_mediumBuyer, Gold_highBuyer)</td>\n",
              "      <td>(Wine_mediumBuyer)</td>\n",
              "      <td>0.084027</td>\n",
              "      <td>0.369384</td>\n",
              "      <td>0.072379</td>\n",
              "      <td>0.861386</td>\n",
              "      <td>2.331951</td>\n",
              "      <td>0.041341</td>\n",
              "      <td>4.549441</td>\n",
              "    </tr>\n",
              "    <tr>\n",
              "      <th>95</th>\n",
              "      <td>(Gold_highBuyer)</td>\n",
              "      <td>(Meat_mediumBuyer)</td>\n",
              "      <td>0.101498</td>\n",
              "      <td>0.374376</td>\n",
              "      <td>0.084027</td>\n",
              "      <td>0.827869</td>\n",
              "      <td>2.211330</td>\n",
              "      <td>0.046028</td>\n",
              "      <td>3.634577</td>\n",
              "    </tr>\n",
              "    <tr>\n",
              "      <th>37</th>\n",
              "      <td>(Gold_highBuyer)</td>\n",
              "      <td>(Wine_mediumBuyer)</td>\n",
              "      <td>0.101498</td>\n",
              "      <td>0.369384</td>\n",
              "      <td>0.079867</td>\n",
              "      <td>0.786885</td>\n",
              "      <td>2.130261</td>\n",
              "      <td>0.042375</td>\n",
              "      <td>2.959043</td>\n",
              "    </tr>\n",
              "  </tbody>\n",
              "</table>\n",
              "</div>\n",
              "      <button class=\"colab-df-convert\" onclick=\"convertToInteractive('df-d9198e11-4e74-458c-b5bf-f4e563cf420a')\"\n",
              "              title=\"Convert this dataframe to an interactive table.\"\n",
              "              style=\"display:none;\">\n",
              "        \n",
              "  <svg xmlns=\"http://www.w3.org/2000/svg\" height=\"24px\"viewBox=\"0 0 24 24\"\n",
              "       width=\"24px\">\n",
              "    <path d=\"M0 0h24v24H0V0z\" fill=\"none\"/>\n",
              "    <path d=\"M18.56 5.44l.94 2.06.94-2.06 2.06-.94-2.06-.94-.94-2.06-.94 2.06-2.06.94zm-11 1L8.5 8.5l.94-2.06 2.06-.94-2.06-.94L8.5 2.5l-.94 2.06-2.06.94zm10 10l.94 2.06.94-2.06 2.06-.94-2.06-.94-.94-2.06-.94 2.06-2.06.94z\"/><path d=\"M17.41 7.96l-1.37-1.37c-.4-.4-.92-.59-1.43-.59-.52 0-1.04.2-1.43.59L10.3 9.45l-7.72 7.72c-.78.78-.78 2.05 0 2.83L4 21.41c.39.39.9.59 1.41.59.51 0 1.02-.2 1.41-.59l7.78-7.78 2.81-2.81c.8-.78.8-2.07 0-2.86zM5.41 20L4 18.59l7.72-7.72 1.47 1.35L5.41 20z\"/>\n",
              "  </svg>\n",
              "      </button>\n",
              "      \n",
              "  <style>\n",
              "    .colab-df-container {\n",
              "      display:flex;\n",
              "      flex-wrap:wrap;\n",
              "      gap: 12px;\n",
              "    }\n",
              "\n",
              "    .colab-df-convert {\n",
              "      background-color: #E8F0FE;\n",
              "      border: none;\n",
              "      border-radius: 50%;\n",
              "      cursor: pointer;\n",
              "      display: none;\n",
              "      fill: #1967D2;\n",
              "      height: 32px;\n",
              "      padding: 0 0 0 0;\n",
              "      width: 32px;\n",
              "    }\n",
              "\n",
              "    .colab-df-convert:hover {\n",
              "      background-color: #E2EBFA;\n",
              "      box-shadow: 0px 1px 2px rgba(60, 64, 67, 0.3), 0px 1px 3px 1px rgba(60, 64, 67, 0.15);\n",
              "      fill: #174EA6;\n",
              "    }\n",
              "\n",
              "    [theme=dark] .colab-df-convert {\n",
              "      background-color: #3B4455;\n",
              "      fill: #D2E3FC;\n",
              "    }\n",
              "\n",
              "    [theme=dark] .colab-df-convert:hover {\n",
              "      background-color: #434B5C;\n",
              "      box-shadow: 0px 1px 3px 1px rgba(0, 0, 0, 0.15);\n",
              "      filter: drop-shadow(0px 1px 2px rgba(0, 0, 0, 0.3));\n",
              "      fill: #FFFFFF;\n",
              "    }\n",
              "  </style>\n",
              "\n",
              "      <script>\n",
              "        const buttonEl =\n",
              "          document.querySelector('#df-d9198e11-4e74-458c-b5bf-f4e563cf420a button.colab-df-convert');\n",
              "        buttonEl.style.display =\n",
              "          google.colab.kernel.accessAllowed ? 'block' : 'none';\n",
              "\n",
              "        async function convertToInteractive(key) {\n",
              "          const element = document.querySelector('#df-d9198e11-4e74-458c-b5bf-f4e563cf420a');\n",
              "          const dataTable =\n",
              "            await google.colab.kernel.invokeFunction('convertToInteractive',\n",
              "                                                     [key], {});\n",
              "          if (!dataTable) return;\n",
              "\n",
              "          const docLinkHtml = 'Like what you see? Visit the ' +\n",
              "            '<a target=\"_blank\" href=https://colab.research.google.com/notebooks/data_table.ipynb>data table notebook</a>'\n",
              "            + ' to learn more about interactive tables.';\n",
              "          element.innerHTML = '';\n",
              "          dataTable['output_type'] = 'display_data';\n",
              "          await google.colab.output.renderOutput(dataTable, element);\n",
              "          const docLink = document.createElement('div');\n",
              "          docLink.innerHTML = docLinkHtml;\n",
              "          element.appendChild(docLink);\n",
              "        }\n",
              "      </script>\n",
              "    </div>\n",
              "  </div>\n",
              "  "
            ]
          },
          "metadata": {},
          "execution_count": 61
        }
      ],
      "source": [
        "prod = apr_c1[apr_c1['antecedents'].astype(str).str.contains(\"highBuyer\", na=False)].sort_values(by='lift', ascending=False)\n",
        "prod.head()"
      ]
    },
    {
      "cell_type": "markdown",
      "metadata": {
        "id": "dTA6cZ7gffQr"
      },
      "source": [
        "Berdasarkan metode apriori, karakteristik yang paling mencolok dari cluster 1 adalah pembelian dengan jumlah rendah-menengah untuk produk anggur  dan  daging dan pembelian produk dengan jumlah medium untuk ikan, manisan, dan emas. Sedangkan untuk produk yang paling banyak terjual pada cluster ini adalah produk emas denga pembelian bersama anggur atau daging, atau keduanya."
      ]
    },
    {
      "cell_type": "markdown",
      "metadata": {
        "id": "xTFC6_fOWt65"
      },
      "source": [
        "## APRIORI CLUSTER 2"
      ]
    },
    {
      "cell_type": "code",
      "execution_count": null,
      "metadata": {
        "colab": {
          "base_uri": "https://localhost:8080/",
          "height": 528
        },
        "id": "eJMWi8bw50cD",
        "outputId": "df23dd7b-b8d7-42d5-8aa8-19dbf4bccb7b"
      },
      "outputs": [
        {
          "output_type": "execute_result",
          "data": {
            "text/plain": [
              "                                            antecedents  \\\n",
              "1312              (Fruit_mediumBuyer, Meat_mediumBuyer)   \n",
              "1313              (Fish_mediumBuyer, Sweet_mediumBuyer)   \n",
              "1310              (Fruit_mediumBuyer, Fish_mediumBuyer)   \n",
              "1315              (Sweet_mediumBuyer, Meat_mediumBuyer)   \n",
              "1314               (Fish_mediumBuyer, Meat_mediumBuyer)   \n",
              "1311             (Fruit_mediumBuyer, Sweet_mediumBuyer)   \n",
              "1316                                (Fruit_mediumBuyer)   \n",
              "1309  (Fish_mediumBuyer, Sweet_mediumBuyer, Meat_med...   \n",
              "1008                                (Fruit_mediumBuyer)   \n",
              "1001  (Wine_highBuyer, Sweet_mediumBuyer, Meat_mediu...   \n",
              "\n",
              "                                            consequents  antecedent support  \\\n",
              "1312              (Fish_mediumBuyer, Sweet_mediumBuyer)            0.126380   \n",
              "1313              (Fruit_mediumBuyer, Meat_mediumBuyer)            0.114110   \n",
              "1310              (Sweet_mediumBuyer, Meat_mediumBuyer)            0.125153   \n",
              "1315              (Fruit_mediumBuyer, Fish_mediumBuyer)            0.117791   \n",
              "1314             (Fruit_mediumBuyer, Sweet_mediumBuyer)            0.128834   \n",
              "1311               (Fish_mediumBuyer, Meat_mediumBuyer)            0.115337   \n",
              "1316  (Fish_mediumBuyer, Sweet_mediumBuyer, Meat_med...            0.260123   \n",
              "1309                                (Fruit_mediumBuyer)            0.067485   \n",
              "1008  (Wine_highBuyer, Sweet_mediumBuyer, Meat_mediu...            0.260123   \n",
              "1001                                (Fruit_mediumBuyer)            0.077301   \n",
              "\n",
              "      consequent support   support  confidence      lift  leverage  conviction  \n",
              "1312            0.114110  0.051534    0.407767  3.573442  0.037112    1.495846  \n",
              "1313            0.126380  0.051534    0.451613  3.573442  0.037112    1.593071  \n",
              "1310            0.117791  0.051534    0.411765  3.495711  0.036792    1.499755  \n",
              "1315            0.125153  0.051534    0.437500  3.495711  0.036792    1.555283  \n",
              "1314            0.115337  0.051534    0.400000  3.468085  0.036674    1.474438  \n",
              "1311            0.128834  0.051534    0.446809  3.468085  0.036674    1.574799  \n",
              "1316            0.067485  0.051534    0.198113  2.935678  0.033979    1.162901  \n",
              "1309            0.260123  0.051534    0.763636  2.935678  0.033979    3.130250  \n",
              "1008            0.077301  0.053988    0.207547  2.684936  0.033880    1.164359  \n",
              "1001            0.260123  0.053988    0.698413  2.684936  0.033880    2.453277  "
            ],
            "text/html": [
              "\n",
              "  <div id=\"df-3d6d69b5-6ce8-4e26-aa07-d8eeb1fa3670\">\n",
              "    <div class=\"colab-df-container\">\n",
              "      <div>\n",
              "<style scoped>\n",
              "    .dataframe tbody tr th:only-of-type {\n",
              "        vertical-align: middle;\n",
              "    }\n",
              "\n",
              "    .dataframe tbody tr th {\n",
              "        vertical-align: top;\n",
              "    }\n",
              "\n",
              "    .dataframe thead th {\n",
              "        text-align: right;\n",
              "    }\n",
              "</style>\n",
              "<table border=\"1\" class=\"dataframe\">\n",
              "  <thead>\n",
              "    <tr style=\"text-align: right;\">\n",
              "      <th></th>\n",
              "      <th>antecedents</th>\n",
              "      <th>consequents</th>\n",
              "      <th>antecedent support</th>\n",
              "      <th>consequent support</th>\n",
              "      <th>support</th>\n",
              "      <th>confidence</th>\n",
              "      <th>lift</th>\n",
              "      <th>leverage</th>\n",
              "      <th>conviction</th>\n",
              "    </tr>\n",
              "  </thead>\n",
              "  <tbody>\n",
              "    <tr>\n",
              "      <th>1312</th>\n",
              "      <td>(Fruit_mediumBuyer, Meat_mediumBuyer)</td>\n",
              "      <td>(Fish_mediumBuyer, Sweet_mediumBuyer)</td>\n",
              "      <td>0.126380</td>\n",
              "      <td>0.114110</td>\n",
              "      <td>0.051534</td>\n",
              "      <td>0.407767</td>\n",
              "      <td>3.573442</td>\n",
              "      <td>0.037112</td>\n",
              "      <td>1.495846</td>\n",
              "    </tr>\n",
              "    <tr>\n",
              "      <th>1313</th>\n",
              "      <td>(Fish_mediumBuyer, Sweet_mediumBuyer)</td>\n",
              "      <td>(Fruit_mediumBuyer, Meat_mediumBuyer)</td>\n",
              "      <td>0.114110</td>\n",
              "      <td>0.126380</td>\n",
              "      <td>0.051534</td>\n",
              "      <td>0.451613</td>\n",
              "      <td>3.573442</td>\n",
              "      <td>0.037112</td>\n",
              "      <td>1.593071</td>\n",
              "    </tr>\n",
              "    <tr>\n",
              "      <th>1310</th>\n",
              "      <td>(Fruit_mediumBuyer, Fish_mediumBuyer)</td>\n",
              "      <td>(Sweet_mediumBuyer, Meat_mediumBuyer)</td>\n",
              "      <td>0.125153</td>\n",
              "      <td>0.117791</td>\n",
              "      <td>0.051534</td>\n",
              "      <td>0.411765</td>\n",
              "      <td>3.495711</td>\n",
              "      <td>0.036792</td>\n",
              "      <td>1.499755</td>\n",
              "    </tr>\n",
              "    <tr>\n",
              "      <th>1315</th>\n",
              "      <td>(Sweet_mediumBuyer, Meat_mediumBuyer)</td>\n",
              "      <td>(Fruit_mediumBuyer, Fish_mediumBuyer)</td>\n",
              "      <td>0.117791</td>\n",
              "      <td>0.125153</td>\n",
              "      <td>0.051534</td>\n",
              "      <td>0.437500</td>\n",
              "      <td>3.495711</td>\n",
              "      <td>0.036792</td>\n",
              "      <td>1.555283</td>\n",
              "    </tr>\n",
              "    <tr>\n",
              "      <th>1314</th>\n",
              "      <td>(Fish_mediumBuyer, Meat_mediumBuyer)</td>\n",
              "      <td>(Fruit_mediumBuyer, Sweet_mediumBuyer)</td>\n",
              "      <td>0.128834</td>\n",
              "      <td>0.115337</td>\n",
              "      <td>0.051534</td>\n",
              "      <td>0.400000</td>\n",
              "      <td>3.468085</td>\n",
              "      <td>0.036674</td>\n",
              "      <td>1.474438</td>\n",
              "    </tr>\n",
              "    <tr>\n",
              "      <th>1311</th>\n",
              "      <td>(Fruit_mediumBuyer, Sweet_mediumBuyer)</td>\n",
              "      <td>(Fish_mediumBuyer, Meat_mediumBuyer)</td>\n",
              "      <td>0.115337</td>\n",
              "      <td>0.128834</td>\n",
              "      <td>0.051534</td>\n",
              "      <td>0.446809</td>\n",
              "      <td>3.468085</td>\n",
              "      <td>0.036674</td>\n",
              "      <td>1.574799</td>\n",
              "    </tr>\n",
              "    <tr>\n",
              "      <th>1316</th>\n",
              "      <td>(Fruit_mediumBuyer)</td>\n",
              "      <td>(Fish_mediumBuyer, Sweet_mediumBuyer, Meat_med...</td>\n",
              "      <td>0.260123</td>\n",
              "      <td>0.067485</td>\n",
              "      <td>0.051534</td>\n",
              "      <td>0.198113</td>\n",
              "      <td>2.935678</td>\n",
              "      <td>0.033979</td>\n",
              "      <td>1.162901</td>\n",
              "    </tr>\n",
              "    <tr>\n",
              "      <th>1309</th>\n",
              "      <td>(Fish_mediumBuyer, Sweet_mediumBuyer, Meat_med...</td>\n",
              "      <td>(Fruit_mediumBuyer)</td>\n",
              "      <td>0.067485</td>\n",
              "      <td>0.260123</td>\n",
              "      <td>0.051534</td>\n",
              "      <td>0.763636</td>\n",
              "      <td>2.935678</td>\n",
              "      <td>0.033979</td>\n",
              "      <td>3.130250</td>\n",
              "    </tr>\n",
              "    <tr>\n",
              "      <th>1008</th>\n",
              "      <td>(Fruit_mediumBuyer)</td>\n",
              "      <td>(Wine_highBuyer, Sweet_mediumBuyer, Meat_mediu...</td>\n",
              "      <td>0.260123</td>\n",
              "      <td>0.077301</td>\n",
              "      <td>0.053988</td>\n",
              "      <td>0.207547</td>\n",
              "      <td>2.684936</td>\n",
              "      <td>0.033880</td>\n",
              "      <td>1.164359</td>\n",
              "    </tr>\n",
              "    <tr>\n",
              "      <th>1001</th>\n",
              "      <td>(Wine_highBuyer, Sweet_mediumBuyer, Meat_mediu...</td>\n",
              "      <td>(Fruit_mediumBuyer)</td>\n",
              "      <td>0.077301</td>\n",
              "      <td>0.260123</td>\n",
              "      <td>0.053988</td>\n",
              "      <td>0.698413</td>\n",
              "      <td>2.684936</td>\n",
              "      <td>0.033880</td>\n",
              "      <td>2.453277</td>\n",
              "    </tr>\n",
              "  </tbody>\n",
              "</table>\n",
              "</div>\n",
              "      <button class=\"colab-df-convert\" onclick=\"convertToInteractive('df-3d6d69b5-6ce8-4e26-aa07-d8eeb1fa3670')\"\n",
              "              title=\"Convert this dataframe to an interactive table.\"\n",
              "              style=\"display:none;\">\n",
              "        \n",
              "  <svg xmlns=\"http://www.w3.org/2000/svg\" height=\"24px\"viewBox=\"0 0 24 24\"\n",
              "       width=\"24px\">\n",
              "    <path d=\"M0 0h24v24H0V0z\" fill=\"none\"/>\n",
              "    <path d=\"M18.56 5.44l.94 2.06.94-2.06 2.06-.94-2.06-.94-.94-2.06-.94 2.06-2.06.94zm-11 1L8.5 8.5l.94-2.06 2.06-.94-2.06-.94L8.5 2.5l-.94 2.06-2.06.94zm10 10l.94 2.06.94-2.06 2.06-.94-2.06-.94-.94-2.06-.94 2.06-2.06.94z\"/><path d=\"M17.41 7.96l-1.37-1.37c-.4-.4-.92-.59-1.43-.59-.52 0-1.04.2-1.43.59L10.3 9.45l-7.72 7.72c-.78.78-.78 2.05 0 2.83L4 21.41c.39.39.9.59 1.41.59.51 0 1.02-.2 1.41-.59l7.78-7.78 2.81-2.81c.8-.78.8-2.07 0-2.86zM5.41 20L4 18.59l7.72-7.72 1.47 1.35L5.41 20z\"/>\n",
              "  </svg>\n",
              "      </button>\n",
              "      \n",
              "  <style>\n",
              "    .colab-df-container {\n",
              "      display:flex;\n",
              "      flex-wrap:wrap;\n",
              "      gap: 12px;\n",
              "    }\n",
              "\n",
              "    .colab-df-convert {\n",
              "      background-color: #E8F0FE;\n",
              "      border: none;\n",
              "      border-radius: 50%;\n",
              "      cursor: pointer;\n",
              "      display: none;\n",
              "      fill: #1967D2;\n",
              "      height: 32px;\n",
              "      padding: 0 0 0 0;\n",
              "      width: 32px;\n",
              "    }\n",
              "\n",
              "    .colab-df-convert:hover {\n",
              "      background-color: #E2EBFA;\n",
              "      box-shadow: 0px 1px 2px rgba(60, 64, 67, 0.3), 0px 1px 3px 1px rgba(60, 64, 67, 0.15);\n",
              "      fill: #174EA6;\n",
              "    }\n",
              "\n",
              "    [theme=dark] .colab-df-convert {\n",
              "      background-color: #3B4455;\n",
              "      fill: #D2E3FC;\n",
              "    }\n",
              "\n",
              "    [theme=dark] .colab-df-convert:hover {\n",
              "      background-color: #434B5C;\n",
              "      box-shadow: 0px 1px 3px 1px rgba(0, 0, 0, 0.15);\n",
              "      filter: drop-shadow(0px 1px 2px rgba(0, 0, 0, 0.3));\n",
              "      fill: #FFFFFF;\n",
              "    }\n",
              "  </style>\n",
              "\n",
              "      <script>\n",
              "        const buttonEl =\n",
              "          document.querySelector('#df-3d6d69b5-6ce8-4e26-aa07-d8eeb1fa3670 button.colab-df-convert');\n",
              "        buttonEl.style.display =\n",
              "          google.colab.kernel.accessAllowed ? 'block' : 'none';\n",
              "\n",
              "        async function convertToInteractive(key) {\n",
              "          const element = document.querySelector('#df-3d6d69b5-6ce8-4e26-aa07-d8eeb1fa3670');\n",
              "          const dataTable =\n",
              "            await google.colab.kernel.invokeFunction('convertToInteractive',\n",
              "                                                     [key], {});\n",
              "          if (!dataTable) return;\n",
              "\n",
              "          const docLinkHtml = 'Like what you see? Visit the ' +\n",
              "            '<a target=\"_blank\" href=https://colab.research.google.com/notebooks/data_table.ipynb>data table notebook</a>'\n",
              "            + ' to learn more about interactive tables.';\n",
              "          element.innerHTML = '';\n",
              "          dataTable['output_type'] = 'display_data';\n",
              "          await google.colab.output.renderOutput(dataTable, element);\n",
              "          const docLink = document.createElement('div');\n",
              "          docLink.innerHTML = docLinkHtml;\n",
              "          element.appendChild(docLink);\n",
              "        }\n",
              "      </script>\n",
              "    </div>\n",
              "  </div>\n",
              "  "
            ]
          },
          "metadata": {},
          "execution_count": 62
        }
      ],
      "source": [
        "c2_enc = pd.get_dummies(cluster2)\n",
        "itemset_c2 = apriori(c2_enc, min_support = 0.05, use_colnames = True)\n",
        "apr_c2 = association_rules(itemset_c2, metric =\"lift\", min_threshold = 0.5)\n",
        "apr_c2.sort_values(by='lift', ascending=False).head(10)"
      ]
    },
    {
      "cell_type": "code",
      "execution_count": null,
      "metadata": {
        "colab": {
          "base_uri": "https://localhost:8080/",
          "height": 354
        },
        "id": "-kO7R1OG4VTv",
        "outputId": "25f2fa85-37f6-4e0f-f8eb-9de240220f37"
      },
      "outputs": [
        {
          "output_type": "execute_result",
          "data": {
            "text/plain": [
              "                                            antecedents  \\\n",
              "1001  (Wine_highBuyer, Sweet_mediumBuyer, Meat_mediu...   \n",
              "1007                (Sweet_mediumBuyer, Wine_highBuyer)   \n",
              "999   (Fruit_mediumBuyer, Meat_mediumBuyer, Wine_hig...   \n",
              "1049                (Sweet_mediumBuyer, Wine_highBuyer)   \n",
              "1006                 (Wine_highBuyer, Meat_mediumBuyer)   \n",
              "\n",
              "                                 consequents  antecedent support  \\\n",
              "1001                     (Fruit_mediumBuyer)            0.077301   \n",
              "1007   (Fruit_mediumBuyer, Meat_mediumBuyer)            0.161963   \n",
              "999                      (Sweet_mediumBuyer)            0.085890   \n",
              "1049   (Fruit_mediumBuyer, Fish_mediumBuyer)            0.161963   \n",
              "1006  (Fruit_mediumBuyer, Sweet_mediumBuyer)            0.180368   \n",
              "\n",
              "      consequent support   support  confidence      lift  leverage  conviction  \n",
              "1001            0.260123  0.053988    0.698413  2.684936  0.033880    2.453277  \n",
              "1007            0.126380  0.053988    0.333333  2.637540  0.033519    1.310429  \n",
              "999             0.239264  0.053988    0.628571  2.627106  0.033437    2.048136  \n",
              "1049            0.125153  0.052761    0.325758  2.602867  0.032490    1.297525  \n",
              "1006            0.115337  0.053988    0.299320  2.595166  0.033185    1.262577  "
            ],
            "text/html": [
              "\n",
              "  <div id=\"df-54e897e2-0514-41de-bfce-2a40c12c10cc\">\n",
              "    <div class=\"colab-df-container\">\n",
              "      <div>\n",
              "<style scoped>\n",
              "    .dataframe tbody tr th:only-of-type {\n",
              "        vertical-align: middle;\n",
              "    }\n",
              "\n",
              "    .dataframe tbody tr th {\n",
              "        vertical-align: top;\n",
              "    }\n",
              "\n",
              "    .dataframe thead th {\n",
              "        text-align: right;\n",
              "    }\n",
              "</style>\n",
              "<table border=\"1\" class=\"dataframe\">\n",
              "  <thead>\n",
              "    <tr style=\"text-align: right;\">\n",
              "      <th></th>\n",
              "      <th>antecedents</th>\n",
              "      <th>consequents</th>\n",
              "      <th>antecedent support</th>\n",
              "      <th>consequent support</th>\n",
              "      <th>support</th>\n",
              "      <th>confidence</th>\n",
              "      <th>lift</th>\n",
              "      <th>leverage</th>\n",
              "      <th>conviction</th>\n",
              "    </tr>\n",
              "  </thead>\n",
              "  <tbody>\n",
              "    <tr>\n",
              "      <th>1001</th>\n",
              "      <td>(Wine_highBuyer, Sweet_mediumBuyer, Meat_mediu...</td>\n",
              "      <td>(Fruit_mediumBuyer)</td>\n",
              "      <td>0.077301</td>\n",
              "      <td>0.260123</td>\n",
              "      <td>0.053988</td>\n",
              "      <td>0.698413</td>\n",
              "      <td>2.684936</td>\n",
              "      <td>0.033880</td>\n",
              "      <td>2.453277</td>\n",
              "    </tr>\n",
              "    <tr>\n",
              "      <th>1007</th>\n",
              "      <td>(Sweet_mediumBuyer, Wine_highBuyer)</td>\n",
              "      <td>(Fruit_mediumBuyer, Meat_mediumBuyer)</td>\n",
              "      <td>0.161963</td>\n",
              "      <td>0.126380</td>\n",
              "      <td>0.053988</td>\n",
              "      <td>0.333333</td>\n",
              "      <td>2.637540</td>\n",
              "      <td>0.033519</td>\n",
              "      <td>1.310429</td>\n",
              "    </tr>\n",
              "    <tr>\n",
              "      <th>999</th>\n",
              "      <td>(Fruit_mediumBuyer, Meat_mediumBuyer, Wine_hig...</td>\n",
              "      <td>(Sweet_mediumBuyer)</td>\n",
              "      <td>0.085890</td>\n",
              "      <td>0.239264</td>\n",
              "      <td>0.053988</td>\n",
              "      <td>0.628571</td>\n",
              "      <td>2.627106</td>\n",
              "      <td>0.033437</td>\n",
              "      <td>2.048136</td>\n",
              "    </tr>\n",
              "    <tr>\n",
              "      <th>1049</th>\n",
              "      <td>(Sweet_mediumBuyer, Wine_highBuyer)</td>\n",
              "      <td>(Fruit_mediumBuyer, Fish_mediumBuyer)</td>\n",
              "      <td>0.161963</td>\n",
              "      <td>0.125153</td>\n",
              "      <td>0.052761</td>\n",
              "      <td>0.325758</td>\n",
              "      <td>2.602867</td>\n",
              "      <td>0.032490</td>\n",
              "      <td>1.297525</td>\n",
              "    </tr>\n",
              "    <tr>\n",
              "      <th>1006</th>\n",
              "      <td>(Wine_highBuyer, Meat_mediumBuyer)</td>\n",
              "      <td>(Fruit_mediumBuyer, Sweet_mediumBuyer)</td>\n",
              "      <td>0.180368</td>\n",
              "      <td>0.115337</td>\n",
              "      <td>0.053988</td>\n",
              "      <td>0.299320</td>\n",
              "      <td>2.595166</td>\n",
              "      <td>0.033185</td>\n",
              "      <td>1.262577</td>\n",
              "    </tr>\n",
              "  </tbody>\n",
              "</table>\n",
              "</div>\n",
              "      <button class=\"colab-df-convert\" onclick=\"convertToInteractive('df-54e897e2-0514-41de-bfce-2a40c12c10cc')\"\n",
              "              title=\"Convert this dataframe to an interactive table.\"\n",
              "              style=\"display:none;\">\n",
              "        \n",
              "  <svg xmlns=\"http://www.w3.org/2000/svg\" height=\"24px\"viewBox=\"0 0 24 24\"\n",
              "       width=\"24px\">\n",
              "    <path d=\"M0 0h24v24H0V0z\" fill=\"none\"/>\n",
              "    <path d=\"M18.56 5.44l.94 2.06.94-2.06 2.06-.94-2.06-.94-.94-2.06-.94 2.06-2.06.94zm-11 1L8.5 8.5l.94-2.06 2.06-.94-2.06-.94L8.5 2.5l-.94 2.06-2.06.94zm10 10l.94 2.06.94-2.06 2.06-.94-2.06-.94-.94-2.06-.94 2.06-2.06.94z\"/><path d=\"M17.41 7.96l-1.37-1.37c-.4-.4-.92-.59-1.43-.59-.52 0-1.04.2-1.43.59L10.3 9.45l-7.72 7.72c-.78.78-.78 2.05 0 2.83L4 21.41c.39.39.9.59 1.41.59.51 0 1.02-.2 1.41-.59l7.78-7.78 2.81-2.81c.8-.78.8-2.07 0-2.86zM5.41 20L4 18.59l7.72-7.72 1.47 1.35L5.41 20z\"/>\n",
              "  </svg>\n",
              "      </button>\n",
              "      \n",
              "  <style>\n",
              "    .colab-df-container {\n",
              "      display:flex;\n",
              "      flex-wrap:wrap;\n",
              "      gap: 12px;\n",
              "    }\n",
              "\n",
              "    .colab-df-convert {\n",
              "      background-color: #E8F0FE;\n",
              "      border: none;\n",
              "      border-radius: 50%;\n",
              "      cursor: pointer;\n",
              "      display: none;\n",
              "      fill: #1967D2;\n",
              "      height: 32px;\n",
              "      padding: 0 0 0 0;\n",
              "      width: 32px;\n",
              "    }\n",
              "\n",
              "    .colab-df-convert:hover {\n",
              "      background-color: #E2EBFA;\n",
              "      box-shadow: 0px 1px 2px rgba(60, 64, 67, 0.3), 0px 1px 3px 1px rgba(60, 64, 67, 0.15);\n",
              "      fill: #174EA6;\n",
              "    }\n",
              "\n",
              "    [theme=dark] .colab-df-convert {\n",
              "      background-color: #3B4455;\n",
              "      fill: #D2E3FC;\n",
              "    }\n",
              "\n",
              "    [theme=dark] .colab-df-convert:hover {\n",
              "      background-color: #434B5C;\n",
              "      box-shadow: 0px 1px 3px 1px rgba(0, 0, 0, 0.15);\n",
              "      filter: drop-shadow(0px 1px 2px rgba(0, 0, 0, 0.3));\n",
              "      fill: #FFFFFF;\n",
              "    }\n",
              "  </style>\n",
              "\n",
              "      <script>\n",
              "        const buttonEl =\n",
              "          document.querySelector('#df-54e897e2-0514-41de-bfce-2a40c12c10cc button.colab-df-convert');\n",
              "        buttonEl.style.display =\n",
              "          google.colab.kernel.accessAllowed ? 'block' : 'none';\n",
              "\n",
              "        async function convertToInteractive(key) {\n",
              "          const element = document.querySelector('#df-54e897e2-0514-41de-bfce-2a40c12c10cc');\n",
              "          const dataTable =\n",
              "            await google.colab.kernel.invokeFunction('convertToInteractive',\n",
              "                                                     [key], {});\n",
              "          if (!dataTable) return;\n",
              "\n",
              "          const docLinkHtml = 'Like what you see? Visit the ' +\n",
              "            '<a target=\"_blank\" href=https://colab.research.google.com/notebooks/data_table.ipynb>data table notebook</a>'\n",
              "            + ' to learn more about interactive tables.';\n",
              "          element.innerHTML = '';\n",
              "          dataTable['output_type'] = 'display_data';\n",
              "          await google.colab.output.renderOutput(dataTable, element);\n",
              "          const docLink = document.createElement('div');\n",
              "          docLink.innerHTML = docLinkHtml;\n",
              "          element.appendChild(docLink);\n",
              "        }\n",
              "      </script>\n",
              "    </div>\n",
              "  </div>\n",
              "  "
            ]
          },
          "metadata": {},
          "execution_count": 63
        }
      ],
      "source": [
        "prod = apr_c2[apr_c2['antecedents'].astype(str).str.contains(\"highBuyer\", na=False)].sort_values(by='lift', ascending=False)\n",
        "prod.head()"
      ]
    },
    {
      "cell_type": "markdown",
      "metadata": {
        "id": "l_l33LjJf0D3"
      },
      "source": [
        "\n",
        "\n",
        "Berdasarkan metode apriori, karakteristik yang paling mencolok dari cluster 2 adalah pembelian dengan jumlah menengah untuk produk meat, fruit, fish, sweet. Sedangkan untuk produk yang paling banyak terjual pada cluster ini adalah produk wine, yang biasanya dibeli bersamaan dengan meat, fruit, fish, dan sweet"
      ]
    },
    {
      "cell_type": "markdown",
      "source": [
        "#15. KESIMPULAN APRIORI"
      ],
      "metadata": {
        "id": "yaNxinYN0oZK"
      }
    },
    {
      "cell_type": "markdown",
      "source": [
        "Berdasarkan metode apriori yang telah dilakukan, maka dapat ditarik kesimpulan sebagai berikut:\n",
        "\n",
        "\n",
        "\n",
        "1.   Berdasarkan metoe apriori, karakteristik yang paling mencolok dari cluster 0 adalah pembelian yang rendah untuk produk ikan dan manisan , jumlah pembelian produk menegah untuk produk daging dan buah-buhan, dan jumlah pembelian produk yang tinggi untuk produk anggur. Sedangkan untuk produk yang paling banyak terjual pada cluster ini adalah produk anggur , yang biasanya dibeli bersamaan dengan ikan, buah-buahan dan daging.ggur , yang biasanya dibeli bersamaan dengan ikan, buah-buahan dan daging\n",
        "\n",
        "2.  Berdasarkan metode apriori, karakteristik yang paling mencolok dari cluster 1 adalah pembelian dengan jumlah rendah-menengah untuk produk anggur  dan  daging dan pembelian produk dengan jumlah medium untuk ikan, manisan, dan emas. Sedangkan untuk produk yang paling banyak terjual pada cluster ini adalah produk emas denga pembelian bersama anggur atau daging, atau keduanya.\n",
        "\n",
        "3. Berdasarkan metode apriori, karakteristik yang paling mencolok dari cluster 2 adalah pembelian dengan jumlah menengah untuk produk meat, fruit, fish, sweet. Sedangkan untuk produk yang paling banyak terjual pada cluster ini adalah produk wine, yang biasanya dibeli bersamaan dengan meat, fruit, fish, dan sweet\n",
        "\n"
      ],
      "metadata": {
        "id": "gaoRaTzF0vBj"
      }
    }
  ],
  "metadata": {
    "colab": {
      "collapsed_sections": [
        "pSUjMcMMCTyd",
        "PxROOIdBCTyf",
        "OwEattUPCTyg",
        "-O3ISAAyX9hZ",
        "I-JItYNiCTyh",
        "ptXlsYU_CTyh",
        "YNz0AJLSz6Te",
        "5ohDNiNtO0OY",
        "JnjGcwwbVrjn",
        "oHYYdGM8WY4M",
        "wztfiziiWgkY"
      ],
      "provenance": []
    },
    "kernelspec": {
      "display_name": "Python 3",
      "name": "python3"
    },
    "language_info": {
      "name": "python"
    }
  },
  "nbformat": 4,
  "nbformat_minor": 0
}